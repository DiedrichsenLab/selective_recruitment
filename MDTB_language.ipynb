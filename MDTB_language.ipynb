{
 "cells": [
  {
   "cell_type": "code",
   "execution_count": 1,
   "metadata": {},
   "outputs": [],
   "source": [
    "import os\n",
    "import numpy as np\n",
    "import seaborn as sns # for plots\n",
    "import pandas as pd\n",
    "from pathlib import Path\n",
    "import matplotlib.pyplot as plt\n",
    "from scipy import stats as sps # to calcualte confidence intervals, etc\n",
    "from adjustText import adjust_text # to adjust the text labels in the plots (pip install adjustText)\n",
    "\n",
    "from statsmodels.stats.anova import AnovaRM # perform F test"
   ]
  },
  {
   "cell_type": "code",
   "execution_count": 5,
   "metadata": {},
   "outputs": [],
   "source": [
    "# setting directories\n",
    "base_dir = '/Volumes/diedrichsen_data$/data/FunctionalFusion'\n",
    "if not Path(base_dir).exists():\n",
    "    base_dir = '/srv/diedrichsen/data/FunctionalFusion'\n",
    "if not Path(base_dir).exists():\n",
    "    base_dir = '/cifs/diedrichsen/data/FunctionalFusion'\n",
    "atlas_dir = base_dir + '/Atlases'\n",
    "\n",
    "language_dir = '/srv/diedrichsen/data/Cerebellum/Language'\n",
    "if not Path(language_dir).exists():\n",
    "    language_dir = '/cifs/diedrichsen/data/Cerebellum/Language'\n",
    "if not Path(language_dir).exists:\n",
    "    language_dir = '/Volumes/diedrichsen_data$/data/Cerebellum/Language'"
   ]
  },
  {
   "cell_type": "code",
   "execution_count": 3,
   "metadata": {},
   "outputs": [],
   "source": [
    "# Functions\n",
    "# prepare dataframe for plotting\n",
    "def prep_df(dataframe, agg_kw = {}, groupby = \"cond_name\"):\n",
    "    \"\"\"\n",
    "    prepare the region dataframe to do the scatter plot\n",
    "    gets the mean across subjects (data point) and std of residuals\n",
    "    Args:\n",
    "        dataframe (pd.DataFrame) - dataframe with residuals info \n",
    "        agg_kw (dict) - dictionary determining info for dataframe aggregation\n",
    "\n",
    "    Returns:\n",
    "    g_df (pd.DataFrame) - dataframe ready for putting into the scatterplot function\n",
    "    \"\"\"\n",
    "    # group by condition\n",
    "    grouped = dataframe.groupby([groupby])\n",
    "    g_df = grouped.agg(agg_kw)\n",
    "    \n",
    "    g_std = grouped.std(numeric_only=True)\n",
    "    g_df[\"Y_CI\"] = grouped.Y.apply(sps.sem) * 1.96\n",
    "    g_df[\"X_CI\"] = grouped.X.apply(sps.sem)*1.96\n",
    "    g_df['err'] = g_std['res']\n",
    "    \n",
    "    return g_df\n",
    "\n",
    "\n",
    "# plotting:\n",
    "def make_plot(dataframe, hue = \"cond_name\", style = \"cond_name\", height = 4, aspect = 1):\n",
    "    \"\"\"\n",
    "    make scatterplot\n",
    "    uses FacetGrid \n",
    "    Args: \n",
    "    dataframe (pd.DataFrame) - output from prep_df\n",
    "    hue (str)      - column name to be used to determine color\n",
    "    style (str)    - column name to be used to determine shape of the marker\n",
    "    label (str)    - column name to be used to determine the label of the data points\n",
    "    height (int)   - int to determine the height of the plot\n",
    "    aspect (float) - floating number to determine the aspect ratio of the plot\n",
    "    \"\"\"\n",
    "    g = sns.FacetGrid(dataframe,  height=height, aspect=aspect)\n",
    "    # do the scatter plot\n",
    "    g.map_dataframe(sns.scatterplot, x=\"X\", y=\"Y\", \n",
    "                                    style = style, hue = hue, s = 50)\n",
    "    g.add_legend()\n",
    "\n",
    "    # fit the regression on top of the scatterplot\n",
    "    g.map_dataframe(sns.regplot, x=\"X\", y=\"Y\", \n",
    "                        fit_reg=True, \n",
    "                        scatter_kws={\"s\": 0}, # size is set to 0 so that it doesn't cover the markers created in the scatterplot step \n",
    "                        line_kws={'label':\"Linear Reg\", \"color\": 'grey'})\n",
    "\n",
    "    # put the errorbars in \n",
    "    g.map(plt.errorbar, x = df_preped['X'], \n",
    "                        y = df_preped['Y'], \n",
    "                        yerr = df_preped['err'],\n",
    "                        elinewidth=1, \n",
    "                        fmt='none', # no marker will be used when plotting the error bars\n",
    "                        color='grey', \n",
    "                        ecolor='0.9'\n",
    "                )\n",
    "    # set labels\n",
    "    g.set_xlabels('Cortical Activation (a.u.)')\n",
    "    g.set_ylabels('Cerebellar Activation (a.u.)')\n"
   ]
  },
  {
   "cell_type": "code",
   "execution_count": 8,
   "metadata": {},
   "outputs": [
    {
     "name": "stdout",
     "output_type": "stream",
     "text": [
      "        sn     cond_name  Unnamed: 0.2  index  Unnamed: 0.1  run  instruction  \\\n",
      "0   sub-02  PredictScram           3.0    5.0           5.0  1.0          0.0   \n",
      "1   sub-02   PredictViol           2.0    4.0           4.0  1.0          0.0   \n",
      "2   sub-02    Prediction           1.0    3.0           3.0  1.0          0.0   \n",
      "3   sub-03  PredictScram           3.0    5.0           5.0  1.0          0.0   \n",
      "4   sub-03   PredictViol           2.0    4.0           4.0  1.0          0.0   \n",
      "..     ...           ...           ...    ...           ...  ...          ...   \n",
      "67  sub-30   PredictViol           2.0    4.0           4.0  1.0          0.0   \n",
      "68  sub-30    Prediction           1.0    3.0           3.0  1.0          0.0   \n",
      "69  sub-31  PredictScram           3.0    5.0           5.0  1.0          0.0   \n",
      "70  sub-31   PredictViol           2.0    4.0           4.0  1.0          0.0   \n",
      "71  sub-31    Prediction           1.0    3.0           3.0  1.0          0.0   \n",
      "\n",
      "    task_num  cond_num  reg_num  reg_id  study  cond_num_uni  task_num_uni  \\\n",
      "0        2.0       4.0      5.0     5.0    2.0          33.0          19.0   \n",
      "1        2.0       3.0      4.0     4.0    2.0          32.0          19.0   \n",
      "2        2.0       2.0      3.0     3.0    2.0          31.0          19.0   \n",
      "3        2.0       4.0      5.0     5.0    2.0          33.0          19.0   \n",
      "4        2.0       3.0      4.0     4.0    2.0          32.0          19.0   \n",
      "..       ...       ...      ...     ...    ...           ...           ...   \n",
      "67       2.0       3.0      4.0     4.0    2.0          32.0          19.0   \n",
      "68       2.0       2.0      3.0     3.0    2.0          31.0          19.0   \n",
      "69       2.0       4.0      5.0     5.0    2.0          33.0          19.0   \n",
      "70       2.0       3.0      4.0     4.0    2.0          32.0          19.0   \n",
      "71       2.0       2.0      3.0     3.0    2.0          31.0          19.0   \n",
      "\n",
      "    common         X         Y  label  \n",
      "0      0.0  0.003396  0.012880    1.0  \n",
      "1      0.0 -0.041620 -0.041303    1.0  \n",
      "2      0.0 -0.017808 -0.034650    1.0  \n",
      "3      0.0  0.007553  0.004590    1.0  \n",
      "4      0.0 -0.019678  0.008589    1.0  \n",
      "..     ...       ...       ...    ...  \n",
      "67     0.0  0.011516 -0.011373    1.0  \n",
      "68     0.0  0.016127  0.000023    1.0  \n",
      "69     0.0 -0.019617 -0.020814    1.0  \n",
      "70     0.0 -0.039811 -0.032174    1.0  \n",
      "71     0.0 -0.028506 -0.031416    1.0  \n",
      "\n",
      "[72 rows x 18 columns]\n"
     ]
    },
    {
     "name": "stderr",
     "output_type": "stream",
     "text": [
      "/tmp/ipykernel_59510/1749602021.py:8: FutureWarning: The default value of numeric_only in DataFrameGroupBy.mean is deprecated. In a future version, numeric_only will default to False. Either specify numeric_only or select only columns which should be valid for the function.\n",
      "  df_averaged = conditions_df.groupby(['sn', 'cond_name']).mean()\n"
     ]
    }
   ],
   "source": [
    "# load the dataframe for the whole \n",
    "df_path = os.path.join(language_dir, \"MDTB\", \"whole_ses-s2.tsv\")\n",
    "df = pd.read_csv(df_path, sep=\"\\t\")\n",
    "\n",
    "conditions_df = df[df['cond_name'].isin(['PredictViol','Prediction','PredictScram'])]\n",
    "\n",
    "\n",
    "df_averaged = conditions_df.groupby(['sn', 'cond_name']).mean()\n",
    "df_averaged = df_averaged.drop(columns=['half','res','coef','R2'])\n",
    "df_averaged = df_averaged.reset_index()\n",
    "print(df_averaged)\n"
   ]
  },
  {
   "cell_type": "code",
   "execution_count": 9,
   "metadata": {},
   "outputs": [
    {
     "name": "stderr",
     "output_type": "stream",
     "text": [
      "/tmp/ipykernel_59510/3647883168.py:11: FutureWarning: In a future version of pandas, a length 1 tuple will be returned when iterating over a groupby with a grouper equal to a list of length 1. Don't supply a list with a single grouper to avoid this warning.\n",
      "  for name, group in sn_groups:\n"
     ]
    },
    {
     "data": {
      "text/plain": [
       "<matplotlib.axes._subplots.AxesSubplot at 0x7fd4e43bef40>"
      ]
     },
     "execution_count": 9,
     "metadata": {},
     "output_type": "execute_result"
    },
    {
     "data": {
      "image/png": "[encoded data removed]",
      "text/plain": [
       "<Figure size 640x480 with 1 Axes>"
      ]
     },
     "metadata": {},
     "output_type": "display_data"
    }
   ],
   "source": [
    "df_residuals = df_averaged.copy()\n",
    "\n",
    "#create new columns to store the slope and intercept\n",
    "df_residuals['slope'] = np.nan\n",
    "df_residuals['intercept'] = np.nan\n",
    "\n",
    "#group the dataframe by sn\n",
    "sn_groups = df_residuals.groupby(['sn'])\n",
    "\n",
    "#calculate slope and intercept for each subject\n",
    "for name, group in sn_groups:\n",
    "    # fit linear reg model\n",
    "    slope, intercept = np.polyfit(group['X'], group['Y'], 1)\n",
    "    # save values\n",
    "    df_residuals.loc[df_residuals['sn'] == name, 'slope'] = slope\n",
    "    df_residuals.loc[df_residuals['sn'] == name, 'intercept'] = intercept\n",
    "\n",
    "# calcualte each res\n",
    "for index, row in df_residuals.iterrows():\n",
    "\n",
    "    Y_pred = row['slope'] * row['X'] + row['intercept']\n",
    "\n",
    "    res = row['Y'] - Y_pred\n",
    "\n",
    "    df_residuals.loc[index, 'Y_pred'] = Y_pred\n",
    "    df_residuals.loc[index, 'res'] = res\n",
    "\n",
    "sns.barplot(data=df_residuals,x='cond_name',y='res')"
   ]
  },
  {
   "cell_type": "code",
   "execution_count": 10,
   "metadata": {},
   "outputs": [],
   "source": [
    "# prepare df for plotting\n",
    "# by setting non-numeric fields to 'first', we make sure that they are not removed from the final dataframe\n",
    "agg_kw= {'cond_name': 'first', 'X': np.mean, 'Y': np.mean, 'res': np.mean}\n",
    "df_preped = prep_df(df_residuals ,groupby = \"cond_name\", agg_kw=agg_kw)"
   ]
  },
  {
   "cell_type": "code",
   "execution_count": 11,
   "metadata": {},
   "outputs": [
    {
     "data": {
      "image/png": "[encoded data removed]",
      "text/plain": [
       "<Figure size 542.875x400 with 1 Axes>"
      ]
     },
     "metadata": {},
     "output_type": "display_data"
    }
   ],
   "source": [
    "make_plot(df_preped, hue = \"cond_name\", style = \"cond_name\", height = 4, aspect = 1)"
   ]
  },
  {
   "cell_type": "code",
   "execution_count": 12,
   "metadata": {},
   "outputs": [
    {
     "name": "stdout",
     "output_type": "stream",
     "text": [
      "                 Anova\n",
      "=======================================\n",
      "          F Value Num DF  Den DF Pr > F\n",
      "---------------------------------------\n",
      "cond_name  0.4251 2.0000 46.0000 0.6562\n",
      "=======================================\n",
      "\n"
     ]
    }
   ],
   "source": [
    "print(AnovaRM(data=df_residuals, depvar='res',\n",
    "              subject='sn', within=['cond_name'], aggregate_func = np.mean).fit())"
   ]
  }
 ],
 "metadata": {
  "interpreter": {
   "hash": "916dbcbb3f70747c44a77c7bcd40155683ae19c65e1c03b4aa3499c5328201f1"
  },
  "kernelspec": {
   "display_name": "Python 3.8.10 64-bit",
   "language": "python",
   "name": "python3"
  },
  "language_info": {
   "codemirror_mode": {
    "name": "ipython",
    "version": 3
   },
   "file_extension": ".py",
   "mimetype": "text/x-python",
   "name": "python",
   "nbconvert_exporter": "python",
   "pygments_lexer": "ipython3",
   "version": "3.8.10"
  },
  "orig_nbformat": 4
 },
 "nbformat": 4,
 "nbformat_minor": 2
}
