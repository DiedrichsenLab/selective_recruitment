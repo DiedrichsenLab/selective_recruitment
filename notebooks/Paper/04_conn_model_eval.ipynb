{
 "cells": [
  {
   "cell_type": "code",
   "execution_count": 81,
   "metadata": {},
   "outputs": [],
   "source": [
    "import sys\n",
    "sys.path.append('..')\n",
    "sys.path.append('../..')\n",
    "sys.path.append('../../..')\n",
    "import numpy as np\n",
    "import pandas as pd\n",
    "import seaborn as sns\n",
    "import cortico_cereb_connectivity.globals as gl\n",
    "import cortico_cereb_connectivity.run_model as rm\n",
    "import matplotlib.pyplot as plt\n",
    "import scipy.stats as stats\n",
    "from statsmodels.stats.anova import AnovaRM  # perform F test\n",
    "\n",
    "\n",
    "import cortico_cereb_connectivity.scripts.script_train_eval_models as ste\n",
    "\n",
    "import warnings\n",
    "warnings.filterwarnings('ignore')"
   ]
  },
  {
   "cell_type": "markdown",
   "metadata": {},
   "source": [
    "##  Evaluate different models\n",
    "Fusion9: ['Demand'','IBC','MDTB','Somatotopic','Nishimoto'],\n",
    "\n",
    "MDTB:['ses-s1'], This is the connectivity model we used in the connectivity paper\n",
    "\n",
    "MDTB:['ses-s1', 'ses-s2'] The connectivity weights will be averaged over ses-s1 and ses-s2\n",
    "\n",
    "For each of the models, both Ridge and lasso regression will be considered\n"
   ]
  },
  {
   "cell_type": "markdown",
   "metadata": {},
   "source": [
    "# What is the best performing model trained only on ses-s1 for MDTB"
   ]
  },
  {
   "cell_type": "code",
   "execution_count": 45,
   "metadata": {},
   "outputs": [],
   "source": [
    "# get the best performing model for Md_ses-s1, L1 and L2 regression\n",
    "dfs1=rm.comb_eval(models=['Md_ses-s1'],eval_t = 'eval', methods =['L2regression', 'L1regression'])\n",
    "dfs1['model'].fillna('avg',inplace=True)\n",
    "dfs1['nanY']=np.isnan(dfs1.noiseceiling_Y)\n",
    "dfs1['nanXY']=np.isnan(dfs1.noiseceiling_XY)\n",
    "dfs1['nanXR']=np.isnan(dfs1.noise_X_R)"
   ]
  },
  {
   "cell_type": "code",
   "execution_count": 54,
   "metadata": {},
   "outputs": [],
   "source": [
    "# determine the best logalpha for each regularization method\n",
    "## for L1 regression\n",
    "ds_L1 = dfs1.loc[dfs1.method=='L1regression']\n",
    "A_L1 = pd.pivot_table(ds_L1,index=['train_dataset'],columns=['logalpha'],values=['R_eval'])\n",
    "B_L1 = np.nan_to_num(A_L1.values)\n",
    "ind_L1 = B_L1.argmax(axis=1)\n",
    "log_a_L1=np.array(A_L1.columns.get_level_values(1)[ind_L1])\n",
    "bestla_L1 = pd.DataFrame(log_a_L1,index=A_L1.index,columns=['best_logalpha'])\n",
    "ds_L1['isbest'] = ds_L1.logalpha.values  == bestla_L1.loc[ds_L1.train_dataset].values.flatten()\n",
    "\n",
    "## for L2 regression\n",
    "ds_L2 = dfs1.loc[dfs1.method=='L2regression']\n",
    "A_L2 = pd.pivot_table(ds_L2,index=['train_dataset'],columns=['logalpha'],values=['R_eval'])\n",
    "B_L2 = np.nan_to_num(A_L2.values)\n",
    "ind_L2 = B_L2.argmax(axis=1)\n",
    "log_a_L2=np.array(A_L2.columns.get_level_values(1)[ind_L2])\n",
    "bestla_L2 = pd.DataFrame(log_a_L2,index=A_L2.index,columns=['best_logalpha'])\n",
    "ds_L2['isbest'] = ds_L2.logalpha.values  == bestla_L2.loc[ds_L2.train_dataset].values.flatten()"
   ]
  },
  {
   "cell_type": "markdown",
   "metadata": {},
   "source": [
    "# What is the best performing model trained only on all sessions for MDTB"
   ]
  },
  {
   "cell_type": "code",
   "execution_count": 55,
   "metadata": {},
   "outputs": [],
   "source": [
    "# get the best performing model for Md_ses-s1, L1 and L2 regression\n",
    "dfall=rm.comb_eval(models=['Md'],eval_t = 'eval', methods =['L2regression', 'L1regression'])\n",
    "dfall['model'].fillna('avg',inplace=True)\n",
    "dfall['nanY']=np.isnan(dfs1.noiseceiling_Y)\n",
    "dfall['nanXY']=np.isnan(dfs1.noiseceiling_XY)\n",
    "dfall['nanXR']=np.isnan(dfs1.noise_X_R)"
   ]
  },
  {
   "cell_type": "code",
   "execution_count": 57,
   "metadata": {},
   "outputs": [],
   "source": [
    "# determine the best logalpha for each regularization method\n",
    "# for L1 regression\n",
    "d_L1 = dfall.loc[dfall.method=='L1regression']\n",
    "A_L1 = pd.pivot_table(d_L1,index=['train_dataset'],columns=['logalpha'],values=['R_eval'])\n",
    "B_L1 = np.nan_to_num(A_L1.values)\n",
    "ind_L1 = B_L1.argmax(axis=1)\n",
    "log_a_L1=np.array(A_L1.columns.get_level_values(1)[ind_L1])\n",
    "bestla_L1 = pd.DataFrame(log_a_L1,index=A_L1.index,columns=['best_logalpha'])\n",
    "d_L1['isbest'] = d_L1.logalpha.values  == bestla_L1.loc[d_L1.train_dataset].values.flatten()\n",
    "\n",
    "# for L2 regression\n",
    "d_L2 = dfall.loc[dfall.method=='L2regression']\n",
    "A_L2 = pd.pivot_table(d_L2,index=['train_dataset'],columns=['logalpha'],values=['R_eval'])\n",
    "B_L2 = np.nan_to_num(A_L2.values)\n",
    "ind_L2 = B_L2.argmax(axis=1)\n",
    "log_a_L2=np.array(A_L2.columns.get_level_values(1)[ind_L2])\n",
    "bestla_L2 = pd.DataFrame(log_a_L2,index=A_L2.index,columns=['best_logalpha'])\n",
    "d_L2['isbest'] = d_L2.logalpha.values  == bestla_L2.loc[d_L2.train_dataset].values.flatten()"
   ]
  },
  {
   "cell_type": "markdown",
   "metadata": {},
   "source": [
    "# prep for comparing models\n"
   ]
  },
  {
   "cell_type": "code",
   "execution_count": 60,
   "metadata": {},
   "outputs": [],
   "source": [
    "# first get the best L1 and L2 for Md_ses-s1 and Md and concatenate them\n",
    "d1 = d_L1.loc[d_L1.isbest]\n",
    "d2 = d_L2.loc[d_L2.isbest]\n",
    "d3 = ds_L1.loc[ds_L1.isbest]\n",
    "d4 = ds_L2.loc[ds_L2.isbest]\n",
    "\n",
    "D_Md = pd.concat([d1,d2,d3,d4],axis=0)"
   ]
  },
  {
   "cell_type": "markdown",
   "metadata": {},
   "source": [
    "# Now get the fused model\n"
   ]
  },
  {
   "cell_type": "code",
   "execution_count": 67,
   "metadata": {},
   "outputs": [],
   "source": [
    "# Add the favorite Fusion model\n",
    "dfuse = rm.comb_eval(models=['Fu09'],eval_t = 'eval', methods=['L1regression', 'L2regression'])\n",
    "# dall\n",
    "# ho = ['MDTB','Nishimoto','IBC','WMFS','Demand','Somatotopic','HCP','Fusion']\n",
    "# palette = [[1,0,0],[0,1,0],[0,0,1],[0.5,1,0],[1,0,0],[0,0.7,0.7],[0,0,0]]\n",
    "# ax=plt.gca()\n",
    "# a=ax.set_xticklabels(ho, rotation = 90)\n",
    "# plt.savefig(fig_dir + '/connectivity_model_fusion.pdf')"
   ]
  },
  {
   "cell_type": "code",
   "execution_count": 103,
   "metadata": {},
   "outputs": [
    {
     "data": {
      "text/plain": [
       "Index(['eval_subj', 'num_regions', 'train_dataset', 'train_ses', 'train_type',\n",
       "       'cerebellum', 'cortex', 'method', 'logalpha', 'R_train', 'rmse_train',\n",
       "       'R_cv', 'rmse_cv', 'eval_dataset', 'eval_ses', 'parcellation',\n",
       "       'crossed', 'add_rest', 'splitby', 'type', 'cv_fold', 'model', 'R_eval',\n",
       "       'R2_eval', 'noise_Y_R', 'noise_Y_R2', 'noise_X_R', 'noise_X_R2',\n",
       "       'noiseceiling_Y', 'noiseceiling_XY', 'R_eval_adj', 'nanY', 'nanXY',\n",
       "       'nanXR', 'isbest', 'extension'],\n",
       "      dtype='object')"
      ]
     },
     "execution_count": 103,
     "metadata": {},
     "output_type": "execute_result"
    }
   ],
   "source": [
    "dall.columns"
   ]
  },
  {
   "cell_type": "code",
   "execution_count": 105,
   "metadata": {},
   "outputs": [
    {
     "data": {
      "text/plain": [
       "<AxesSubplot: ylabel='R_eval'>"
      ]
     },
     "execution_count": 105,
     "metadata": {},
     "output_type": "execute_result"
    },
    {
     "data": {
      "image/png": "[encoded data removed]",
      "text/plain": [
       "<Figure size 640x480 with 1 Axes>"
      ]
     },
     "metadata": {},
     "output_type": "display_data"
    }
   ],
   "source": [
    "# concatenate the two dataframes\n",
    "dall = pd.concat([D_Md,dfuse],ignore_index=True)\n",
    "sns.barplot(data=dall,x=dall['train_dataset'] + dall['train_ses'],y='R_eval', hue = \"method\")\n"
   ]
  },
  {
   "cell_type": "code",
   "execution_count": 86,
   "metadata": {},
   "outputs": [
    {
     "name": "stdout",
     "output_type": "stream",
     "text": [
      "t(205) = 16.502, p=1.4711e-30\n"
     ]
    }
   ],
   "source": [
    "# is MDTB_all better than MDTB_ses-s1? separate L1 and L2 regression\n",
    "d = dall.loc[dall.method == 'L1regression']\n",
    "t=stats.ttest_rel(d[(d['train_dataset']=='MDTB') & (d['train_ses'] == \"all\")]['R_eval'],\n",
    "                  d[(d['train_dataset']=='MDTB') & (d['train_ses'] == \"ses-s1\")]['R_eval'])\n",
    "\n",
    "indx =d['train_dataset']=='MDTB'\n",
    "df=indx.sum()-1\n",
    "print(f't({df}) = {t.statistic:.3f}, p={t.pvalue:.4e}')"
   ]
  },
  {
   "cell_type": "code",
   "execution_count": 88,
   "metadata": {},
   "outputs": [
    {
     "name": "stdout",
     "output_type": "stream",
     "text": [
      "t(205) = 6.887, p=4.7820e-10\n"
     ]
    }
   ],
   "source": [
    "# is Fusion_all beteter than MDTB_all? separate L1 and L2 regression\n",
    "d = dall.loc[dall.method == 'L2regression']\n",
    "t=stats.ttest_rel(d[(d['train_dataset']=='Fusion') & (d['train_ses'] == \"all\")]['R_eval'],\n",
    "                  d[(d['train_dataset']=='MDTB') & (d['train_ses'] == \"all\")]['R_eval'])\n",
    "\n",
    "indx =d['train_dataset']=='MDTB'\n",
    "df=indx.sum()-1\n",
    "print(f't({df}) = {t.statistic:.3f}, p={t.pvalue:.4e}')"
   ]
  },
  {
   "cell_type": "code",
   "execution_count": 91,
   "metadata": {},
   "outputs": [
    {
     "name": "stdout",
     "output_type": "stream",
     "text": [
      "t(205) = 1.764, p=8.0666e-02\n"
     ]
    }
   ],
   "source": [
    "# is fusion_all L2 regression better than fusion_all L1 regression?\n",
    "d = dall.loc[dall.train_dataset == 'Fusion']\n",
    "t=stats.ttest_rel(d[(d['method'] == \"L2regression\")]['R_eval'],\n",
    "                  d[(d['method'] == \"L1regression\")]['R_eval'])\n",
    "\n",
    "indx =d['train_dataset']=='Fusion'\n",
    "df=indx.sum()-1\n",
    "print(f't({df}) = {t.statistic:.3f}, p={t.pvalue:.4e}')"
   ]
  },
  {
   "cell_type": "code",
   "execution_count": 96,
   "metadata": {},
   "outputs": [
    {
     "name": "stdout",
     "output_type": "stream",
     "text": [
      "t(411) = 5.999, p=3.0412e-08\n"
     ]
    }
   ],
   "source": [
    "# is MDTB_all L2 regression better than MDTB_all L1 regression?\n",
    "d = dall.loc[dall.train_dataset == 'MDTB']\n",
    "t=stats.ttest_rel(d[(d['train_ses']=='all') & (d['method'] == \"L2regression\")]['R_eval'],\n",
    "                  d[(d['train_ses']=='all') & (d['method'] == \"L1regression\")]['R_eval'])\n",
    "\n",
    "indx =d['train_dataset']=='MDTB'\n",
    "df=indx.sum()-1\n",
    "print(f't({df}) = {t.statistic:.3f}, p={t.pvalue:.4e}')"
   ]
  },
  {
   "cell_type": "code",
   "execution_count": 98,
   "metadata": {},
   "outputs": [
    {
     "name": "stdout",
     "output_type": "stream",
     "text": [
      "R_eval 0.4210 + 0.17\n",
      "R_eval 0.7209 \n",
      "Average noiseceiling0.5841 \n",
      "variance predicted:0.5197\n"
     ]
    }
   ],
   "source": [
    "# What predicition accuracy relative to noise-ceiling? Fusion L2regression\n",
    "dd = dall.loc[(dall.train_dataset == 'Fusion') & (dall.method == 'L2regression')]\n",
    "print(f\"R_eval {dd.R_eval.mean():.4f} + {dd.R_eval.std():.2f}\")\n",
    "adj = dd.R_eval.mean() / dd.noiseceiling_XY.mean() \n",
    "print(f\"R_eval {adj:.4f} \") \n",
    "print(f'Average noiseceiling{dd.noiseceiling_XY.mean():.4f} ')\n",
    "print(f'variance predicted:{adj**2:.4f}')"
   ]
  },
  {
   "cell_type": "code",
   "execution_count": 99,
   "metadata": {},
   "outputs": [
    {
     "name": "stdout",
     "output_type": "stream",
     "text": [
      "R_eval 0.4162 + 0.15\n",
      "R_eval 0.7217 \n",
      "Average noiseceiling0.5767 \n",
      "variance predicted:0.5208\n"
     ]
    }
   ],
   "source": [
    "# What predicition accuracy relative to noise-ceiling? Fusion L1regression\n",
    "dd = dall.loc[(dall.train_dataset == 'Fusion') & (dall.method == 'L1regression')]\n",
    "print(f\"R_eval {dd.R_eval.mean():.4f} + {dd.R_eval.std():.2f}\")\n",
    "adj = dd.R_eval.mean() / dd.noiseceiling_XY.mean() \n",
    "print(f\"R_eval {adj:.4f} \") \n",
    "print(f'Average noiseceiling{dd.noiseceiling_XY.mean():.4f} ')\n",
    "print(f'variance predicted:{adj**2:.4f}')"
   ]
  },
  {
   "cell_type": "code",
   "execution_count": 101,
   "metadata": {},
   "outputs": [
    {
     "name": "stdout",
     "output_type": "stream",
     "text": [
      "R_eval 0.3215 + 0.12\n",
      "R_eval 0.6910 \n",
      "Average noiseceiling0.4652 \n",
      "variance predicted:0.4775\n"
     ]
    }
   ],
   "source": [
    "# What predicition accuracy relative to noise-ceiling? MDTB_all L2regression\n",
    "dd = dall.loc[(dall.train_dataset == 'MDTB') & (dall.train_ses == \"all\") & (dall.method == 'L1regression')]\n",
    "print(f\"R_eval {dd.R_eval.mean():.4f} + {dd.R_eval.std():.2f}\")\n",
    "adj = dd.R_eval.mean() / dd.noiseceiling_XY.mean() \n",
    "print(f\"R_eval {adj:.4f} \") \n",
    "print(f'Average noiseceiling{dd.noiseceiling_XY.mean():.4f} ')\n",
    "print(f'variance predicted:{adj**2:.4f}')"
   ]
  },
  {
   "cell_type": "code",
   "execution_count": null,
   "metadata": {},
   "outputs": [],
   "source": []
  }
 ],
 "metadata": {
  "kernelspec": {
   "display_name": ".venv",
   "language": "python",
   "name": "python3"
  },
  "language_info": {
   "codemirror_mode": {
    "name": "ipython",
    "version": 3
   },
   "file_extension": ".py",
   "mimetype": "text/x-python",
   "name": "python",
   "nbconvert_exporter": "python",
   "pygments_lexer": "ipython3",
   "version": "3.10.11"
  }
 },
 "nbformat": 4,
 "nbformat_minor": 2
}
