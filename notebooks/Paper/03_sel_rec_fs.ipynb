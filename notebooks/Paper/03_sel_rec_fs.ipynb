{
 "cells": [
  {
   "cell_type": "code",
   "execution_count": null,
   "metadata": {},
   "outputs": [],
   "source": [
    "import sys\n",
    "sys.path.append('../../..')\n",
    "sys.path.append('../..')\n",
    "sys.path.append('..')\n",
    "\n",
    "from selective_recruitment.plotting import make_scatterplot\n",
    "from selective_recruitment.scripts.script_mapwise import calc_ttest_mean\n",
    "import selective_recruitment.data as ss\n",
    "import selective_recruitment.regress as ra\n",
    "import selective_recruitment.region as sroi\n",
    "\n",
    "from statsmodels.stats.anova import AnovaRM  # perform F test\n",
    "from scipy.stats import ttest_rel\n",
    "\n",
    "from pathlib import Path\n",
    "import pandas as pd\n",
    "import numpy as np\n",
    "\n"
   ]
  },
  {
   "cell_type": "code",
   "execution_count": null,
   "metadata": {},
   "outputs": [],
   "source": [
    "# setting working directory\n",
    "wkdir = 'A:\\data\\Cerebellum\\CerebellumWorkingMemory\\selective_recruit'\n",
    "if not Path(wkdir).exists():\n",
    "    wkdir = '/srv/diedrichsen/data/Cerebellum/CerebellumWorkingMemory/selective_recruit'\n",
    "if not Path(wkdir).exists():\n",
    "    wkdir = '/Users/jdiedrichsen/Data/wm_cerebellum/selective_recruit'\n",
    "if not Path(wkdir).exists():\n",
    "    wkdir = '/Volumes/diedrichsen_data$/data/Cerebellum/CerebellumWorkingMemory/selective_recruit'"
   ]
  },
  {
   "cell_type": "markdown",
   "metadata": {},
   "source": [
    "# selective recruitment: ROI-based\n",
    "scatterplots and statistical tests on the residuals for the selected region of interest"
   ]
  },
  {
   "cell_type": "code",
   "execution_count": null,
   "metadata": {},
   "outputs": [],
   "source": [
    "# setting up names and colors\n",
    "label_dict = {1: 'LfLs', 2: 'LfMs',\n",
    "              3: 'LfHs', 4: 'MfLs',\n",
    "              5: 'HfLs', 6:'rest'}\n",
    "marker_dict = {1: '^', 2: 'X',\n",
    "               3: 'X', 4: 'o',\n",
    "               5: 'o', 6: 's'}\n",
    "color_dict = {1: 'grey', 2: 'r',\n",
    "              3: 'r', 4: 'b',\n",
    "              5: 'b', 6: 'g'}"
   ]
  },
  {
   "cell_type": "markdown",
   "metadata": {},
   "source": [
    "## Prepare the data for the scatterplot and the test"
   ]
  },
  {
   "cell_type": "markdown",
   "metadata": {},
   "source": [
    "* Pick one parcellation: Here NettekovenSym32, a data-driven hierarchical symmetric parcellation. ROI will be selected from this parcellation.\n",
    "* ss.get_summary_conn first uses a connectivity model to get predicted values for all the cerebellar voxels and then summarize the predicted values by averaging the values within the selected region of interest.\n"
   ]
  },
  {
   "cell_type": "code",
   "execution_count": null,
   "metadata": {},
   "outputs": [],
   "source": [
    "# get the summary df with observed and predicted activation within cerebellar parcels\n",
    "dataset = \"WMFS\"\n",
    "ses_id = 'ses-01'\n",
    "parcellation = \"NettekovenSym32\"\n",
    "cortex = \"Icosahedron1002\"\n",
    "D = ss.get_summary_conn(dataset = dataset,\n",
    "                     ses_id = ses_id,\n",
    "                     subj = None, # to do all the subjects\n",
    "                     atlas_space = \"SUIT3\",\n",
    "                     cerebellum_roi = parcellation,\n",
    "                     cerebellum_roi_selected = None,\n",
    "                     cortex_roi = \"Icosahedron1002\",\n",
    "                     type = \"CondHalf\",\n",
    "                     add_rest = True,\n",
    "                     mname_base = 'MDTB_all_Icosahedron_L2regression',\n",
    "                     mname_ext = '_A8',\n",
    "                     crossed = True)\n",
    "D = ra.roi_regress(D, fit_intercept=True)\n",
    "D.to_csv(wkdir + f'/fs_ROI_{parcellation}_conn_reg.tsv', sep='\\t')\n",
    "D = pd.read_csv(wkdir + f'/fs_ROI_{parcellation}_conn_reg.tsv', sep='\\t')"
   ]
  },
  {
   "cell_type": "markdown",
   "metadata": {},
   "source": [
    "### Select region of interest.\n",
    "Here we pick one parcel by first focusing on one network, the most relevant network: here the motor network. From the sub-regions within that network, we pick the one that shows consistently high activation throughout the task"
   ]
  },
  {
   "cell_type": "code",
   "execution_count": null,
   "metadata": {},
   "outputs": [],
   "source": [
    "roi_exp = \"M..\" # roi_exp = \"D.?3.?R|D.?3.?L\" # roi_exp = \"D.?3.?R\"\n",
    "_, _, selected_ = sroi.get_parcel_single(parcellation = parcellation, \n",
    "                                               atlas_space = \"SUIT3\",\n",
    "                                               roi_exp = roi_exp)\n",
    "print(selected_)\n",
    "table = pd.pivot_table(D.loc[np.isin(D.roi_name.values, selected_)], values='Y', index=['roi_name'], aggfunc=np.mean)\n",
    "sorted_regions = table.sort_values(by=[\"Y\"],ascending=False)\n",
    "display(sorted_regions.T)\n",
    "roi_selected = sorted_regions.T.columns[0]\n",
    "print(f\"selected region is {roi_selected}\")\n"
   ]
  },
  {
   "cell_type": "markdown",
   "metadata": {},
   "source": [
    "### make the scatterplot and test the residuals"
   ]
  },
  {
   "cell_type": "code",
   "execution_count": null,
   "metadata": {},
   "outputs": [],
   "source": [
    "# get the dataframe with the selected region\n",
    "df = D.loc[D.roi_name == \"M3R\"]\n",
    "make_scatterplot(df, split='cond_num',\n",
    "                labels=label_dict,\n",
    "                markers=marker_dict,\n",
    "                colors=color_dict)\n",
    "# # plt.xlabel(\"predicted cerebellar activation\")\n",
    "# # # plt.savefig(\"working_memory_D3R_scatter.pdf\")\n",
    "print(AnovaRM(data=df[df.cond_name != 'rest'], depvar='res',subject='sn', within=['cond_name'], aggregate_func=np.mean).fit())"
   ]
  },
  {
   "cell_type": "code",
   "execution_count": null,
   "metadata": {},
   "outputs": [],
   "source": []
  },
  {
   "cell_type": "code",
   "execution_count": null,
   "metadata": {},
   "outputs": [],
   "source": []
  }
 ],
 "metadata": {
  "kernelspec": {
   "display_name": ".venv",
   "language": "python",
   "name": "python3"
  },
  "language_info": {
   "codemirror_mode": {
    "name": "ipython",
    "version": 3
   },
   "file_extension": ".py",
   "mimetype": "text/x-python",
   "name": "python",
   "nbconvert_exporter": "python",
   "pygments_lexer": "ipython3",
   "version": "3.10.11"
  },
  "orig_nbformat": 4
 },
 "nbformat": 4,
 "nbformat_minor": 2
}
