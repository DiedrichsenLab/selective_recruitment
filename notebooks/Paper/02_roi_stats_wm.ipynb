{
 "cells": [
  {
   "cell_type": "code",
   "execution_count": 2,
   "metadata": {},
   "outputs": [
    {
     "name": "stderr",
     "output_type": "stream",
     "text": [
      "/Users/lshahsha/Documents/GitHub/selective_recruitment/.sr-venv/lib/python3.9/site-packages/urllib3/__init__.py:34: NotOpenSSLWarning: urllib3 v2 only supports OpenSSL 1.1.1+, currently the 'ssl' module is compiled with 'LibreSSL 2.8.3'. See: https://github.com/urllib3/urllib3/issues/3020\n",
      "  warnings.warn(\n"
     ]
    }
   ],
   "source": [
    "from selective_recruitment.plotting import make_scatterplot\n",
    "from selective_recruitment.scripts.script_mapwise import calc_ttest_mean\n",
    "from selective_recruitment.scripts.script_roi_differences import norm_within_category # for results after normalization\n",
    "import selective_recruitment.data as ss\n",
    "import selective_recruitment.regress as ra\n",
    "import selective_recruitment.region as sroi\n",
    "import selective_recruitment.globals as gl\n",
    "\n",
    "import Functional_Fusion.dataset as ds\n",
    "\n",
    "from statsmodels.stats.anova import AnovaRM  # perform F test\n",
    "from scipy.stats import ttest_rel\n",
    "\n",
    "from pathlib import Path\n",
    "import pandas as pd\n",
    "import numpy as np\n",
    "import nitools as nt\n",
    "import nibabel as nb\n",
    "\n",
    "import matplotlib.pyplot as plt"
   ]
  },
  {
   "cell_type": "code",
   "execution_count": 3,
   "metadata": {},
   "outputs": [],
   "source": [
    "# setting working directory\n",
    "wkdir = 'A:\\data\\Cerebellum\\CerebellumWorkingMemory\\selective_recruit'\n",
    "if not Path(wkdir).exists():\n",
    "    wkdir = '/srv/diedrichsen/data/Cerebellum/CerebellumWorkingMemory/selective_recruit'\n",
    "if not Path(wkdir).exists():\n",
    "    wkdir = '/Users/jdiedrichsen/Data/wm_cerebellum/selective_recruit'\n",
    "if not Path(wkdir).exists():\n",
    "    wkdir = '/Volumes/diedrichsen_data$/data/Cerebellum/CerebellumWorkingMemory/selective_recruit'"
   ]
  },
  {
   "cell_type": "markdown",
   "metadata": {},
   "source": [
    "# Reporting stats within M1 and S1 in the cortex"
   ]
  },
  {
   "cell_type": "code",
   "execution_count": 8,
   "metadata": {},
   "outputs": [],
   "source": [
    "# # get the tensor data\n",
    "# tensor,info,dset = ds.get_dataset(gl.base_dir,\n",
    "#                                   dataset='WMFS',\n",
    "#                                   atlas=\"fs32k\",\n",
    "#                                   sess=\"ses-02\",\n",
    "#                                   subj=None,\n",
    "#                                   type = \"CondAll\")"
   ]
  },
  {
   "cell_type": "code",
   "execution_count": 9,
   "metadata": {},
   "outputs": [],
   "source": [
    "# # get the average within each roi\n",
    "# D = ss.average_rois(tensor,\n",
    "#                 info,\n",
    "#                 atlas_space = \"fs32k\",\n",
    "#                 atlas_roi = \"glasser_selected\",\n",
    "#                 roi_selected = None,\n",
    "#                 unite_struct = False,\n",
    "#                 space = \"fs32k\", \n",
    "#                 var = \"X\")\n",
    "\n",
    "# # save the data\n",
    "# D.to_csv(Path(wkdir) / \"wm_glasser_selected_df.csv\")\n",
    "# load the data\n",
    "D = pd.read_csv(Path(wkdir) / \"wm_glasser_selected_df.csv\")"
   ]
  },
  {
   "cell_type": "code",
   "execution_count": 10,
   "metadata": {},
   "outputs": [
    {
     "name": "stdout",
     "output_type": "stream",
     "text": [
      "TtestResult(statistic=10.519215582621738, pvalue=2.5569741869998016e-08, df=15)\n",
      "TtestResult(statistic=9.566376757051708, pvalue=8.924928095765633e-08, df=15)\n"
     ]
    }
   ],
   "source": [
    "# get regions in left hemisphere that are M1 and S1\n",
    "DD = D.loc[D.roi_name.str.contains(\"ROI_0\") | D.roi_name.str.contains(\"ROI_43\") | D.roi_name.str.contains(\"ROI_44\") | \n",
    "           D.roi_name.str.contains(\"ROI_47\") | D.roi_name.str.contains(\"ROI_48\") | D.roi_name.str.contains(\"ROI_78\") | \n",
    "           D.roi_name.str.contains(\"ROI_80\") | D.roi_name.str.contains(\"ROI_82\")]\n",
    "\n",
    "# pivot table with subjects as rows and conditions as columns\n",
    "A = DD.pivot_table(index=\"sn\",columns=\"phase\",values=\"X\")\n",
    "\n",
    "# one sample t test for each condition\n",
    "print(ttest_rel(A[0],np.zeros(len(A[0]))))\n",
    "print(ttest_rel(A[1],np.zeros(len(A[1]))))"
   ]
  },
  {
   "cell_type": "markdown",
   "metadata": {},
   "source": [
    "# Reporting stats within multi-demand area in the cerebellum "
   ]
  },
  {
   "cell_type": "code",
   "execution_count": 11,
   "metadata": {},
   "outputs": [],
   "source": [
    "# # get the tensor data\n",
    "# tensor,info,dset = ds.get_dataset(gl.base_dir,\n",
    "#                                   dataset='WMFS',\n",
    "#                                   atlas=\"SUIT3\",\n",
    "#                                   sess=\"ses-02\",\n",
    "#                                   subj=None,\n",
    "#                                   type = \"CondAll\")"
   ]
  },
  {
   "cell_type": "code",
   "execution_count": 12,
   "metadata": {},
   "outputs": [],
   "source": [
    "# get the average within each roi\n",
    "# D = ss.average_rois(tensor,\n",
    "#                 info,\n",
    "#                 atlas_space = \"SUIT3\",\n",
    "#                 atlas_roi = \"NettekovenSym32\",\n",
    "#                 roi_selected = None,\n",
    "#                 unite_struct = False,\n",
    "#                 space = \"SUIT\", \n",
    "#                 var = \"Y\")\n",
    "\n",
    "# # save the data\n",
    "# D.to_csv(Path(wkdir) / \"wm_NettekovenSym32_df.csv\")\n",
    "# load the data\n",
    "D = pd.read_csv(Path(wkdir) / \"wm_NettekovenSym32_df.csv\")"
   ]
  },
  {
   "cell_type": "code",
   "execution_count": 13,
   "metadata": {},
   "outputs": [
    {
     "name": "stdout",
     "output_type": "stream",
     "text": [
      "TtestResult(statistic=2.10740842521983, pvalue=0.052320445839614343, df=15)\n",
      "TtestResult(statistic=4.769418631281278, pvalue=0.0002483565411802093, df=15)\n"
     ]
    }
   ],
   "source": [
    "# get regions in left hemisphere that are M1 and S1\n",
    "DD = D.loc[D.roi_name.str.contains(\"M3R\")]\n",
    "\n",
    "# pivot table with subjects as rows and conditions as columns\n",
    "A = DD.pivot_table(index=\"sn\",columns=\"phase\",values=\"Y\")\n",
    "\n",
    "# one sample t test for each condition\n",
    "print(ttest_rel(A[0],np.zeros(len(A[0]))))\n",
    "print(ttest_rel(A[1],np.zeros(len(A[1]))))"
   ]
  },
  {
   "cell_type": "code",
   "execution_count": null,
   "metadata": {},
   "outputs": [],
   "source": []
  },
  {
   "cell_type": "code",
   "execution_count": null,
   "metadata": {},
   "outputs": [],
   "source": []
  }
 ],
 "metadata": {
  "kernelspec": {
   "display_name": ".sr-venv",
   "language": "python",
   "name": "python3"
  },
  "language_info": {
   "codemirror_mode": {
    "name": "ipython",
    "version": 3
   },
   "file_extension": ".py",
   "mimetype": "text/x-python",
   "name": "python",
   "nbconvert_exporter": "python",
   "pygments_lexer": "ipython3",
   "version": "3.9.6"
  }
 },
 "nbformat": 4,
 "nbformat_minor": 2
}
