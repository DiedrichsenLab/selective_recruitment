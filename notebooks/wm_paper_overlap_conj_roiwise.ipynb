{
 "cells": [
  {
   "cell_type": "code",
   "execution_count": 2,
   "metadata": {},
   "outputs": [],
   "source": [
    "import numpy as np\n",
    "import pandas as pd\n",
    "from scipy import stats\n",
    "\n",
    "import selective_recruitment.data as sdata\n",
    "import selective_recruitment.globals as gl\n",
    "import selective_recruitment.region as sreg\n",
    "\n",
    "import Functional_Fusion.dataset as ds\n",
    "import Functional_Fusion.atlas_map as am"
   ]
  },
  {
   "attachments": {},
   "cell_type": "markdown",
   "metadata": {},
   "source": [
    "# statistically investigate conjunctions between the contrasts of interest at the coarse areal level\n",
    "areas - multiple demand regions identified in hierarchical parcellations"
   ]
  },
  {
   "cell_type": "code",
   "execution_count": 3,
   "metadata": {},
   "outputs": [],
   "source": [
    "dataset = \"WMFS\"\n",
    "ses_id = \"ses-02\"\n",
    "atlas_suit = \"SUIT3\"\n",
    "parcellation = \"NettekovenSym68c32\""
   ]
  },
  {
   "cell_type": "code",
   "execution_count": 4,
   "metadata": {},
   "outputs": [
    {
     "data": {
      "text/plain": [
       "(16, 12, 32)"
      ]
     },
     "execution_count": 4,
     "metadata": {},
     "output_type": "execute_result"
    }
   ],
   "source": [
    "# get cerebellar data\n",
    "data_cereb,info,dset = ds.get_dataset(gl.base_dir,\n",
    "                                dataset = dataset,\n",
    "                                atlas=atlas_suit,\n",
    "                                sess=ses_id,\n",
    "                                subj=None,\n",
    "                                type = \"CondAll\",  \n",
    "                                smooth = None)\n",
    "# aggregate data over parcels\n",
    "atlas, ainfo = am.get_atlas(atlas_dir=gl.atlas_dir, atlas_str=atlas_suit)\n",
    "# get label file\n",
    "labels = gl.atlas_dir + f'/{ainfo[\"dir\"]}/atl-{parcellation}_space-SUIT_dseg.nii'\n",
    "label_vec, _ = atlas.get_parcel(labels)\n",
    "parcel_data, parcel_labels = ds.agg_parcels(data_cereb , \n",
    "                                                atlas.label_vector, \n",
    "                                                fcn=np.nanmean)\n",
    "# # get the summary dataframe for the selected region\n",
    "# D = sdata.get_summary_roi(data_cereb, info, \n",
    "#                             atlas_space = \"SUIT3\",\n",
    "#                             atlas_roi = \"NettekovenSym68c32\", \n",
    "#                             unite_struct = False,\n",
    "#                             add_rest = True, \n",
    "#                             var = \"Y\")\n",
    "parcel_data.shape"
   ]
  },
  {
   "cell_type": "code",
   "execution_count": 5,
   "metadata": {},
   "outputs": [],
   "source": [
    "# get contrast of interest (define all your contrasts here)\n",
    "c_enc = np.zeros(len(info.index))\n",
    "c_enc[info.phase == 0] = 1/(sum(info.phase == 0))\n",
    "c_enc[info.phase == 1] = -1/(sum(info.phase == 1))\n",
    "\n",
    "c_load = np.zeros(len(info.index))\n",
    "c_load[info.load == 6] = 1/(sum(info.load == 6))\n",
    "c_load[info.load == 2] = -1/(sum(info.load == 2))\n",
    "\n",
    "c_recall = np.zeros(len(info.index))\n",
    "c_recall[info.recall == 0] = 1/(sum(info.recall == 0))\n",
    "c_recall[info.recall == 1] = -1/(sum(info.recall == 1))\n",
    "\n",
    "c_loadB = np.zeros(len(info.index))\n",
    "c_loadB[(info.load == 6) & (info.recall == 0)] = 1/ sum((info.load == 6) & (info.recall == 0))\n",
    "c_loadB[(info.load == 2) & (info.recall == 0)] = -1/ sum((info.load == 2) & (info.recall == 0))\n",
    "\n",
    "\n",
    "c_loadF = np.zeros(len(info.index))\n",
    "c_loadF[(info.load == 6) & (info.recall == 1)] = 1/ sum((info.load == 6) & (info.recall == 1))\n",
    "c_loadF[(info.load == 2) & (info.recall == 1)] = -1/ sum((info.load == 2) & (info.recall == 1))\n",
    "\n",
    "c_dir6 = np.zeros(len(info.index))\n",
    "c_dir6[(info.load == 6) & (info.recall == 0)] = 1/ sum((info.load == 6) & (info.recall == 0))\n",
    "c_dir6[(info.load == 6) & (info.recall == 1)] = 1/ sum((info.load == 6) & (info.recall == 1))\n",
    "\n",
    "c_dir4 = np.zeros(len(info.index))\n",
    "c_dir4[(info.load == 4) & (info.recall == 0)] = 1/ sum((info.load == 4) & (info.recall == 0))\n",
    "c_dir4[(info.load == 4) & (info.recall == 1)] = 1/ sum((info.load == 4) & (info.recall == 1))\n",
    "\n",
    "c_dir2 = np.zeros(len(info.index))\n",
    "c_dir2[(info.load == 2) & (info.recall == 0)] = 1/ sum((info.load == 2) & (info.recall == 0))\n",
    "c_dir2[(info.load == 2) & (info.recall == 1)] = 1/ sum((info.load == 2) & (info.recall == 1))\n",
    "\n",
    "c_loadFenc = np.zeros(len(info.index))\n",
    "c_loadFenc[(info.load == 6) & (info.recall == 1) & (info.phase == 0)] = 1/ sum((info.load == 6) & (info.recall == 1) & (info.phase == 0))\n",
    "c_loadFenc[(info.load == 2) & (info.recall == 1) & (info.phase == 0)] = -1/ sum((info.load == 2) & (info.recall == 1) & (info.phase == 0))\n",
    "\n",
    "\n",
    "c_loadFret = np.zeros(len(info.index))\n",
    "c_loadFret[(info.load == 6) & (info.recall == 1) & (info.phase == 1)] = 1/ sum(((info.load == 6) & (info.recall == 1) & (info.phase == 1)))\n",
    "c_loadFret[(info.load == 2) & (info.recall == 1) & (info.phase == 1)] = -1/ sum(((info.load == 2) & (info.recall == 1) & (info.phase == 1)))\n",
    "\n",
    "c_dirEnc = np.zeros(len(info.index))\n",
    "c_dirEnc[(info.recall == 0) & (info.phase == 0)] = 1/(sum((info.recall == 0) & (info.phase == 0)))\n",
    "c_dirEnc[(info.recall == 1) & (info.phase == 0)] = -1/(sum((info.recall == 1) & (info.phase == 0)))\n",
    "\n",
    "\n",
    "c_dirRet = np.zeros(len(info.index))\n",
    "c_dirRet[(info.recall == 0) & (info.phase == 1)] = 1/(sum((info.recall == 0) & (info.phase == 1)))\n",
    "c_dirRet[(info.recall == 1) & (info.phase == 1)] = -1/(sum((info.recall == 1) & (info.phase == 1)))\n",
    "\n"
   ]
  },
  {
   "cell_type": "code",
   "execution_count": 7,
   "metadata": {},
   "outputs": [
    {
     "name": "stdout",
     "output_type": "stream",
     "text": [
      "selected regions\n",
      "['D1L', 'D2L', 'D3L', 'D4L', 'D1R', 'D2R', 'D3R', 'D4R']\n",
      "[ 7  8  9 10 23 24 25 26]\n"
     ]
    }
   ],
   "source": [
    "# focus on multiple demand regions\n",
    "## first get a mask for the selected D regions\n",
    "mask, idx, coarse_selected_ = sreg.get_parcel_single(parcellation = \"NettekovenSym68c32\", \n",
    "                                                atlas_space = \"SUIT3\",\n",
    "                                                roi_exp = \"D..\")\n",
    "print(\"selected regions\")                                                \n",
    "print(coarse_selected_)\n",
    "print(idx)"
   ]
  },
  {
   "attachments": {},
   "cell_type": "markdown",
   "metadata": {},
   "source": [
    "## during encoding, what are the regions that show both recall dir and load effect"
   ]
  },
  {
   "cell_type": "code",
   "execution_count": 8,
   "metadata": {},
   "outputs": [
    {
     "name": "stdout",
     "output_type": "stream",
     "text": [
      "\n",
      "[0.00305001 0.00779815 0.00349361 0.02097574 0.00134467 0.00424577\n",
      " 0.00046197 0.00172127]\n",
      "\n",
      "regions showing significance:\n",
      "['D1L' 'D3L' 'D1R' 'D2R' 'D3R' 'D4R']\n"
     ]
    }
   ],
   "source": [
    "# load contrast (only in forwards condition) during encoding\n",
    "data_con = c_loadFenc @ parcel_data\n",
    "data_Ds = data_con[:, idx-1]\n",
    "# perform one sample t-test against 0, p < 0.05, bonferroni corrected for 8 regions\n",
    "# we are testing each contrast across selected regions \n",
    "T_results= stats.ttest_1samp(data_Ds, np.zeros(len(coarse_selected_)))\n",
    "print()\n",
    "print(T_results.pvalue)\n",
    "sig_mask_loadEnc = T_results.pvalue<0.05/len(coarse_selected_)\n",
    "print()\n",
    "print(\"regions showing significance:\")\n",
    "print(np.array(coarse_selected_)[sig_mask_loadEnc])\n"
   ]
  },
  {
   "cell_type": "code",
   "execution_count": 9,
   "metadata": {},
   "outputs": [
    {
     "name": "stdout",
     "output_type": "stream",
     "text": [
      "\n",
      "[0.01146759 0.02071865 0.0068843  0.01003335 0.00184193 0.00190636\n",
      " 0.00886556 0.00468639]\n",
      "\n",
      "regions showing significance:\n",
      "['D1R' 'D2R' 'D4R']\n"
     ]
    }
   ],
   "source": [
    "# recall direction contrast during encoding\n",
    "data_con = c_dirEnc @ parcel_data\n",
    "data_Ds = data_con[:, idx-1]\n",
    "# perform one sample t-test against 0, p < 0.05, bonferroni corrected for 8 regions\n",
    "# we are testing each contrast across selected regions \n",
    "T_results= stats.ttest_1samp(data_Ds, np.zeros(len(coarse_selected_)))\n",
    "print()\n",
    "print(T_results.pvalue)\n",
    "sig_mask_dirEnc = T_results.pvalue<0.05/len(coarse_selected_)\n",
    "print()\n",
    "print(\"regions showing significance:\")\n",
    "print(np.array(coarse_selected_)[sig_mask_dirEnc])\n"
   ]
  },
  {
   "cell_type": "code",
   "execution_count": 10,
   "metadata": {},
   "outputs": [
    {
     "name": "stdout",
     "output_type": "stream",
     "text": [
      "conjunction:\n",
      "['D1R' 'D2R' 'D4R']\n"
     ]
    }
   ],
   "source": [
    "print(\"conjunction:\")\n",
    "conj_mask_enc = sig_mask_dirEnc * sig_mask_loadEnc\n",
    "print(np.array(coarse_selected_)[conj_mask_enc])\n"
   ]
  },
  {
   "attachments": {},
   "cell_type": "markdown",
   "metadata": {},
   "source": [
    "## during retirval, what are the regions that show both recall dir and load effect"
   ]
  },
  {
   "cell_type": "code",
   "execution_count": 11,
   "metadata": {},
   "outputs": [
    {
     "name": "stdout",
     "output_type": "stream",
     "text": [
      "\n",
      "[0.00100597 0.19117024 0.00493109 0.15146188 0.00056882 0.46253509\n",
      " 0.00138825 0.04285027]\n",
      "\n",
      "regions showing significance:\n",
      "['D1L' 'D3L' 'D1R' 'D3R']\n"
     ]
    }
   ],
   "source": [
    "# load contrast (only in forwards condition) during retrieval\n",
    "data_con = c_loadFret @ parcel_data\n",
    "data_Ds = data_con[:, idx-1]\n",
    "# perform one sample t-test against 0, p < 0.05, bonferroni corrected for 8 regions\n",
    "# we are testing each contrast across selected regions \n",
    "T_results= stats.ttest_1samp(data_Ds, np.zeros(len(coarse_selected_)))\n",
    "print()\n",
    "print(T_results.pvalue)\n",
    "sig_mask_loadRet = T_results.pvalue<0.05/len(coarse_selected_)\n",
    "print()\n",
    "print(\"regions showing significance:\")\n",
    "print(np.array(coarse_selected_)[sig_mask_loadRet])"
   ]
  },
  {
   "cell_type": "code",
   "execution_count": 12,
   "metadata": {},
   "outputs": [
    {
     "name": "stdout",
     "output_type": "stream",
     "text": [
      "\n",
      "[0.00010889 0.05194702 0.00179106 0.0139936  0.00079554 0.0087608\n",
      " 0.00110773 0.00048121]\n",
      "\n",
      "regions showing significance:\n",
      "['D1L' 'D3L' 'D1R' 'D3R' 'D4R']\n"
     ]
    }
   ],
   "source": [
    "# recall direction contrast during retrieval\n",
    "data_con = c_dirRet @ parcel_data\n",
    "data_Ds = data_con[:, idx-1]\n",
    "# perform one sample t-test against 0, p < 0.05, bonferroni corrected for 8 regions\n",
    "# we are testing each contrast across selected regions \n",
    "T_results= stats.ttest_1samp(data_Ds, np.zeros(len(coarse_selected_)))\n",
    "print()\n",
    "print(T_results.pvalue)\n",
    "sig_mask_dirRet = T_results.pvalue<0.05/len(coarse_selected_)\n",
    "print()\n",
    "print(\"regions showing significance:\")\n",
    "print(np.array(coarse_selected_)[sig_mask_dirRet])\n"
   ]
  },
  {
   "cell_type": "code",
   "execution_count": 13,
   "metadata": {},
   "outputs": [
    {
     "name": "stdout",
     "output_type": "stream",
     "text": [
      "conjunction:\n",
      "['D1L' 'D3L' 'D1R' 'D3R']\n"
     ]
    }
   ],
   "source": [
    "print(\"conjunction:\")\n",
    "conj_mask_ret = sig_mask_dirRet * sig_mask_loadRet\n",
    "print(np.array(coarse_selected_)[conj_mask_ret])"
   ]
  },
  {
   "attachments": {},
   "cell_type": "markdown",
   "metadata": {},
   "source": [
    "# statistically investigate conjunctions between the contrasts of interest at the fine areal level\n",
    "areas - all the areas within hierarchical parcelation"
   ]
  },
  {
   "cell_type": "code",
   "execution_count": 14,
   "metadata": {},
   "outputs": [],
   "source": [
    "# selecting all the regions\n",
    "regions = sreg.get_parcel_names(parcellation = parcellation, atlas_space = atlas_suit)\n",
    "fine_selected_ = regions[1:]"
   ]
  },
  {
   "attachments": {},
   "cell_type": "markdown",
   "metadata": {},
   "source": [
    "# what are the regions that show activations in both encoding and retrieval"
   ]
  },
  {
   "cell_type": "code",
   "execution_count": 16,
   "metadata": {},
   "outputs": [
    {
     "name": "stdout",
     "output_type": "stream",
     "text": [
      "\n",
      "\n",
      "regions showing significance:\n",
      "['A2L' 'S2L' 'M3R' 'M4R' 'A1R' 'A2R' 'I1R' 'S2R']\n"
     ]
    }
   ],
   "source": [
    "# load contrast (only in forwards condition) during encoding\n",
    "data_con = c_enc @ parcel_data\n",
    "\n",
    "# perform one sample t-test against 0, p < 0.05, bonferroni corrected for 8 regions\n",
    "# we are testing each contrast across selected regions \n",
    "T_results= stats.ttest_1samp(data_con, np.zeros(data_con.shape[1]))\n",
    "print()\n",
    "# print(T_results.pvalue)\n",
    "sig_mask_encVret = T_results.pvalue<0.05/data_con.shape[1]\n",
    "print()\n",
    "print(\"regions showing significance:\")\n",
    "print(np.array(fine_selected_)[sig_mask_encVret])"
   ]
  },
  {
   "attachments": {},
   "cell_type": "markdown",
   "metadata": {},
   "source": [
    "## during encoding, what are the regions that show both recall dir and load effect"
   ]
  },
  {
   "cell_type": "code",
   "execution_count": 17,
   "metadata": {},
   "outputs": [
    {
     "name": "stdout",
     "output_type": "stream",
     "text": [
      "\n",
      "\n",
      "regions showing significance:\n",
      "['M4L' 'M2R' 'D1R' 'D3R']\n"
     ]
    }
   ],
   "source": [
    "# load contrast (only in forwards condition) during encoding\n",
    "data_con = c_loadFenc @ parcel_data\n",
    "\n",
    "# perform one sample t-test against 0, p < 0.05, bonferroni corrected for 8 regions\n",
    "# we are testing each contrast across selected regions \n",
    "T_results= stats.ttest_1samp(data_con, np.zeros(data_con.shape[1]))\n",
    "print()\n",
    "# print(T_results.pvalue)\n",
    "sig_mask_loadEnc = T_results.pvalue<0.05/data_con.shape[1]\n",
    "print()\n",
    "print(\"regions showing significance:\")\n",
    "print(np.array(fine_selected_)[sig_mask_loadEnc])"
   ]
  },
  {
   "cell_type": "code",
   "execution_count": 18,
   "metadata": {},
   "outputs": [
    {
     "name": "stdout",
     "output_type": "stream",
     "text": [
      "\n",
      "\n",
      "regions showing significance:\n",
      "[]\n"
     ]
    }
   ],
   "source": [
    "# load contrast (only in forwards condition) during encoding\n",
    "data_con = c_dirEnc @ parcel_data\n",
    "\n",
    "# perform one sample t-test against 0, p < 0.05, bonferroni corrected for 8 regions\n",
    "# we are testing each contrast across selected regions \n",
    "T_results= stats.ttest_1samp(data_con, np.zeros(data_con.shape[1]))\n",
    "print()\n",
    "# print(T_results.pvalue)\n",
    "sig_mask_loadEnc = T_results.pvalue<0.05/data_con.shape[1]\n",
    "print()\n",
    "print(\"regions showing significance:\")\n",
    "print(np.array(fine_selected_)[sig_mask_loadEnc])"
   ]
  },
  {
   "attachments": {},
   "cell_type": "markdown",
   "metadata": {},
   "source": [
    "## during retrieval, what are the regions that show both recall dir and load effect"
   ]
  },
  {
   "cell_type": "code",
   "execution_count": 19,
   "metadata": {},
   "outputs": [
    {
     "name": "stdout",
     "output_type": "stream",
     "text": [
      "\n",
      "\n",
      "regions showing significance:\n",
      "['M1L' 'D1L' 'D1R' 'D3R']\n"
     ]
    }
   ],
   "source": [
    "# load contrast (only in forwards condition) during encoding\n",
    "data_con = c_loadFret @ parcel_data\n",
    "\n",
    "# perform one sample t-test against 0, p < 0.05, bonferroni corrected for 8 regions\n",
    "# we are testing each contrast across selected regions \n",
    "T_results= stats.ttest_1samp(data_con, np.zeros(data_con.shape[1]))\n",
    "print()\n",
    "# print(T_results.pvalue)\n",
    "sig_mask_loadRet= T_results.pvalue<0.05/data_con.shape[1]\n",
    "print()\n",
    "print(\"regions showing significance:\")\n",
    "print(np.array(fine_selected_)[sig_mask_loadRet])"
   ]
  },
  {
   "cell_type": "code",
   "execution_count": 20,
   "metadata": {},
   "outputs": [
    {
     "name": "stdout",
     "output_type": "stream",
     "text": [
      "\n",
      "\n",
      "regions showing significance:\n",
      "['M1L' 'A1L' 'D1L' 'M1R' 'D1R' 'D3R' 'D4R']\n"
     ]
    }
   ],
   "source": [
    "# load contrast (only in forwards condition) during encoding\n",
    "data_con = c_dirRet @ parcel_data\n",
    "\n",
    "# perform one sample t-test against 0, p < 0.05, bonferroni corrected for 8 regions\n",
    "# we are testing each contrast across selected regions \n",
    "T_results= stats.ttest_1samp(data_con, np.zeros(data_con.shape[1]))\n",
    "print()\n",
    "# print(T_results.pvalue)\n",
    "sig_mask_dirRet = T_results.pvalue<0.05/data_con.shape[1]\n",
    "print()\n",
    "print(\"regions showing significance:\")\n",
    "print(np.array(fine_selected_)[sig_mask_dirRet])"
   ]
  },
  {
   "cell_type": "code",
   "execution_count": 21,
   "metadata": {},
   "outputs": [
    {
     "name": "stdout",
     "output_type": "stream",
     "text": [
      "conjunction:\n",
      "['M1L' 'D1L' 'D1R' 'D3R']\n"
     ]
    }
   ],
   "source": [
    "print(\"conjunction:\")\n",
    "conj_mask_ret = sig_mask_dirRet * sig_mask_loadRet\n",
    "print(np.array(fine_selected_)[conj_mask_ret])"
   ]
  }
 ],
 "metadata": {
  "kernelspec": {
   "display_name": "env",
   "language": "python",
   "name": "python3"
  },
  "language_info": {
   "codemirror_mode": {
    "name": "ipython",
    "version": 3
   },
   "file_extension": ".py",
   "mimetype": "text/x-python",
   "name": "python",
   "nbconvert_exporter": "python",
   "pygments_lexer": "ipython3",
   "version": "3.9.5"
  },
  "orig_nbformat": 4
 },
 "nbformat": 4,
 "nbformat_minor": 2
}
