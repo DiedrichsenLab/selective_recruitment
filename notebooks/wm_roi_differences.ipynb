{
 "cells": [
  {
   "cell_type": "code",
   "execution_count": 1,
   "metadata": {},
   "outputs": [],
   "source": [
    "import os\n",
    "import numpy as np\n",
    "import pandas as pd\n",
    "import nitools as nt\n",
    "import matplotlib.pyplot as plt\n",
    "import seaborn as sns\n",
    "\n",
    "from pathlib import Path\n",
    "from SUITPy import flatmap\n",
    "import PcmPy as pcm\n",
    "\n",
    "import selective_recruitment.plotting as plotting\n",
    "import selective_recruitment.recruite_ana as ra\n",
    "import selective_recruitment.globals as gl\n",
    "import selective_recruitment.scripts.script_prep_sc as ss\n",
    "import selective_recruitment.scripts.script_wm_sanity_checks as sa\n",
    "\n",
    "import Functional_Fusion.dataset as fdata\n",
    "import Functional_Fusion.atlas_map as am\n",
    "from statsmodels.stats.anova import AnovaRM  # perform F test\n",
    "from selective_recruitment.scripts.script_roi_differences import norm_within_category,prep_roi_comparison, plot_roi_differences\n",
    "\n",
    "# import warnings\n",
    "# warnings.filterwarnings('ignore')\n",
    "\n",
    "\n",
    "wkdir = 'A:\\data\\Cerebellum\\CerebellumWorkingMemory\\selective_recruit'\n",
    "if not Path(wkdir).exists():\n",
    "    wkdir = '/srv/diedrichsen/data/Cerebellum/CerebellumWorkingMemory/selective_recruit'\n",
    "if not Path(wkdir).exists():\n",
    "    wkdir = '/Users/jdiedrichsen/Data/wm_cerebellum/selective_recruit'"
   ]
  },
  {
   "attachments": {},
   "cell_type": "markdown",
   "metadata": {},
   "source": [
    "# Difference between ROIs in the Demand network"
   ]
  },
  {
   "attachments": {},
   "cell_type": "markdown",
   "metadata": {},
   "source": [
    "## Without anterior-posterior split"
   ]
  },
  {
   "cell_type": "code",
   "execution_count": 2,
   "metadata": {},
   "outputs": [],
   "source": [
    "df_path = os.path.join(wkdir, \"ROI_NettekovenSym68c32_conn_reg.tsv\")\n",
    "D = pd.read_csv(df_path, sep=\"\\t\")\n",
    "D, cond_map = prep_roi_comparison(D)"
   ]
  },
  {
   "cell_type": "code",
   "execution_count": 3,
   "metadata": {},
   "outputs": [
    {
     "ename": "ValueError",
     "evalue": "Length of DataFrame vectors must match length of `data` when both are used, but `data` has length 3072 and the vector passed to `x` has length 12.",
     "output_type": "error",
     "traceback": [
      "\u001b[0;31m---------------------------------------------------------------------------\u001b[0m",
      "\u001b[0;31mValueError\u001b[0m                                Traceback (most recent call last)",
      "Cell \u001b[0;32mIn[3], line 20\u001b[0m\n\u001b[1;32m      9\u001b[0m db \u001b[38;5;241m=\u001b[39m (\u001b[38;5;241m0.0\u001b[39m,\u001b[38;5;241m0.1\u001b[39m,\u001b[38;5;241m0.6\u001b[39m)\n\u001b[1;32m     10\u001b[0m \u001b[38;5;66;03m# pal = [red,gray,lb,db,red,gray,lb,db]\u001b[39;00m\n\u001b[1;32m     11\u001b[0m \n\u001b[1;32m     12\u001b[0m \u001b[38;5;66;03m# ax = sns.lineplot(data=D, x = 'cond_num', y = 'Y_norm', hue = 'roi_name',style='roi_name',\u001b[39;00m\n\u001b[0;32m   (...)\u001b[0m\n\u001b[1;32m     17\u001b[0m \u001b[38;5;66;03m# ax.set_xticks(np.arange(12)+1)\u001b[39;00m\n\u001b[1;32m     18\u001b[0m \u001b[38;5;66;03m# l=ax.set_xticklabels(cond_map.cond_name.values, rotation=45)\u001b[39;00m\n\u001b[0;32m---> 20\u001b[0m DD \u001b[38;5;241m=\u001b[39m \u001b[43mplotting\u001b[49m\u001b[38;5;241;43m.\u001b[39;49m\u001b[43mroi_difference\u001b[49m\u001b[43m(\u001b[49m\u001b[43mD\u001b[49m\u001b[43m,\u001b[49m\u001b[43m \u001b[49m\u001b[43mcond_map\u001b[49m\u001b[43m,\u001b[49m\u001b[43m \u001b[49m\u001b[43mdepvar\u001b[49m\u001b[43m \u001b[49m\u001b[38;5;241;43m=\u001b[39;49m\u001b[43m \u001b[49m\u001b[38;5;124;43m\"\u001b[39;49m\u001b[38;5;124;43mY_norm\u001b[39;49m\u001b[38;5;124;43m\"\u001b[39;49m\u001b[43m,\u001b[49m\u001b[43m \u001b[49m\u001b[43mvar\u001b[49m\u001b[43m \u001b[49m\u001b[38;5;241;43m=\u001b[39;49m\u001b[43m \u001b[49m\u001b[43m[\u001b[49m\u001b[38;5;124;43m\"\u001b[39;49m\u001b[38;5;124;43mcond_name\u001b[39;49m\u001b[38;5;124;43m\"\u001b[39;49m\u001b[43m,\u001b[49m\u001b[38;5;124;43m\"\u001b[39;49m\u001b[38;5;124;43mroi_name\u001b[39;49m\u001b[38;5;124;43m\"\u001b[39;49m\u001b[43m]\u001b[49m\u001b[43m)\u001b[49m\n",
      "File \u001b[0;32m~/Documents/Projects/selective_recruitment/plotting.py:392\u001b[0m, in \u001b[0;36mroi_difference\u001b[0;34m(df, xvar, hue, depvar, sub_roi, roi, var)\u001b[0m\n\u001b[1;32m    <a href='file:///home/ROBARTS/lshahsha/Documents/Projects/selective_recruitment/plotting.py?line=389'>390</a>\u001b[0m \u001b[39m# barplots\u001b[39;00m\n\u001b[1;32m    <a href='file:///home/ROBARTS/lshahsha/Documents/Projects/selective_recruitment/plotting.py?line=390'>391</a>\u001b[0m plt\u001b[39m.\u001b[39mfigure()\n\u001b[0;32m--> <a href='file:///home/ROBARTS/lshahsha/Documents/Projects/selective_recruitment/plotting.py?line=391'>392</a>\u001b[0m ax \u001b[39m=\u001b[39m sns\u001b[39m.\u001b[39;49mlineplot(data\u001b[39m=\u001b[39;49mDD_D\u001b[39m.\u001b[39;49mloc[(df\u001b[39m.\u001b[39;49mcond_name \u001b[39m!=\u001b[39;49m \u001b[39m\"\u001b[39;49m\u001b[39mrest\u001b[39;49m\u001b[39m\"\u001b[39;49m)], x \u001b[39m=\u001b[39;49m xvar, y \u001b[39m=\u001b[39;49m depvar,\n\u001b[1;32m    <a href='file:///home/ROBARTS/lshahsha/Documents/Projects/selective_recruitment/plotting.py?line=392'>393</a>\u001b[0m                 errwidth\u001b[39m=\u001b[39;49m\u001b[39m0.5\u001b[39;49m, hue \u001b[39m=\u001b[39;49m hue)\n\u001b[1;32m    <a href='file:///home/ROBARTS/lshahsha/Documents/Projects/selective_recruitment/plotting.py?line=393'>394</a>\u001b[0m plt\u001b[39m.\u001b[39mxticks(rotation \u001b[39m=\u001b[39m \u001b[39m90\u001b[39m)\n\u001b[1;32m    <a href='file:///home/ROBARTS/lshahsha/Documents/Projects/selective_recruitment/plotting.py?line=394'>395</a>\u001b[0m anov \u001b[39m=\u001b[39m AnovaRM(data\u001b[39m=\u001b[39mdf, depvar\u001b[39m=\u001b[39mdepvar,\n\u001b[1;32m    <a href='file:///home/ROBARTS/lshahsha/Documents/Projects/selective_recruitment/plotting.py?line=395'>396</a>\u001b[0m               subject\u001b[39m=\u001b[39m\u001b[39m'\u001b[39m\u001b[39msn\u001b[39m\u001b[39m'\u001b[39m, within\u001b[39m=\u001b[39mvar, aggregate_func\u001b[39m=\u001b[39mnp\u001b[39m.\u001b[39mmean)\u001b[39m.\u001b[39mfit()\n",
      "File \u001b[0;32m~/Documents/Projects/selective_recruitment/env/lib/python3.9/site-packages/seaborn/relational.py:618\u001b[0m, in \u001b[0;36mlineplot\u001b[0;34m(data, x, y, hue, size, style, units, palette, hue_order, hue_norm, sizes, size_order, size_norm, dashes, markers, style_order, estimator, errorbar, n_boot, seed, orient, sort, err_style, err_kws, legend, ci, ax, **kwargs)\u001b[0m\n\u001b[1;32m    <a href='file:///home/ROBARTS/lshahsha/Documents/Projects/selective_recruitment/env/lib/python3.9/site-packages/seaborn/relational.py?line=614'>615</a>\u001b[0m errorbar \u001b[39m=\u001b[39m _deprecate_ci(errorbar, ci)\n\u001b[1;32m    <a href='file:///home/ROBARTS/lshahsha/Documents/Projects/selective_recruitment/env/lib/python3.9/site-packages/seaborn/relational.py?line=616'>617</a>\u001b[0m variables \u001b[39m=\u001b[39m _LinePlotter\u001b[39m.\u001b[39mget_semantics(\u001b[39mlocals\u001b[39m())\n\u001b[0;32m--> <a href='file:///home/ROBARTS/lshahsha/Documents/Projects/selective_recruitment/env/lib/python3.9/site-packages/seaborn/relational.py?line=617'>618</a>\u001b[0m p \u001b[39m=\u001b[39m _LinePlotter(\n\u001b[1;32m    <a href='file:///home/ROBARTS/lshahsha/Documents/Projects/selective_recruitment/env/lib/python3.9/site-packages/seaborn/relational.py?line=618'>619</a>\u001b[0m     data\u001b[39m=\u001b[39;49mdata, variables\u001b[39m=\u001b[39;49mvariables,\n\u001b[1;32m    <a href='file:///home/ROBARTS/lshahsha/Documents/Projects/selective_recruitment/env/lib/python3.9/site-packages/seaborn/relational.py?line=619'>620</a>\u001b[0m     estimator\u001b[39m=\u001b[39;49mestimator, n_boot\u001b[39m=\u001b[39;49mn_boot, seed\u001b[39m=\u001b[39;49mseed, errorbar\u001b[39m=\u001b[39;49merrorbar,\n\u001b[1;32m    <a href='file:///home/ROBARTS/lshahsha/Documents/Projects/selective_recruitment/env/lib/python3.9/site-packages/seaborn/relational.py?line=620'>621</a>\u001b[0m     sort\u001b[39m=\u001b[39;49msort, orient\u001b[39m=\u001b[39;49morient, err_style\u001b[39m=\u001b[39;49merr_style, err_kws\u001b[39m=\u001b[39;49merr_kws,\n\u001b[1;32m    <a href='file:///home/ROBARTS/lshahsha/Documents/Projects/selective_recruitment/env/lib/python3.9/site-packages/seaborn/relational.py?line=621'>622</a>\u001b[0m     legend\u001b[39m=\u001b[39;49mlegend,\n\u001b[1;32m    <a href='file:///home/ROBARTS/lshahsha/Documents/Projects/selective_recruitment/env/lib/python3.9/site-packages/seaborn/relational.py?line=622'>623</a>\u001b[0m )\n\u001b[1;32m    <a href='file:///home/ROBARTS/lshahsha/Documents/Projects/selective_recruitment/env/lib/python3.9/site-packages/seaborn/relational.py?line=624'>625</a>\u001b[0m p\u001b[39m.\u001b[39mmap_hue(palette\u001b[39m=\u001b[39mpalette, order\u001b[39m=\u001b[39mhue_order, norm\u001b[39m=\u001b[39mhue_norm)\n\u001b[1;32m    <a href='file:///home/ROBARTS/lshahsha/Documents/Projects/selective_recruitment/env/lib/python3.9/site-packages/seaborn/relational.py?line=625'>626</a>\u001b[0m p\u001b[39m.\u001b[39mmap_size(sizes\u001b[39m=\u001b[39msizes, order\u001b[39m=\u001b[39msize_order, norm\u001b[39m=\u001b[39msize_norm)\n",
      "File \u001b[0;32m~/Documents/Projects/selective_recruitment/env/lib/python3.9/site-packages/seaborn/relational.py:365\u001b[0m, in \u001b[0;36m_LinePlotter.__init__\u001b[0;34m(self, data, variables, estimator, n_boot, seed, errorbar, sort, orient, err_style, err_kws, legend)\u001b[0m\n\u001b[1;32m    <a href='file:///home/ROBARTS/lshahsha/Documents/Projects/selective_recruitment/env/lib/python3.9/site-packages/seaborn/relational.py?line=350'>351</a>\u001b[0m \u001b[39mdef\u001b[39;00m \u001b[39m__init__\u001b[39m(\n\u001b[1;32m    <a href='file:///home/ROBARTS/lshahsha/Documents/Projects/selective_recruitment/env/lib/python3.9/site-packages/seaborn/relational.py?line=351'>352</a>\u001b[0m     \u001b[39mself\u001b[39m, \u001b[39m*\u001b[39m,\n\u001b[1;32m    <a href='file:///home/ROBARTS/lshahsha/Documents/Projects/selective_recruitment/env/lib/python3.9/site-packages/seaborn/relational.py?line=352'>353</a>\u001b[0m     data\u001b[39m=\u001b[39m\u001b[39mNone\u001b[39;00m, variables\u001b[39m=\u001b[39m{},\n\u001b[0;32m   (...)\u001b[0m\n\u001b[1;32m    <a href='file:///home/ROBARTS/lshahsha/Documents/Projects/selective_recruitment/env/lib/python3.9/site-packages/seaborn/relational.py?line=358'>359</a>\u001b[0m     \u001b[39m# the kind of plot to draw, but for the time being we need to set\u001b[39;00m\n\u001b[1;32m    <a href='file:///home/ROBARTS/lshahsha/Documents/Projects/selective_recruitment/env/lib/python3.9/site-packages/seaborn/relational.py?line=359'>360</a>\u001b[0m     \u001b[39m# this information so the SizeMapping can use it\u001b[39;00m\n\u001b[1;32m    <a href='file:///home/ROBARTS/lshahsha/Documents/Projects/selective_recruitment/env/lib/python3.9/site-packages/seaborn/relational.py?line=360'>361</a>\u001b[0m     \u001b[39mself\u001b[39m\u001b[39m.\u001b[39m_default_size_range \u001b[39m=\u001b[39m (\n\u001b[1;32m    <a href='file:///home/ROBARTS/lshahsha/Documents/Projects/selective_recruitment/env/lib/python3.9/site-packages/seaborn/relational.py?line=361'>362</a>\u001b[0m         np\u001b[39m.\u001b[39mr_[\u001b[39m.5\u001b[39m, \u001b[39m2\u001b[39m] \u001b[39m*\u001b[39m mpl\u001b[39m.\u001b[39mrcParams[\u001b[39m\"\u001b[39m\u001b[39mlines.linewidth\u001b[39m\u001b[39m\"\u001b[39m]\n\u001b[1;32m    <a href='file:///home/ROBARTS/lshahsha/Documents/Projects/selective_recruitment/env/lib/python3.9/site-packages/seaborn/relational.py?line=362'>363</a>\u001b[0m     )\n\u001b[0;32m--> <a href='file:///home/ROBARTS/lshahsha/Documents/Projects/selective_recruitment/env/lib/python3.9/site-packages/seaborn/relational.py?line=364'>365</a>\u001b[0m     \u001b[39msuper\u001b[39;49m()\u001b[39m.\u001b[39;49m\u001b[39m__init__\u001b[39;49m(data\u001b[39m=\u001b[39;49mdata, variables\u001b[39m=\u001b[39;49mvariables)\n\u001b[1;32m    <a href='file:///home/ROBARTS/lshahsha/Documents/Projects/selective_recruitment/env/lib/python3.9/site-packages/seaborn/relational.py?line=366'>367</a>\u001b[0m     \u001b[39mself\u001b[39m\u001b[39m.\u001b[39mestimator \u001b[39m=\u001b[39m estimator\n\u001b[1;32m    <a href='file:///home/ROBARTS/lshahsha/Documents/Projects/selective_recruitment/env/lib/python3.9/site-packages/seaborn/relational.py?line=367'>368</a>\u001b[0m     \u001b[39mself\u001b[39m\u001b[39m.\u001b[39merrorbar \u001b[39m=\u001b[39m errorbar\n",
      "File \u001b[0;32m~/Documents/Projects/selective_recruitment/env/lib/python3.9/site-packages/seaborn/_oldcore.py:640\u001b[0m, in \u001b[0;36mVectorPlotter.__init__\u001b[0;34m(self, data, variables)\u001b[0m\n\u001b[1;32m    <a href='file:///home/ROBARTS/lshahsha/Documents/Projects/selective_recruitment/env/lib/python3.9/site-packages/seaborn/_oldcore.py?line=634'>635</a>\u001b[0m \u001b[39m# var_ordered is relevant only for categorical axis variables, and may\u001b[39;00m\n\u001b[1;32m    <a href='file:///home/ROBARTS/lshahsha/Documents/Projects/selective_recruitment/env/lib/python3.9/site-packages/seaborn/_oldcore.py?line=635'>636</a>\u001b[0m \u001b[39m# be better handled by an internal axis information object that tracks\u001b[39;00m\n\u001b[1;32m    <a href='file:///home/ROBARTS/lshahsha/Documents/Projects/selective_recruitment/env/lib/python3.9/site-packages/seaborn/_oldcore.py?line=636'>637</a>\u001b[0m \u001b[39m# such information and is set up by the scale_* methods. The analogous\u001b[39;00m\n\u001b[1;32m    <a href='file:///home/ROBARTS/lshahsha/Documents/Projects/selective_recruitment/env/lib/python3.9/site-packages/seaborn/_oldcore.py?line=637'>638</a>\u001b[0m \u001b[39m# information for numeric axes would be information about log scales.\u001b[39;00m\n\u001b[1;32m    <a href='file:///home/ROBARTS/lshahsha/Documents/Projects/selective_recruitment/env/lib/python3.9/site-packages/seaborn/_oldcore.py?line=638'>639</a>\u001b[0m \u001b[39mself\u001b[39m\u001b[39m.\u001b[39m_var_ordered \u001b[39m=\u001b[39m {\u001b[39m\"\u001b[39m\u001b[39mx\u001b[39m\u001b[39m\"\u001b[39m: \u001b[39mFalse\u001b[39;00m, \u001b[39m\"\u001b[39m\u001b[39my\u001b[39m\u001b[39m\"\u001b[39m: \u001b[39mFalse\u001b[39;00m}  \u001b[39m# alt., used DefaultDict\u001b[39;00m\n\u001b[0;32m--> <a href='file:///home/ROBARTS/lshahsha/Documents/Projects/selective_recruitment/env/lib/python3.9/site-packages/seaborn/_oldcore.py?line=639'>640</a>\u001b[0m \u001b[39mself\u001b[39;49m\u001b[39m.\u001b[39;49massign_variables(data, variables)\n\u001b[1;32m    <a href='file:///home/ROBARTS/lshahsha/Documents/Projects/selective_recruitment/env/lib/python3.9/site-packages/seaborn/_oldcore.py?line=641'>642</a>\u001b[0m \u001b[39mfor\u001b[39;00m var, \u001b[39mcls\u001b[39m \u001b[39min\u001b[39;00m \u001b[39mself\u001b[39m\u001b[39m.\u001b[39m_semantic_mappings\u001b[39m.\u001b[39mitems():\n\u001b[1;32m    <a href='file:///home/ROBARTS/lshahsha/Documents/Projects/selective_recruitment/env/lib/python3.9/site-packages/seaborn/_oldcore.py?line=642'>643</a>\u001b[0m \n\u001b[1;32m    <a href='file:///home/ROBARTS/lshahsha/Documents/Projects/selective_recruitment/env/lib/python3.9/site-packages/seaborn/_oldcore.py?line=643'>644</a>\u001b[0m     \u001b[39m# Create the mapping function\u001b[39;00m\n\u001b[1;32m    <a href='file:///home/ROBARTS/lshahsha/Documents/Projects/selective_recruitment/env/lib/python3.9/site-packages/seaborn/_oldcore.py?line=644'>645</a>\u001b[0m     map_func \u001b[39m=\u001b[39m partial(\u001b[39mcls\u001b[39m\u001b[39m.\u001b[39mmap, plotter\u001b[39m=\u001b[39m\u001b[39mself\u001b[39m)\n",
      "File \u001b[0;32m~/Documents/Projects/selective_recruitment/env/lib/python3.9/site-packages/seaborn/_oldcore.py:701\u001b[0m, in \u001b[0;36mVectorPlotter.assign_variables\u001b[0;34m(self, data, variables)\u001b[0m\n\u001b[1;32m    <a href='file:///home/ROBARTS/lshahsha/Documents/Projects/selective_recruitment/env/lib/python3.9/site-packages/seaborn/_oldcore.py?line=698'>699</a>\u001b[0m \u001b[39melse\u001b[39;00m:\n\u001b[1;32m    <a href='file:///home/ROBARTS/lshahsha/Documents/Projects/selective_recruitment/env/lib/python3.9/site-packages/seaborn/_oldcore.py?line=699'>700</a>\u001b[0m     \u001b[39mself\u001b[39m\u001b[39m.\u001b[39minput_format \u001b[39m=\u001b[39m \u001b[39m\"\u001b[39m\u001b[39mlong\u001b[39m\u001b[39m\"\u001b[39m\n\u001b[0;32m--> <a href='file:///home/ROBARTS/lshahsha/Documents/Projects/selective_recruitment/env/lib/python3.9/site-packages/seaborn/_oldcore.py?line=700'>701</a>\u001b[0m     plot_data, variables \u001b[39m=\u001b[39m \u001b[39mself\u001b[39;49m\u001b[39m.\u001b[39;49m_assign_variables_longform(\n\u001b[1;32m    <a href='file:///home/ROBARTS/lshahsha/Documents/Projects/selective_recruitment/env/lib/python3.9/site-packages/seaborn/_oldcore.py?line=701'>702</a>\u001b[0m         data, \u001b[39m*\u001b[39;49m\u001b[39m*\u001b[39;49mvariables,\n\u001b[1;32m    <a href='file:///home/ROBARTS/lshahsha/Documents/Projects/selective_recruitment/env/lib/python3.9/site-packages/seaborn/_oldcore.py?line=702'>703</a>\u001b[0m     )\n\u001b[1;32m    <a href='file:///home/ROBARTS/lshahsha/Documents/Projects/selective_recruitment/env/lib/python3.9/site-packages/seaborn/_oldcore.py?line=704'>705</a>\u001b[0m \u001b[39mself\u001b[39m\u001b[39m.\u001b[39mplot_data \u001b[39m=\u001b[39m plot_data\n\u001b[1;32m    <a href='file:///home/ROBARTS/lshahsha/Documents/Projects/selective_recruitment/env/lib/python3.9/site-packages/seaborn/_oldcore.py?line=705'>706</a>\u001b[0m \u001b[39mself\u001b[39m\u001b[39m.\u001b[39mvariables \u001b[39m=\u001b[39m variables\n",
      "File \u001b[0;32m~/Documents/Projects/selective_recruitment/env/lib/python3.9/site-packages/seaborn/_oldcore.py:953\u001b[0m, in \u001b[0;36mVectorPlotter._assign_variables_longform\u001b[0;34m(self, data, **kwargs)\u001b[0m\n\u001b[1;32m    <a href='file:///home/ROBARTS/lshahsha/Documents/Projects/selective_recruitment/env/lib/python3.9/site-packages/seaborn/_oldcore.py?line=946'>947</a>\u001b[0m         val_cls \u001b[39m=\u001b[39m val\u001b[39m.\u001b[39m\u001b[39m__class__\u001b[39m\u001b[39m.\u001b[39m\u001b[39m__name__\u001b[39m\n\u001b[1;32m    <a href='file:///home/ROBARTS/lshahsha/Documents/Projects/selective_recruitment/env/lib/python3.9/site-packages/seaborn/_oldcore.py?line=947'>948</a>\u001b[0m         err \u001b[39m=\u001b[39m (\n\u001b[1;32m    <a href='file:///home/ROBARTS/lshahsha/Documents/Projects/selective_recruitment/env/lib/python3.9/site-packages/seaborn/_oldcore.py?line=948'>949</a>\u001b[0m             \u001b[39mf\u001b[39m\u001b[39m\"\u001b[39m\u001b[39mLength of \u001b[39m\u001b[39m{\u001b[39;00mval_cls\u001b[39m}\u001b[39;00m\u001b[39m vectors must match length of `data`\u001b[39m\u001b[39m\"\u001b[39m\n\u001b[1;32m    <a href='file:///home/ROBARTS/lshahsha/Documents/Projects/selective_recruitment/env/lib/python3.9/site-packages/seaborn/_oldcore.py?line=949'>950</a>\u001b[0m             \u001b[39mf\u001b[39m\u001b[39m\"\u001b[39m\u001b[39m when both are used, but `data` has length \u001b[39m\u001b[39m{\u001b[39;00m\u001b[39mlen\u001b[39m(data)\u001b[39m}\u001b[39;00m\u001b[39m\"\u001b[39m\n\u001b[1;32m    <a href='file:///home/ROBARTS/lshahsha/Documents/Projects/selective_recruitment/env/lib/python3.9/site-packages/seaborn/_oldcore.py?line=950'>951</a>\u001b[0m             \u001b[39mf\u001b[39m\u001b[39m\"\u001b[39m\u001b[39m and the vector passed to `\u001b[39m\u001b[39m{\u001b[39;00mkey\u001b[39m}\u001b[39;00m\u001b[39m` has length \u001b[39m\u001b[39m{\u001b[39;00m\u001b[39mlen\u001b[39m(val)\u001b[39m}\u001b[39;00m\u001b[39m.\u001b[39m\u001b[39m\"\u001b[39m\n\u001b[1;32m    <a href='file:///home/ROBARTS/lshahsha/Documents/Projects/selective_recruitment/env/lib/python3.9/site-packages/seaborn/_oldcore.py?line=951'>952</a>\u001b[0m         )\n\u001b[0;32m--> <a href='file:///home/ROBARTS/lshahsha/Documents/Projects/selective_recruitment/env/lib/python3.9/site-packages/seaborn/_oldcore.py?line=952'>953</a>\u001b[0m         \u001b[39mraise\u001b[39;00m \u001b[39mValueError\u001b[39;00m(err)\n\u001b[1;32m    <a href='file:///home/ROBARTS/lshahsha/Documents/Projects/selective_recruitment/env/lib/python3.9/site-packages/seaborn/_oldcore.py?line=954'>955</a>\u001b[0m plot_data[key] \u001b[39m=\u001b[39m val\n\u001b[1;32m    <a href='file:///home/ROBARTS/lshahsha/Documents/Projects/selective_recruitment/env/lib/python3.9/site-packages/seaborn/_oldcore.py?line=956'>957</a>\u001b[0m \u001b[39m# Try to infer the name of the variable\u001b[39;00m\n",
      "\u001b[0;31mValueError\u001b[0m: Length of DataFrame vectors must match length of `data` when both are used, but `data` has length 3072 and the vector passed to `x` has length 12."
     ]
    },
    {
     "data": {
      "text/plain": [
       "<Figure size 1200x800 with 0 Axes>"
      ]
     },
     "metadata": {},
     "output_type": "display_data"
    },
    {
     "data": {
      "text/plain": [
       "<Figure size 640x480 with 0 Axes>"
      ]
     },
     "metadata": {},
     "output_type": "display_data"
    }
   ],
   "source": [
    "D = norm_within_category(D, category=['roi_name','sn'], value='Y', norm='mean')\n",
    "plt.figure(figsize=(12,8))\n",
    "# Define styles and colors\n",
    "d1 = (1,0)\n",
    "d2 = (3,3)\n",
    "red =(0.8,0.2,0.2)\n",
    "gray = (0.5,0.5,0.5)\n",
    "lb = (0.2,0.5,1.0)\n",
    "db = (0.0,0.1,0.6)\n",
    "# pal = [red,gray,lb,db,red,gray,lb,db]\n",
    "\n",
    "# ax = sns.lineplot(data=D, x = 'cond_num', y = 'Y_norm', hue = 'roi_name',style='roi_name',\n",
    "#             palette=pal,\n",
    "#             dashes=[d1,d1,d1,d1,d2,d2,d2,d2],\n",
    "#             err_style=None)\n",
    "# # Find mapping between cond_name and cond_num\n",
    "# ax.set_xticks(np.arange(12)+1)\n",
    "# l=ax.set_xticklabels(cond_map.cond_name.values, rotation=45)\n",
    "\n",
    "DD = plotting.roi_difference(D, cond_map, depvar = \"Y_norm\", var = [\"cond_name\",\"roi_name\"])\n"
   ]
  },
  {
   "cell_type": "code",
   "execution_count": null,
   "metadata": {},
   "outputs": [],
   "source": [
    "\n",
    "A = pd.pivot_table(data=D,index='roi_name',columns='cond_name',values='Y_norm',aggfunc=np.mean)\n",
    "C=A.values\n",
    "C=C/np.sqrt((C**2).sum(axis=1,keepdims=True))\n",
    "B = C@C.T\n",
    "K=3\n",
    "W,V = plotting.calc_mds(A.values,K=K,center=True)\n",
    "# phase, load, and recall\n",
    "vs = np.array([[-1, 1,-1, 1,-1,1,-1,1,-1,1,-1,1],\n",
    "                [-1,-1,-1,-1, 0,0, 0,0, 1,1, 1,1],\n",
    "                [1,1, -1, -1, 1, 1, -1, -1,1,1, -1, -1]])\n",
    "vs = vs/np.sqrt((vs**2).sum(axis=1,keepdims=True))\n",
    "proj_vs = V @ vs.T\n",
    "\n",
    "pal = [red,red,gray,gray,lb,lb,db,db]\n",
    "\n",
    "plt.figure(figsize=(10,5))\n",
    "plt.subplot(1,2,1)\n",
    "plotting.plot_mds(W[:,0],W[:,1],A.index,\n",
    "                      colors=pal,\n",
    "                      vectors=proj_vs[:2,:],\n",
    "                      v_labels = ['retrieval','load+','backwards'])\n",
    "plt.subplot(1,2,2)\n",
    "plotting.plot_mds(W[:,2],W[:,1],A.index,\n",
    "                      colors=pal,\n",
    "                      vectors=proj_vs[[2,1],:],\n",
    "                      v_labels = ['retrieval','load+','backwards'])\n"
   ]
  },
  {
   "cell_type": "code",
   "execution_count": null,
   "metadata": {},
   "outputs": [],
   "source": [
    "plotting.plot_mds3(W[:,0],W[:,1], W[:,1], \n",
    "                   A.index, \n",
    "                   colors=pal,\n",
    "                   text_size = 'small', \n",
    "                   text_weight = 'regular',\n",
    "                   vectors = proj_vs,\n",
    "                   v_labels = ['retrieval','load+','backwards'])"
   ]
  },
  {
   "cell_type": "markdown",
   "metadata": {},
   "source": [
    "## Parcellation divided into anterior and posterior"
   ]
  },
  {
   "cell_type": "code",
   "execution_count": null,
   "metadata": {},
   "outputs": [],
   "source": [
    "df_path = os.path.join(wkdir, \"ROI_NettekovenSym68c32AP_conn_reg.tsv\")\n",
    "D = pd.read_csv(df_path, sep=\"\\t\")\n",
    "D, cond_map = prep_roi_comparison(D)"
   ]
  },
  {
   "cell_type": "code",
   "execution_count": null,
   "metadata": {},
   "outputs": [],
   "source": [
    "D = norm_within_category(D, category=['roi_name','sn'], value='Y', norm='mean')\n",
    "D = D.loc[D.roi != 0]\n",
    "D = D.loc[D.cond_name != \"rest\"]\n",
    "D[\"AP\"] = D[\"roi_name\"].str[4]\n",
    "plt.figure(figsize=(12,8))\n",
    "# Define styles and colors\n",
    "d1 = (1,0)\n",
    "d2 = (3,3)\n",
    "redA =(0.8,0.2,0.2)\n",
    "redP =(0.6,0.3,0.)\n",
    "grayA = (0.5,0.5,0.5)\n",
    "grayP = (0.1,0.1,0.1)\n",
    "lbA = (0.2,0.5,1.0)\n",
    "lbP = (0.2, 0.7, 1.0)\n",
    "dbA = (0.0,0.1,0.6)\n",
    "dbP = (0.0, 0.4, 0.6)\n",
    "\n",
    "DD = plot_roi_differences(D, cond_map, depvar = \"Y_norm\", var = [\"cond_name\", \"AP\"])\n"
   ]
  },
  {
   "cell_type": "code",
   "execution_count": null,
   "metadata": {},
   "outputs": [],
   "source": [
    "A = pd.pivot_table(data=D,index='roi_name',columns='cond_name',values='Y_norm',aggfunc=np.mean)\n",
    "C=A.values\n",
    "C=C/np.sqrt((C**2).sum(axis=1,keepdims=True))\n",
    "B = C@C.T\n",
    "\n",
    "K=3\n",
    "W,V = plotting.calc_mds(A.values,K=K,center=True)\n",
    "# phase, load, and recall\n",
    "vs = np.array([[-1, 1,-1, 1,-1,1,-1,1,-1,1,-1,1],\n",
    "                [-1,-1,-1,-1, 0,0, 0,0, 1,1, 1,1],\n",
    "                [1,1, -1, -1, 1, 1, -1, -1,1,1, -1, -1]])\n",
    "vs = vs/np.sqrt((vs**2).sum(axis=1,keepdims=True))\n",
    "proj_vs = V @ vs.T\n",
    "\n",
    "pal = [redA,redA,redP,redP,grayA,grayA,grayP,grayP,lbA,lbA,lbP,lbP,dbA,dbA,dbP,dbP]\n",
    "\n",
    "plt.figure(figsize=(10,5))\n",
    "plt.subplot(1,2,1)\n",
    "plotting.plot_mds(W[:,0],W[:,1],A.index,\n",
    "                      colors=pal,\n",
    "                      vectors=proj_vs[:2,:],\n",
    "                      v_labels = ['retrieval','load+','backwards'])\n",
    "plt.subplot(1,2,2)\n",
    "plotting.plot_mds(W[:,2],W[:,1],A.index,\n",
    "                      colors=pal,\n",
    "                      vectors=proj_vs[[2,1],:],\n",
    "                      v_labels = ['retrieval','load+','backwards'])"
   ]
  },
  {
   "cell_type": "code",
   "execution_count": null,
   "metadata": {},
   "outputs": [],
   "source": [
    "plotting.plot_mds3(W[:,0],W[:,1], W[:,1], \n",
    "                   A.index, \n",
    "                   colors=pal,\n",
    "                   text_size = 'small', \n",
    "                   text_weight = 'regular',\n",
    "                   vectors = proj_vs,\n",
    "                   v_labels = ['retrieval','load+','backwards'])"
   ]
  },
  {
   "cell_type": "code",
   "execution_count": null,
   "metadata": {},
   "outputs": [],
   "source": []
  },
  {
   "cell_type": "code",
   "execution_count": null,
   "metadata": {},
   "outputs": [],
   "source": []
  }
 ],
 "metadata": {
  "interpreter": {
   "hash": "ef7a7f72e468bca1612bb4ef599a29241fe0173a5a59e4e8770af0d9bad1445f"
  },
  "kernelspec": {
   "display_name": "Python 3.9.5 ('env': venv)",
   "language": "python",
   "name": "python3"
  },
  "language_info": {
   "codemirror_mode": {
    "name": "ipython",
    "version": 3
   },
   "file_extension": ".py",
   "mimetype": "text/x-python",
   "name": "python",
   "nbconvert_exporter": "python",
   "pygments_lexer": "ipython3",
   "version": "3.9.5"
  },
  "orig_nbformat": 4
 },
 "nbformat": 4,
 "nbformat_minor": 2
}
