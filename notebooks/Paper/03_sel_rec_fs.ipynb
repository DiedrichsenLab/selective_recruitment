{
 "cells": [
  {
   "cell_type": "code",
   "execution_count": 59,
   "metadata": {},
   "outputs": [],
   "source": [
    "import sys\n",
    "sys.path.append('..')\n",
    "sys.path.append('../..')\n",
    "sys.path.append('../../..')\n",
    "\n",
    "from selective_recruitment.plotting import make_scatterplot\n",
    "from selective_recruitment.scripts.script_mapwise import calc_ttest_mean\n",
    "from selective_recruitment.scripts.script_roi_differences import norm_within_category # for results after normalization\n",
    "import selective_recruitment.regress as ra\n",
    "import selective_recruitment.region as sroi\n",
    "\n",
    "from statsmodels.stats.anova import AnovaRM  # perform F test\n",
    "from scipy.stats import ttest_rel\n",
    "\n",
    "from pathlib import Path\n",
    "import pandas as pd\n",
    "import numpy as np\n",
    "\n",
    "import matplotlib.pyplot as plt"
   ]
  },
  {
   "cell_type": "code",
   "execution_count": 55,
   "metadata": {},
   "outputs": [],
   "source": [
    "# setting working directory\n",
    "wkdir = 'A:\\data\\Cerebellum\\CerebellumWorkingMemory\\selective_recruit'\n",
    "if not Path(wkdir).exists():\n",
    "    wkdir = '/srv/diedrichsen/data/Cerebellum/CerebellumWorkingMemory/selective_recruit'\n",
    "if not Path(wkdir).exists():\n",
    "    wkdir = '/Volumes/diedrichsen_data$/data/Cerebellum/CerebellumWorkingMemory/selective_recruit'"
   ]
  },
  {
   "cell_type": "markdown",
   "metadata": {},
   "source": [
    "# selective recruitment: ROI-based\n",
    "scatterplots and statistical tests on the residuals for the selected region of interest"
   ]
  },
  {
   "cell_type": "code",
   "execution_count": 56,
   "metadata": {},
   "outputs": [],
   "source": [
    "# setting up names and colors\n",
    "label_dict = {1: 'LfLs', 2: 'LfMs',\n",
    "              3: 'LfHs', 4: 'MfLs',\n",
    "              5: 'HfLs', 6:'rest'}\n",
    "marker_dict = {1: '^', 2: 'X',\n",
    "               3: 'X', 4: 'o',\n",
    "               5: 'o', 6: 's'}\n",
    "color_dict = {1: 'grey', 2: 'r',\n",
    "              3: 'r', 4: 'b',\n",
    "              5: 'b', 6: 'g'}"
   ]
  },
  {
   "cell_type": "markdown",
   "metadata": {},
   "source": [
    "## Prepare the data for the scatterplot and the test"
   ]
  },
  {
   "cell_type": "markdown",
   "metadata": {},
   "source": [
    "* Pick one parcellation: Here NettekovenSym32, a data-driven hierarchical symmetric parcellation. ROI will be selected from this parcellation.\n",
    "* ss.get_summary_conn first uses a connectivity model to get predicted values for all the cerebellar voxels and then summarize the predicted values by averaging the values within the selected region of interest.\n"
   ]
  },
  {
   "cell_type": "code",
   "execution_count": 52,
   "metadata": {},
   "outputs": [],
   "source": [
    "# get the summary df with observed and predicted activation within cerebellar parcels\n",
    "\n",
    "## set params\n",
    "dataset = \"WMFS\"\n",
    "ses_id = 'ses-01'\n",
    "parcellation = \"NettekovenSym32\"\n",
    "cortex = \"Icosahedron1002\"\n",
    "type = \"CondHalf\"\n",
    "crossed = True\n",
    "mname_base = f'Fusion_all_{cortex}_L2regression'\n",
    "mname_ext = \"_09\" # if you want to use the fused model, mname_ext will be fuse_id. Use \"_A8\" for the non-fused model\n",
    "mname_base = f'MDTB_ses-s1_{cortex}_L1regression'\n",
    "mname_ext = \"_A-5\" # if you want to use the fused model, mname_ext will be fuse_id. Use \"_A8\" for the non-fused model\n",
    "\n",
    "# get predicted and observed within region of interest\n",
    "# D = ss.get_summary_conn(dataset = dataset,\n",
    "#                      ses_id = ses_id,\n",
    "#                      subj = None, # to do all the subjects\n",
    "#                      atlas_space = \"SUIT3\",\n",
    "#                      cerebellum_roi = parcellation,\n",
    "#                      cerebellum_roi_selected = None,\n",
    "#                      cortex_roi = cortex,\n",
    "#                      type = type,\n",
    "#                      add_rest = True,\n",
    "#                      mname_base = mname_base, # Fusion_all_Icosahedron1002_L2Regression_05_avg\n",
    "#                      mname_ext = mname_ext,\n",
    "#                      crossed = crossed)\n",
    "\n",
    "# apply regression to get residuals\n",
    "# this second regression is implemented because direct comparison of observed and\n",
    "# predicted activation is not possible due to different scaling\n",
    "# D = ra.roi_regress(D, fit_intercept=True)\n",
    "\n",
    "# save the df\n",
    "# D.to_csv(wkdir + f'/fs_ROI_{parcellation}_{cortex}_{type}_{mname_base}_{mname_ext}_conn_reg.tsv', sep='\\t')\n",
    "D = pd.read_csv(wkdir + f'/fs_ROI_{parcellation}_{cortex}_{type}_{mname_base}_{mname_ext}_conn_reg.tsv', sep='\\t')"
   ]
  },
  {
   "cell_type": "markdown",
   "metadata": {},
   "source": [
    "### Select region of interest.\n",
    "Here we pick one parcel by first focusing on one network, the most relevant network: here the motor network. From the sub-regions within that network, we pick the one that shows consistently high activation throughout the task"
   ]
  },
  {
   "cell_type": "code",
   "execution_count": 12,
   "metadata": {},
   "outputs": [
    {
     "name": "stdout",
     "output_type": "stream",
     "text": [
      "['M1L', 'M2L', 'M3L', 'M4L', 'M1R', 'M2R', 'M3R', 'M4R']\n"
     ]
    },
    {
     "data": {
      "text/html": [
       "<div>\n",
       "<style scoped>\n",
       "    .dataframe tbody tr th:only-of-type {\n",
       "        vertical-align: middle;\n",
       "    }\n",
       "\n",
       "    .dataframe tbody tr th {\n",
       "        vertical-align: top;\n",
       "    }\n",
       "\n",
       "    .dataframe thead th {\n",
       "        text-align: right;\n",
       "    }\n",
       "</style>\n",
       "<table border=\"1\" class=\"dataframe\">\n",
       "  <thead>\n",
       "    <tr style=\"text-align: right;\">\n",
       "      <th>roi_name</th>\n",
       "      <th>M3R</th>\n",
       "      <th>M1R</th>\n",
       "      <th>M2R</th>\n",
       "      <th>M2L</th>\n",
       "      <th>M1L</th>\n",
       "      <th>M4R</th>\n",
       "      <th>M3L</th>\n",
       "      <th>M4L</th>\n",
       "    </tr>\n",
       "  </thead>\n",
       "  <tbody>\n",
       "    <tr>\n",
       "      <th>Y</th>\n",
       "      <td>0.112481</td>\n",
       "      <td>0.101151</td>\n",
       "      <td>0.098448</td>\n",
       "      <td>0.074886</td>\n",
       "      <td>0.058411</td>\n",
       "      <td>0.051885</td>\n",
       "      <td>0.041224</td>\n",
       "      <td>0.028242</td>\n",
       "    </tr>\n",
       "  </tbody>\n",
       "</table>\n",
       "</div>"
      ],
      "text/plain": [
       "roi_name       M3R       M1R       M2R       M2L       M1L       M4R  \\\n",
       "Y         0.112481  0.101151  0.098448  0.074886  0.058411  0.051885   \n",
       "\n",
       "roi_name       M3L       M4L  \n",
       "Y         0.041224  0.028242  "
      ]
     },
     "metadata": {},
     "output_type": "display_data"
    },
    {
     "name": "stdout",
     "output_type": "stream",
     "text": [
      "selected region is M3R\n"
     ]
    }
   ],
   "source": [
    "roi_exp = \"M..\" # roi_exp = \"D.?3.?R|D.?3.?L\" # roi_exp = \"D.?3.?R\"\n",
    "_, _, selected_ = sroi.get_parcel_single(parcellation = parcellation,\n",
    "                                               atlas_space = \"SUIT3\",\n",
    "                                               roi_exp = roi_exp)\n",
    "print(selected_)\n",
    "table = pd.pivot_table(D.loc[np.isin(D.roi_name.values, selected_)], values='Y', index=['roi_name'], aggfunc=np.mean)\n",
    "sorted_regions = table.sort_values(by=[\"Y\"],ascending=False)\n",
    "display(sorted_regions.T)\n",
    "roi_selected = sorted_regions.T.columns[0]\n",
    "print(f\"selected region is {roi_selected}\")\n"
   ]
  },
  {
   "cell_type": "markdown",
   "metadata": {},
   "source": [
    "### make the scatterplot and test the residuals"
   ]
  },
  {
   "cell_type": "code",
   "execution_count": 66,
   "metadata": {},
   "outputs": [
    {
     "name": "stdout",
     "output_type": "stream",
     "text": [
      "                 Anova\n",
      "=======================================\n",
      "          F Value Num DF  Den DF Pr > F\n",
      "---------------------------------------\n",
      "cond_name  6.7965 4.0000 60.0000 0.0001\n",
      "=======================================\n",
      "\n",
      "t = 2.864, p = 0.0118\n"
     ]
    },
    {
     "data": {
      "image/png": "[encoded data removed]",
      "text/plain": [
       "<Figure size 432x288 with 1 Axes>"
      ]
     },
     "metadata": {
      "needs_background": "light"
     },
     "output_type": "display_data"
    }
   ],
   "source": [
    "# get the dataframe with the selected region\n",
    "mname = 'NettekovenSym32_Icosahedron1002_CondHalf_MDTB_ses-s1_Icosahedron1002_L2regression__A8'\n",
    "D = pd.read_csv(wkdir + f'/fs_ROI_{mname}_conn_reg.tsv', sep='\\t')\n",
    "selected_roi = \"M3R\"\n",
    "df = D.loc[(D.roi_name == selected_roi) & (D.cond_name != 'rest')]\n",
    "make_scatterplot(df, split='cond_num',\n",
    "                labels=label_dict,\n",
    "                markers=marker_dict,\n",
    "                colors=color_dict)\n",
    "# plt.xlabel(\"predicted cerebellar activation\")\n",
    "#  plt.savefig(f\"fs_{selected_roi}_scatter_selected_model.pdf\")\n",
    "print(AnovaRM(data=df, depvar='res',subject='sn', within=['cond_name'], aggregate_func=np.mean).fit())\n",
    "\n",
    "#define samples\n",
    "group1 = pd.pivot_table(df[(df['cond_name']=='HL   ') ],values='res',index='sn')\n",
    "group2 = pd.pivot_table(df[(df['cond_name']=='LH   ') ],values='res',index='sn')\n",
    "\n",
    "t,p=ttest_rel(group2,group1)\n",
    "print(f't = {t[0]:.3f}, p = {p[0]:.4f}')\n"
   ]
  },
  {
   "cell_type": "markdown",
   "metadata": {},
   "source": [
    "### Add Supplemental table here (across different connectivity models)"
   ]
  },
  {
   "cell_type": "code",
   "execution_count": 58,
   "metadata": {},
   "outputs": [
    {
     "name": "stdout",
     "output_type": "stream",
     "text": [
      "                 Anova\n",
      "=======================================\n",
      "          F Value Num DF  Den DF Pr > F\n",
      "---------------------------------------\n",
      "cond_name  5.0478 4.0000 60.0000 0.0014\n",
      "=======================================\n",
      "\n",
      "t = [2.13990841], p = [0.0492064]\n",
      "                 Anova\n",
      "=======================================\n",
      "          F Value Num DF  Den DF Pr > F\n",
      "---------------------------------------\n",
      "cond_name  6.7965 4.0000 60.0000 0.0001\n",
      "=======================================\n",
      "\n",
      "t = [2.86390877], p = [0.01182881]\n",
      "                 Anova\n",
      "=======================================\n",
      "          F Value Num DF  Den DF Pr > F\n",
      "---------------------------------------\n",
      "cond_name  4.9802 4.0000 60.0000 0.0016\n",
      "=======================================\n",
      "\n",
      "t = [2.37268954], p = [0.03145777]\n",
      "                 Anova\n",
      "=======================================\n",
      "          F Value Num DF  Den DF Pr > F\n",
      "---------------------------------------\n",
      "cond_name  3.8944 4.0000 60.0000 0.0071\n",
      "=======================================\n",
      "\n",
      "t = [1.85445046], p = [0.08343988]\n",
      "                 Anova\n",
      "=======================================\n",
      "          F Value Num DF  Den DF Pr > F\n",
      "---------------------------------------\n",
      "cond_name  3.2061 4.0000 60.0000 0.0188\n",
      "=======================================\n",
      "\n",
      "t = [1.76039674], p = [0.0987095]\n"
     ]
    }
   ],
   "source": [
    "## Make table with statistical values\n",
    "mname = ['NettekovenSym32_Icosahedron1002_CondHalf_Fusion_all_Icosahedron1002_L2regression__09',\n",
    "        'NettekovenSym32_Icosahedron1002_CondHalf_MDTB_ses-s1_Icosahedron1002_L2regression__A8',\n",
    "        'NettekovenSym32_Icosahedron1002_CondHalf_MDTB_ses-s1_Icosahedron1002_L1regression__A-5',\n",
    "        'NettekovenSym32_Icosahedron1002_CondHalf_MDTB_all_Icosahedron1002_L2regression__A8',\n",
    "        'NettekovenSym32_Icosahedron1002_CondHalf_MDTB_all_Icosahedron1002_L1regression__A-5']\n",
    "selected_roi = \"M3R\"\n",
    "for m in mname:\n",
    "    D = pd.read_csv(wkdir + f'/fs_ROI_{m}_conn_reg.tsv', sep='\\t')\n",
    "    df = D.loc[(D.roi_name == selected_roi) & (D.cond_name != 'rest')]\n",
    "    res = (AnovaRM(data=df[df.cond_name != 'rest'], depvar='res',subject='sn', within=['cond_name'], aggregate_func=np.mean).fit())\n",
    "    print(res.summary())\n",
    "    #define samples\n",
    "    group1 = pd.pivot_table(df[(df['cond_name']=='HL   ') ],values='res',index='sn')\n",
    "    group2 = pd.pivot_table(df[(df['cond_name']=='LH   ') ],values='res',index='sn')\n",
    "\n",
    "    t,p=ttest_rel(group2,group1)\n",
    "    print(f\"t = {t[0]:.3f}, p = {p[0]:.4f}\")"
   ]
  }
 ],
 "metadata": {
  "kernelspec": {
   "display_name": ".venv",
   "language": "python",
   "name": "python3"
  },
  "language_info": {
   "codemirror_mode": {
    "name": "ipython",
    "version": 3
   },
   "file_extension": ".py",
   "mimetype": "text/x-python",
   "name": "python",
   "nbconvert_exporter": "python",
   "pygments_lexer": "ipython3",
   "version": "3.9.5"
  },
  "orig_nbformat": 4
 },
 "nbformat": 4,
 "nbformat_minor": 2
}
