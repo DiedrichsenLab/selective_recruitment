{
 "cells": [
  {
   "attachments": {},
   "cell_type": "markdown",
   "metadata": {},
   "source": [
    "# Working memory dataset: Looking at pattern differences"
   ]
  },
  {
   "cell_type": "code",
   "execution_count": 1,
   "metadata": {},
   "outputs": [],
   "source": [
    "import sys\n",
    "\n",
    "import numpy as np\n",
    "import pandas as pd\n",
    "from pathlib import Path\n",
    "import os\n",
    "import nibabel as nb\n",
    "import nitools as nt\n",
    "import PcmPy as pcm\n",
    "import seaborn as sb\n",
    "\n",
    "# modules from functional fusion\n",
    "import Functional_Fusion.atlas_map as am\n",
    "import Functional_Fusion.dataset as ds\n",
    "import matplotlib.pyplot as plt\n",
    "# modules from connectivity\n",
    "# import cortico_cereb_connectivity.prepare_data as cprep\n",
    "import selective_recruitment.rsa as rsa\n",
    "# import selective_recruitment.select_recruite as sr"
   ]
  },
  {
   "cell_type": "code",
   "execution_count": 2,
   "metadata": {},
   "outputs": [],
   "source": [
    "base_dir = '/Volumes/diedrichsen_data$/data/FunctionalFusion'\n",
    "if not Path(base_dir).exists():\n",
    "    base_dir = '/cifs/diedrichsen/data/FunctionalFusion'\n",
    "atlas_dir = base_dir + '/Atlases'\n"
   ]
  },
  {
   "cell_type": "markdown",
   "metadata": {},
   "source": [
    "<font color = 'grey'>Defining functions specific to this dataset"
   ]
  },
  {
   "cell_type": "code",
   "execution_count": 6,
   "metadata": {},
   "outputs": [
    {
     "data": {
      "text/plain": [
       "array([[[ 4.31542848e-05,  7.46943614e-04,  5.12044514e-04, ...,\n",
       "         -7.55229699e-05, -1.07651712e-03, -1.37216855e-03],\n",
       "        [ 7.46943614e-04,  1.54504353e-03,  2.86463680e-03, ...,\n",
       "         -1.22900035e-03, -2.53178029e-03, -2.29728360e-03],\n",
       "        [ 5.12044514e-04,  2.86463680e-03,  8.97732867e-03, ...,\n",
       "         -4.32930501e-03, -5.08486011e-03, -1.69976058e-03],\n",
       "        ...,\n",
       "        [-7.55229699e-05, -1.22900035e-03, -4.32930501e-03, ...,\n",
       "          2.89503642e-03,  2.16970399e-03, -6.09755935e-05],\n",
       "        [-1.07651712e-03, -2.53178029e-03, -5.08486011e-03, ...,\n",
       "          2.16970399e-03,  4.16398656e-03,  3.24073993e-03],\n",
       "        [-1.37216855e-03, -2.29728360e-03, -1.69976058e-03, ...,\n",
       "         -6.09755935e-05,  3.24073993e-03,  3.58372045e-03]],\n",
       "\n",
       "       [[ 3.33441051e-03,  6.72343184e-03,  7.63527825e-03, ...,\n",
       "         -3.17903286e-03, -5.19764529e-03, -4.46456687e-03],\n",
       "        [ 6.72343184e-03,  1.27399782e-02,  1.63492528e-02, ...,\n",
       "         -6.68763387e-03, -1.05429036e-02, -7.45559671e-03],\n",
       "        [ 7.63527825e-03,  1.63492528e-02,  1.95455301e-02, ...,\n",
       "         -7.99631652e-03, -1.30784660e-02, -9.62673548e-03],\n",
       "        ...,\n",
       "        [-3.17903286e-03, -6.68763387e-03, -7.99631652e-03, ...,\n",
       "          3.94429267e-03,  5.72236507e-03,  4.35434547e-03],\n",
       "        [-5.19764529e-03, -1.05429036e-02, -1.30784660e-02, ...,\n",
       "          5.72236507e-03,  8.81891605e-03,  6.48252390e-03],\n",
       "        [-4.46456687e-03, -7.45559671e-03, -9.62673548e-03, ...,\n",
       "          4.35434547e-03,  6.48252390e-03,  5.10683279e-03]],\n",
       "\n",
       "       [[ 2.34328728e-03,  6.53994532e-04,  1.66443420e-03, ...,\n",
       "         -6.65532625e-04, -9.40658517e-04, -2.05558440e-03],\n",
       "        [ 6.53994532e-04, -9.61963353e-05,  3.53798690e-04, ...,\n",
       "          3.61474141e-04, -1.35542885e-04, -4.61339850e-04],\n",
       "        [ 1.66443420e-03,  3.53798690e-04,  5.17466119e-04, ...,\n",
       "         -3.17260096e-04, -6.15134848e-04, -1.18758416e-03],\n",
       "        ...,\n",
       "        [-6.65532625e-04,  3.61474141e-04, -3.17260096e-04, ...,\n",
       "          1.19351178e-03, -2.27955580e-04,  6.15640369e-04],\n",
       "        [-9.40658517e-04, -1.35542885e-04, -6.15134848e-04, ...,\n",
       "         -2.27955580e-04,  4.25495586e-04,  8.64248095e-04],\n",
       "        [-2.05558440e-03, -4.61339850e-04, -1.18758416e-03, ...,\n",
       "          6.15640369e-04,  8.64248095e-04,  1.43442239e-03]],\n",
       "\n",
       "       ...,\n",
       "\n",
       "       [[ 2.38330762e-03,  2.43694491e-03, -1.48310744e-03, ...,\n",
       "          9.13930094e-04, -1.02882862e-03, -1.10845162e-03],\n",
       "        [ 2.43694491e-03, -1.56698020e-04,  1.31799498e-03, ...,\n",
       "         -1.27320620e-03, -1.76298388e-03, -2.65127367e-04],\n",
       "        [-1.48310744e-03,  1.31799498e-03,  1.22903962e-02, ...,\n",
       "          4.86280769e-04, -4.02569281e-03, -2.94702779e-03],\n",
       "        ...,\n",
       "        [ 9.13930094e-04, -1.27320620e-03,  4.86280769e-04, ...,\n",
       "          3.67994976e-03,  3.60149827e-04,  3.56331162e-04],\n",
       "        [-1.02882862e-03, -1.76298388e-03, -4.02569281e-03, ...,\n",
       "          3.60149827e-04,  2.29368016e-03,  1.69840607e-03],\n",
       "        [-1.10845162e-03, -2.65127367e-04, -2.94702779e-03, ...,\n",
       "          3.56331162e-04,  1.69840607e-03,  5.21370424e-04]],\n",
       "\n",
       "       [[ 1.52813734e-02,  3.93655939e-03, -1.16863373e-03, ...,\n",
       "         -5.47856475e-03, -4.38967479e-03, -9.19740403e-03],\n",
       "        [ 3.93655939e-03,  3.44439886e-03,  3.57454716e-03, ...,\n",
       "         -4.36424555e-03, -3.28497496e-03, -2.91141734e-03],\n",
       "        [-1.16863373e-03,  3.57454716e-03,  4.67771963e-03, ...,\n",
       "         -3.21385207e-03, -2.83817369e-03, -9.99869319e-04],\n",
       "        ...,\n",
       "        [-5.47856475e-03, -4.36424555e-03, -3.21385207e-03, ...,\n",
       "          4.19529412e-03,  4.31365130e-03,  4.90483212e-03],\n",
       "        [-4.38967479e-03, -3.28497496e-03, -2.83817369e-03, ...,\n",
       "          4.31365130e-03,  3.28874533e-03,  3.30792854e-03],\n",
       "        [-9.19740403e-03, -2.91141734e-03, -9.99869319e-04, ...,\n",
       "          4.90483212e-03,  3.30792854e-03,  5.81381906e-03]],\n",
       "\n",
       "       [[ 2.19368242e-03,  1.73753688e-03,  1.40475214e-03, ...,\n",
       "         -2.22823039e-03, -2.32485180e-03, -2.07703056e-03],\n",
       "        [ 1.73753688e-03,  4.25201432e-03,  3.14453586e-03, ...,\n",
       "         -2.14148873e-03, -3.29008805e-03, -4.84479480e-03],\n",
       "        [ 1.40475214e-03,  3.14453586e-03,  3.16090332e-03, ...,\n",
       "         -2.23243689e-03, -2.34584357e-03, -3.22900858e-03],\n",
       "        ...,\n",
       "        [-2.22823039e-03, -2.14148873e-03, -2.23243689e-03, ...,\n",
       "          1.74631261e-03,  2.49950906e-03,  2.93092563e-03],\n",
       "        [-2.32485180e-03, -3.29008805e-03, -2.34584357e-03, ...,\n",
       "          2.49950906e-03,  2.63677750e-03,  3.95755098e-03],\n",
       "        [-2.07703056e-03, -4.84479480e-03, -3.22900858e-03, ...,\n",
       "          2.93092563e-03,  3.95755098e-03,  4.00508953e-03]]])"
      ]
     },
     "execution_count": 6,
     "metadata": {},
     "output_type": "execute_result"
    }
   ],
   "source": [
    "DCereb, info, dataset = ds.get_dataset(base_dir,dataset=\n",
    "                                            'WMFS',\n",
    "                                            atlas='MNISymC3',\n",
    "                                            sess='ses-02',\n",
    "                                            type='CondRun')\n",
    "G1,Ginf = rsa.calc_rsa(DCereb,info,center=True,reorder=['phase','recall'])\n",
    "\n",
    "DCortex, info, dataset = ds.get_dataset(base_dir,\n",
    "                                            'WMFS',\n",
    "                                            atlas='fs32k',\n",
    "                                            sess='ses-02',\n",
    "                                            type='CondRun')\n",
    "G2,Ginf  = rsa.calc_rsa(DCortex,info,center=True,reorder=['phase','recall'])\n"
   ]
  },
  {
   "attachments": {},
   "cell_type": "markdown",
   "metadata": {},
   "source": [
    "### Cerebellar RSA "
   ]
  },
  {
   "cell_type": "code",
   "execution_count": 5,
   "metadata": {},
   "outputs": [
    {
     "ename": "AttributeError",
     "evalue": "module 'PcmPy.vis' has no attribute 'plot_Gs'",
     "output_type": "error",
     "traceback": [
      "\u001b[0;31m---------------------------------------------------------------------------\u001b[0m",
      "\u001b[0;31mAttributeError\u001b[0m                            Traceback (most recent call last)",
      "Cell \u001b[0;32mIn [5], line 2\u001b[0m\n\u001b[1;32m      1\u001b[0m plt\u001b[38;5;241m.\u001b[39mfigure(figsize\u001b[38;5;241m=\u001b[39m(\u001b[38;5;241m10\u001b[39m,\u001b[38;5;241m10\u001b[39m))\n\u001b[0;32m----> 2\u001b[0m \u001b[43mpcm\u001b[49m\u001b[38;5;241;43m.\u001b[39;49m\u001b[43mvis\u001b[49m\u001b[38;5;241;43m.\u001b[39;49m\u001b[43mplot_Gs\u001b[49m(G1)\n",
      "\u001b[0;31mAttributeError\u001b[0m: module 'PcmPy.vis' has no attribute 'plot_Gs'"
     ]
    },
    {
     "data": {
      "text/plain": [
       "<Figure size 1000x1000 with 0 Axes>"
      ]
     },
     "metadata": {},
     "output_type": "display_data"
    }
   ],
   "source": [
    "plt.figure(figsize=(10,10))\n",
    "pcm.vis.plot_Gs(G1)"
   ]
  },
  {
   "attachments": {},
   "cell_type": "markdown",
   "metadata": {},
   "source": [
    "### Cortical RSA"
   ]
  },
  {
   "cell_type": "code",
   "execution_count": 5,
   "metadata": {},
   "outputs": [
    {
     "data": {
      "image/png": "[encoded data removed]",
      "text/plain": [
       "<Figure size 720x720 with 16 Axes>"
      ]
     },
     "metadata": {},
     "output_type": "display_data"
    }
   ],
   "source": [
    "plt.figure(figsize=(10,10))\n",
    "pcm.vis.plot_Gs(G2)\n"
   ]
  },
  {
   "attachments": {},
   "cell_type": "markdown",
   "metadata": {},
   "source": [
    "## Average cortical and cerebellar RSA"
   ]
  },
  {
   "cell_type": "code",
   "execution_count": 6,
   "metadata": {},
   "outputs": [
    {
     "data": {
      "image/png": "[encoded data removed]",
      "text/plain": [
       "<Figure size 432x288 with 2 Axes>"
      ]
     },
     "metadata": {},
     "output_type": "display_data"
    }
   ],
   "source": [
    "mG1 = G1.mean(axis=0)\n",
    "mG2 = G2.mean(axis=0)\n",
    "mG=np.stack([mG1,mG2])\n",
    "pcm.vis.plot_Gs(mG,grid=(1,2))"
   ]
  },
  {
   "cell_type": "code",
   "execution_count": null,
   "metadata": {},
   "outputs": [],
   "source": []
  }
 ],
 "metadata": {
  "kernelspec": {
   "display_name": "base",
   "language": "python",
   "name": "python3"
  },
  "language_info": {
   "codemirror_mode": {
    "name": "ipython",
    "version": 3
   },
   "file_extension": ".py",
   "mimetype": "text/x-python",
   "name": "python",
   "nbconvert_exporter": "python",
   "pygments_lexer": "ipython3",
   "version": "3.8.10"
  },
  "orig_nbformat": 4,
  "vscode": {
   "interpreter": {
    "hash": "82c9595c6ac3df5bed1366f4aa85323e4ec1b3448185f6be6e163d2b6e222f49"
   }
  }
 },
 "nbformat": 4,
 "nbformat_minor": 2
}
