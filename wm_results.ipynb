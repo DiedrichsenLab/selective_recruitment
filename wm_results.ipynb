{
 "cells": [
  {
   "cell_type": "markdown",
   "metadata": {},
   "source": [
    "# Final results for the working memory dataset"
   ]
  },
  {
   "cell_type": "code",
   "execution_count": 199,
   "metadata": {},
   "outputs": [],
   "source": [
    "import os\n",
    "import numpy as np\n",
    "import seaborn as sns # for plots\n",
    "import pandas as pd\n",
    "from pathlib import Path\n",
    "import matplotlib.pyplot as plt\n",
    "from scipy import stats as sps # to calcualte confidence intervals, etc\n",
    "from adjustText import adjust_text # to adjust the text labels in the plots (pip install adjustText)\n",
    "\n",
    "from statsmodels.stats.anova import AnovaRM # perform F test"
   ]
  },
  {
   "cell_type": "code",
   "execution_count": 200,
   "metadata": {},
   "outputs": [],
   "source": [
    "# setting directories\n",
    "base_dir = '/Volumes/diedrichsen_data$/data/FunctionalFusion'\n",
    "if not Path(base_dir).exists():\n",
    "    base_dir = '/srv/diedrichsen/data/FunctionalFusion'\n",
    "atlas_dir = base_dir + '/Atlases'"
   ]
  },
  {
   "cell_type": "markdown",
   "metadata": {},
   "source": [
    "<font color = 'grey'>Defining functions specific to this dataset"
   ]
  },
  {
   "cell_type": "code",
   "execution_count": 201,
   "metadata": {},
   "outputs": [],
   "source": [
    "# Functions\n",
    "# prepare dataframe for plotting\n",
    "def prep_df(dataframe, agg_kw = {}, groupby = \"cond_name\"):\n",
    "    \"\"\"\n",
    "    prepare the region dataframe to do the scatter plot\n",
    "    gets the mean across subjects (data point) and std of residuals\n",
    "    THIS ONLY WORKS FOR WM dataset\n",
    "    Args:\n",
    "        dataframe (pd.DataFrame) - dataframe with residuals info \n",
    "        agg_kw (dict) - dictionary determining info for dataframe aggregation\n",
    "        Example agg_kw: {'load': 'first',\n",
    "                         'phase': 'first',\n",
    "                         'recall': 'first',\n",
    "                         'X': np.mean,\n",
    "                         'Y': np.mean}\n",
    "    Returns:\n",
    "    g_df (pd.DataFrame) - dataframe ready for putting into the scatterplot function\n",
    "    \"\"\"\n",
    "    # group by condition\n",
    "    grouped = dataframe.groupby([groupby])\n",
    "    g_df = grouped.agg(agg_kw)\n",
    "    \n",
    "    g_std = grouped.std(numeric_only=True)\n",
    "    g_df[\"Y_CI\"] = grouped.Y.apply(sps.sem) * 1.96\n",
    "    g_df[\"X_CI\"] = grouped.X.apply(sps.sem)*1.96\n",
    "    g_df['err'] = g_std['res']\n",
    "    \n",
    "    \n",
    "    return g_df\n",
    "\n",
    "# add text labels to points\n",
    "def annotate(dataframe, text_size = 'small', text_weight = 'regular', labels = \"load\"):\n",
    "    \"\"\"\n",
    "    annotate data points in the scatterplot\n",
    "    Args:\n",
    "    dataframe (pd.DataFrame)\n",
    "    text_size (str) \n",
    "    text_weight (str)\n",
    "    labels (str) - column of the dataframe that is to be used as label\n",
    "    \"\"\"\n",
    "    texts = []\n",
    "    for i in range(dataframe.shape[0]):   \n",
    "        text = plt.text(\n",
    "                        dataframe.X[i]+0.001, \n",
    "                        dataframe.Y[i], \n",
    "                        s = dataframe[labels][i],\n",
    "                        horizontalalignment='left', \n",
    "                        size=text_size, \n",
    "                        weight=text_weight\n",
    "                        )\n",
    "        texts.append(text)\n",
    "\n",
    "    adjust_text(texts) # make sure you have installed adjust_text\n",
    "\n",
    "# plotting:\n",
    "def make_plot(dataframe, hue = \"phase\", style = \"recall\", label = \"load\", height = 4, aspect = 1):\n",
    "    \"\"\"\n",
    "    make scatterplot\n",
    "    uses FacetGrid \n",
    "    Args: \n",
    "    dataframe (pd.DataFrame) - output from prep_df\n",
    "    hue (str)      - column name to be used to determine color\n",
    "    style (str)    - column name to be used to determine shape of the marker\n",
    "    label (str)    - column name to be used to determine the label of the data points\n",
    "    height (int)   - int to determine the height of the plot\n",
    "    aspect (float) - floating number to determine the aspect ratio of the plot\n",
    "    \"\"\"\n",
    "    g = sns.FacetGrid(dataframe,  height=height, aspect=aspect)\n",
    "    # do the scatter plot\n",
    "    g.map_dataframe(sns.scatterplot, x=\"X\", y=\"Y\", \n",
    "                                    style = style, hue = hue, s = 100)\n",
    "    g.add_legend()\n",
    "\n",
    "    # fit the regression on top of the scatterplot\n",
    "    g.map_dataframe(sns.regplot, x=\"X\", y=\"Y\", \n",
    "                        fit_reg=True, \n",
    "                        scatter_kws={\"s\": 0}, # size is set to 0 so that it doesn't cover the markers created in the scatterplot step \n",
    "                        line_kws={'label':\"Linear Reg\", \"color\": 'grey'})\n",
    "\n",
    "    # put the errorbars in \n",
    "    g.map(plt.errorbar, x = df_preped['X'], \n",
    "                        y = df_preped['Y'], \n",
    "                        yerr = df_preped['err'],\n",
    "                        elinewidth=1, \n",
    "                        fmt='none', # no marker will be used when plotting the error bars\n",
    "                        color='grey', \n",
    "                        ecolor='0.9'\n",
    "                )\n",
    "    # set labels\n",
    "    g.set_xlabels('Cortical Activation (a.u.)')\n",
    "    g.set_ylabels('Cerebellar Activation (a.u.)')\n",
    "\n",
    "    # get labels for each data point\n",
    "    annotate(df_preped, text_size = 'small', text_weight = 'regular', labels = label)\n",
    "    return"
   ]
  },
  {
   "cell_type": "markdown",
   "metadata": {},
   "source": [
    "## 1. Plots and test results\n",
    "investigating linearity"
   ]
  },
  {
   "cell_type": "markdown",
   "metadata": {},
   "source": [
    "### 1.1 Over the whole cerebellum and cortex"
   ]
  },
  {
   "cell_type": "markdown",
   "metadata": {},
   "source": [
    "<font color = 'grey'>Prepare the dataframe for the scatterplot"
   ]
  },
  {
   "cell_type": "code",
   "execution_count": 202,
   "metadata": {},
   "outputs": [],
   "source": [
    "# load the dataframe for the whole \n",
    "df_path = os.path.join(base_dir, \"WMFS\", \"sc_df_whole_ses-02.tsv\")\n",
    "df = pd.read_csv(df_path, sep=\"\\t\")\n",
    "\n",
    "# cleaning up (changing ints to strings)\n",
    "df['phase']   = df['phase'].map({1: 'retriev', 0: 'encode'}) \n",
    "df['recall']  = df['recall'].map({1: 'fw', 0: 'bw'}) \n",
    "df['load']    = df['load'].map({2:'load2', 4:'load4', 6:'load6'})\n",
    "\n",
    "# prepare df for plotting\n",
    "# by setting non-numeric fields to 'first', we make sure that they are not removed from the final dataframe\n",
    "agg_kw= {'load': 'first', 'phase': 'first', 'recall': 'first', 'X': np.mean, 'Y': np.mean}\n",
    "df_preped = prep_df(df, groupby = \"cond_name\", agg_kw=agg_kw)\n",
    "# df_preped\n",
    "    "
   ]
  },
  {
   "cell_type": "markdown",
   "metadata": {},
   "source": [
    "<font color = 'grey'> Do the scatterplot:<br>\n",
    "The task has 3 factors: phase (encoding, retrieval), recall direction (forward, backward), and load (2, 4, 6).<br>\n",
    "* Phase will be used to determine the color of each data point\n",
    "* Recall direction determines the shape of the marker\n",
    "* Load will be displayed as label next to the data point\n",
    "\n",
    "For more help on Facetgrid see https://seaborn.pydata.org/generated/seaborn.FacetGrid.html"
   ]
  },
  {
   "cell_type": "code",
   "execution_count": 203,
   "metadata": {},
   "outputs": [
    {
     "data": {
      "image/png": "[encoded data removed]",
      "text/plain": [
       "<Figure size 500.75x400 with 1 Axes>"
      ]
     },
     "metadata": {},
     "output_type": "display_data"
    }
   ],
   "source": [
    "make_plot(df_preped, hue = \"phase\", style = \"recall\", label = \"load\", height = 4, aspect = 1)"
   ]
  },
  {
   "cell_type": "markdown",
   "metadata": {},
   "source": [
    "Figure 1. Scatterplot showing average cerebellar activation in each condition vs the corresponding average activation in the cortex. The linear fit is shown in grey. Error bars represent the standard deviation of the residuals of the linear regression fit. "
   ]
  },
  {
   "cell_type": "markdown",
   "metadata": {},
   "source": [
    "<font color = 'grey'> Do F-test (repeated measures ANOVA)"
   ]
  },
  {
   "cell_type": "code",
   "execution_count": 194,
   "metadata": {},
   "outputs": [
    {
     "name": "stdout",
     "output_type": "stream",
     "text": [
      "                  Anova\n",
      "=========================================\n",
      "          F Value  Num DF  Den DF  Pr > F\n",
      "-----------------------------------------\n",
      "cond_name  5.4452 11.0000 165.0000 0.0000\n",
      "=========================================\n",
      "\n"
     ]
    }
   ],
   "source": [
    "# need to pass on aggregate_func to aggregate over the two halved (see half column in the original dataframe)\n",
    "print(AnovaRM(data=df, depvar='res',\n",
    "              subject='sn', within=['cond_name'], aggregate_func = np.mean).fit())"
   ]
  },
  {
   "cell_type": "markdown",
   "metadata": {},
   "source": [
    "### 1.2 Over region of interests\n",
    "#### 1.2.1 verbal working memory contrast"
   ]
  },
  {
   "cell_type": "markdown",
   "metadata": {},
   "source": [
    "#### 1.2.2 Yeo Buckner 7 and 17\n",
    "* Which region is selected?\n",
    "* Why did you select this specific region?"
   ]
  },
  {
   "cell_type": "markdown",
   "metadata": {},
   "source": [
    "### 1.3 Using connectivity models"
   ]
  },
  {
   "cell_type": "markdown",
   "metadata": {},
   "source": []
  }
 ],
 "metadata": {
  "interpreter": {
   "hash": "9ce5f2e5c22f51db31bdb70bc0e603caae6dc565e3c4dadea0f7b6369ff6ad7f"
  },
  "kernelspec": {
   "display_name": "Python 3.8.10 ('env': venv)",
   "language": "python",
   "name": "python3"
  },
  "language_info": {
   "codemirror_mode": {
    "name": "ipython",
    "version": 3
   },
   "file_extension": ".py",
   "mimetype": "text/x-python",
   "name": "python",
   "nbconvert_exporter": "python",
   "pygments_lexer": "ipython3",
   "version": "3.8.10"
  },
  "orig_nbformat": 4
 },
 "nbformat": 4,
 "nbformat_minor": 2
}
