{
 "cells": [
  {
   "cell_type": "code",
   "execution_count": 2,
   "metadata": {},
   "outputs": [],
   "source": [
    "import numpy as np\n",
    "import pandas as pd\n",
    "import seaborn as sns\n",
    "import cortico_cereb_connectivity.globals as gl\n",
    "import cortico_cereb_connectivity.run_model as rm\n",
    "import matplotlib.pyplot as plt\n",
    "import scipy.stats as stats\n",
    "from statsmodels.stats.anova import AnovaRM  # perform F test\n",
    "\n",
    "\n",
    "import cortico_cereb_connectivity.scripts.script_train_eval_models as ste\n",
    "\n",
    "import warnings\n",
    "warnings.filterwarnings('ignore')"
   ]
  },
  {
   "cell_type": "markdown",
   "metadata": {},
   "source": [
    "# Determine the best models to be fused\n",
    "These are determined on a dataset specific manner?"
   ]
  },
  {
   "cell_type": "code",
   "execution_count": null,
   "metadata": {},
   "outputs": [],
   "source": [
    "# get the best performing model for Md_ses-s1, L1 and L2 regression\n",
    "dfs1=rm.comb_eval(models=['Md-loo', 'Md_ses-s1-loo', 'Ni-loo', 'Ib-loo', 'So-loo', 'De-loo'],\n",
    "                  eval_t = 'eval', \n",
    "                  eval_data=[\"MDTB\", \"Nishimoto\", \"Demand\", \"Somatotopic\", \"IBC\"], \n",
    "                  methods =['L2regression', 'L1regression'])\n",
    "dfs1['model'].fillna('avg',inplace=True)\n",
    "dfs1['nanY']=np.isnan(dfs1.noiseceiling_Y)\n",
    "dfs1['nanXY']=np.isnan(dfs1.noiseceiling_XY)\n",
    "dfs1['nanXR']=np.isnan(dfs1.noise_X_R)\n",
    "print(dfs1.train_dataset.unique())\n",
    "print(dfs1.eval_dataset.unique())\n",
    "\n",
    "# check this out, it'll be empty\n",
    "print(dfs1.loc[dfs1.train_dataset != dfs1.eval_dataset])"
   ]
  },
  {
   "cell_type": "code",
   "execution_count": null,
   "metadata": {},
   "outputs": [],
   "source": [
    "# determine the best logalpha for each regularization method\n",
    "## for L1 regression\n",
    "ds_L1 = dfs1.loc[dfs1.method=='L1regression']\n",
    "A_L1 = pd.pivot_table(ds_L1,index=['train_dataset'],columns=['logalpha'],values=['R_eval'])\n",
    "B_L1 = np.nan_to_num(A_L1.values)\n",
    "ind_L1 = B_L1.argmax(axis=1)\n",
    "log_a_L1=np.array(A_L1.columns.get_level_values(1)[ind_L1])\n",
    "bestla_L1 = pd.DataFrame(log_a_L1,index=A_L1.index,columns=['best_logalpha'])\n",
    "ds_L1['isbest'] = ds_L1.logalpha.values  == bestla_L1.loc[ds_L1.train_dataset].values.flatten()\n",
    "\n",
    "## for L2 regression\n",
    "ds_L2 = dfs1.loc[dfs1.method=='L2regression']\n",
    "A_L2 = pd.pivot_table(ds_L2,index=['train_dataset'],columns=['logalpha'],values=['R_eval'])\n",
    "B_L2 = np.nan_to_num(A_L2.values)\n",
    "ind_L2 = B_L2.argmax(axis=1)\n",
    "log_a_L2=np.array(A_L2.columns.get_level_values(1)[ind_L2])\n",
    "bestla_L2 = pd.DataFrame(log_a_L2,index=A_L2.index,columns=['best_logalpha'])\n",
    "ds_L2['isbest'] = ds_L2.logalpha.values  == bestla_L2.loc[ds_L2.train_dataset].values.flatten()"
   ]
  },
  {
   "cell_type": "markdown",
   "metadata": {},
   "source": [
    "## Evaluate L1 models"
   ]
  },
  {
   "cell_type": "code",
   "execution_count": null,
   "metadata": {},
   "outputs": [],
   "source": [
    "plt.figure(figsize=(16,10))\n",
    "evd=['MDTB','Nishimoto','IBC','Demand','Somatotopic']\n",
    "\n",
    "for i,ed in enumerate(evd):\n",
    "    ax=plt.subplot(2,3,i+1)\n",
    "    d=ds_L1[(ds_L1.eval_dataset==ed) & (ds_L1.train_dataset==ed)]\n",
    "    plt.title(ed)\n",
    "    sns.pointplot(data=d,y='R_eval',x='logalpha')\n",
    "    # get the logalpha corresponding to best performance\n",
    "    best_alpha = bestla_L1.loc[ed].values[0].astype(int)\n",
    "    print(f\"{ed}: best alpha = {best_alpha}\")\n"
   ]
  },
  {
   "cell_type": "markdown",
   "metadata": {},
   "source": [
    "## Evaluate L2 models"
   ]
  },
  {
   "cell_type": "code",
   "execution_count": null,
   "metadata": {},
   "outputs": [],
   "source": [
    "plt.figure(figsize=(16,10))\n",
    "evd=['MDTB','Nishimoto','IBC','Demand','Somatotopic']\n",
    "\n",
    "for i,ed in enumerate(evd):\n",
    "    ax=plt.subplot(2,3,i+1)\n",
    "    d=ds_L2[(ds_L2.eval_dataset==ed) & (ds_L2.train_dataset==ed)]\n",
    "    plt.title(ed)\n",
    "    sns.pointplot(data=d,y='R_eval',x='logalpha')\n",
    "    # get the logalpha corresponding to best performance\n",
    "    best_alpha = bestla_L2.loc[ed].values[0].astype(int)\n",
    "    print(f\"{ed}: best alpha = {best_alpha}\")\n"
   ]
  },
  {
   "cell_type": "markdown",
   "metadata": {},
   "source": [
    "##  Evaluate different models\n",
    "Fusion9: ['Demand'','IBC','MDTB','Somatotopic','Nishimoto'],\n",
    "\n",
    "MDTB:['ses-s1'], This is the connectivity model we used in the connectivity paper\n",
    "\n",
    "MDTB:['ses-s1', 'ses-s2'] The connectivity weights will be averaged over ses-s1 and ses-s2\n",
    "\n",
    "For each of the models, both Ridge and lasso regression will be considered\n"
   ]
  },
  {
   "cell_type": "markdown",
   "metadata": {},
   "source": [
    "# What is the best performing model trained only on ses-s1 for MDTB"
   ]
  },
  {
   "cell_type": "markdown",
   "metadata": {},
   "source": [
    "## getting models trained on MDTB \n",
    "These will be the models trained on MDTB, either set A tasks or both set A and set B"
   ]
  },
  {
   "cell_type": "code",
   "execution_count": null,
   "metadata": {},
   "outputs": [],
   "source": [
    "D_Md_s1 = dfs1.loc[(dfs1.train_dataset=='MDTB')&(dfs1.train_ses == 'ses-s1')]\n",
    "D_Md_s1.columns"
   ]
  },
  {
   "cell_type": "code",
   "execution_count": null,
   "metadata": {},
   "outputs": [],
   "source": [
    "# determine the best logalpha for each regularization method\n",
    "## for L1 regression\n",
    "ds_L1 = D_Md_s1.loc[D_Md_s1.method=='L1regression']\n",
    "A_L1 = pd.pivot_table(ds_L1,index=['train_dataset'],columns=['logalpha'],values=['R_eval'])\n",
    "B_L1 = np.nan_to_num(A_L1.values)\n",
    "ind_L1 = B_L1.argmax(axis=1)\n",
    "log_a_L1=np.array(A_L1.columns.get_level_values(1)[ind_L1])\n",
    "bestla_L1 = pd.DataFrame(log_a_L1,index=A_L1.index,columns=['best_logalpha'])\n",
    "ds_L1['isbest'] = ds_L1.logalpha.values  == bestla_L1.loc[ds_L1.train_dataset].values.flatten()\n",
    "\n",
    "## for L2 regression\n",
    "ds_L2 = D_Md_s1.loc[D_Md_s1.method=='L2regression']\n",
    "A_L2 = pd.pivot_table(ds_L2,index=['train_dataset'],columns=['logalpha'],values=['R_eval'])\n",
    "B_L2 = np.nan_to_num(A_L2.values)\n",
    "ind_L2 = B_L2.argmax(axis=1)\n",
    "log_a_L2=np.array(A_L2.columns.get_level_values(1)[ind_L2])\n",
    "bestla_L2 = pd.DataFrame(log_a_L2,index=A_L2.index,columns=['best_logalpha'])\n",
    "ds_L2['isbest'] = ds_L2.logalpha.values  == bestla_L2.loc[ds_L2.train_dataset].values.flatten()"
   ]
  },
  {
   "cell_type": "code",
   "execution_count": null,
   "metadata": {},
   "outputs": [],
   "source": [
    "D_Md = dfs1.loc[(dfs1.train_dataset=='MDTB')&(dfs1.train_ses == 'all')]"
   ]
  },
  {
   "cell_type": "code",
   "execution_count": null,
   "metadata": {},
   "outputs": [],
   "source": [
    "# determine the best logalpha for each regularization method\n",
    "# for L1 regression\n",
    "d_L1 = D_Md.loc[D_Md.method=='L1regression']\n",
    "A_L1 = pd.pivot_table(d_L1,index=['train_dataset'],columns=['logalpha'],values=['R_eval'])\n",
    "B_L1 = np.nan_to_num(A_L1.values)\n",
    "ind_L1 = B_L1.argmax(axis=1)\n",
    "log_a_L1=np.array(A_L1.columns.get_level_values(1)[ind_L1])\n",
    "bestla_L1 = pd.DataFrame(log_a_L1,index=A_L1.index,columns=['best_logalpha'])\n",
    "d_L1['isbest'] = d_L1.logalpha.values  == bestla_L1.loc[d_L1.train_dataset].values.flatten()\n",
    "\n",
    "# for L2 regression\n",
    "d_L2 = D_Md.loc[D_Md.method=='L2regression']\n",
    "A_L2 = pd.pivot_table(d_L2,index=['train_dataset'],columns=['logalpha'],values=['R_eval'])\n",
    "B_L2 = np.nan_to_num(A_L2.values)\n",
    "ind_L2 = B_L2.argmax(axis=1)\n",
    "log_a_L2=np.array(A_L2.columns.get_level_values(1)[ind_L2])\n",
    "bestla_L2 = pd.DataFrame(log_a_L2,index=A_L2.index,columns=['best_logalpha'])\n",
    "d_L2['isbest'] = d_L2.logalpha.values  == bestla_L2.loc[d_L2.train_dataset].values.flatten()"
   ]
  },
  {
   "cell_type": "markdown",
   "metadata": {},
   "source": [
    "# prep for comparing models\n"
   ]
  },
  {
   "cell_type": "markdown",
   "metadata": {},
   "source": [
    "# Now get the fused model\n"
   ]
  },
  {
   "cell_type": "code",
   "execution_count": null,
   "metadata": {},
   "outputs": [],
   "source": [
    "# Add the favorite Fusion model\n",
    "dfuse = rm.comb_eval(models=['Fu09-loo'],eval_t = 'eval', methods=['L1regression', 'L2regression'])\n"
   ]
  },
  {
   "cell_type": "code",
   "execution_count": null,
   "metadata": {},
   "outputs": [],
   "source": [
    "# concatenate the two dataframes\n",
    "dall = pd.concat([D_Md, D_Md_s1,dfuse],ignore_index=True)\n",
    "sns.barplot(data=dall,x=dall['train_dataset'] + dall['train_ses'],y='R_eval', hue = \"method\")\n"
   ]
  },
  {
   "cell_type": "code",
   "execution_count": null,
   "metadata": {},
   "outputs": [],
   "source": [
    "# What predicition accuracy relative to noise-ceiling? Fusion L2regression\n",
    "dd = dall.loc[(dall.train_dataset == 'Fusion') & (dall.method == 'L2regression')]\n",
    "print(f\"R_eval {dd.R_eval.mean():.4f} + {dd.R_eval.std():.2f}\")\n",
    "adj = dd.R_eval.mean() / dd.noiseceiling_XY.mean() \n",
    "print(f\"R_eval {adj:.4f} \") \n",
    "print(f'Average noiseceiling{dd.noiseceiling_XY.mean():.4f} ')\n",
    "print(f'variance predicted:{adj**2:.4f}')"
   ]
  },
  {
   "cell_type": "code",
   "execution_count": null,
   "metadata": {},
   "outputs": [],
   "source": [
    "# What predicition accuracy relative to noise-ceiling? Fusion L1regression\n",
    "dd = dall.loc[(dall.train_dataset == 'Fusion') & (dall.method == 'L1regression')]\n",
    "print(f\"R_eval {dd.R_eval.mean():.4f} + {dd.R_eval.std():.2f}\")\n",
    "adj = dd.R_eval.mean() / dd.noiseceiling_XY.mean() \n",
    "print(f\"R_eval {adj:.4f} \") \n",
    "print(f'Average noiseceiling{dd.noiseceiling_XY.mean():.4f} ')\n",
    "print(f'variance predicted:{adj**2:.4f}')"
   ]
  },
  {
   "cell_type": "markdown",
   "metadata": {},
   "source": [
    "## a different approach:\n",
    "Evaluating the models trained on different datasets on the dataset in the current paper\n",
    "\n",
    "** The fused model used here excludes the current dataset\n",
    "\n",
    "Alternatively, we can set WMFS aside completely and use another dataset for evaluation, like Demand"
   ]
  },
  {
   "cell_type": "code",
   "execution_count": 8,
   "metadata": {},
   "outputs": [
    {
     "name": "stdout",
     "output_type": "stream",
     "text": [
      "/Volumes/diedrichsen_data$/data/Cerebellum/connectivity/SUIT3/eval/WMFS_L2regression_Md.tsv\n",
      "/Volumes/diedrichsen_data$/data/Cerebellum/connectivity/SUIT3/eval/WMFS_L1regression_Md.tsv\n",
      "/Volumes/diedrichsen_data$/data/Cerebellum/connectivity/SUIT3/eval/WMFS_L2regression_Md_ses-s1.tsv\n",
      "/Volumes/diedrichsen_data$/data/Cerebellum/connectivity/SUIT3/eval/WMFS_L1regression_Md_ses-s1.tsv\n",
      "/Volumes/diedrichsen_data$/data/Cerebellum/connectivity/SUIT3/eval/WMFS_L2regression_Fu09-loo.tsv\n",
      "/Volumes/diedrichsen_data$/data/Cerebellum/connectivity/SUIT3/eval/WMFS_L1regression_Fu09-loo.tsv\n",
      "['MDTB' 'Fusion']\n",
      "['WMFS']\n"
     ]
    }
   ],
   "source": [
    "# get the best performing model for Md_ses-s1, L1 and L2 regression\n",
    "dfs1=rm.comb_eval(models=['Md', 'Md_ses-s1', 'Fu09-loo'],\n",
    "                  eval_t = 'eval', \n",
    "                  eval_data=[\"WMFS\"], \n",
    "                  methods =['L2regression', 'L1regression'])\n",
    "dfs1['model'].fillna('avg',inplace=True)\n",
    "dfs1['nanY']=np.isnan(dfs1.noiseceiling_Y)\n",
    "dfs1['nanXY']=np.isnan(dfs1.noiseceiling_XY)\n",
    "dfs1['nanXR']=np.isnan(dfs1.noise_X_R)\n",
    "print(dfs1.train_dataset.unique())\n",
    "print(dfs1.eval_dataset.unique())\n",
    "# dfs1.loc[dfs1.train_dataset != dfs1.eval_dataset]"
   ]
  },
  {
   "cell_type": "code",
   "execution_count": 9,
   "metadata": {},
   "outputs": [],
   "source": [
    "# for all the non-fused models, get the best performing model\n",
    "# determine the best logalpha for each regularization method\n",
    "DD_fuse = dfs1.loc[dfs1.train_dataset == 'Fusion']\n",
    "DD = dfs1.loc[dfs1.train_dataset != 'Fusion']\n",
    "## for L1 regression\n",
    "ds_L1 = DD.loc[DD.method=='L1regression']\n",
    "A_L1 = pd.pivot_table(ds_L1,index=['train_dataset'],columns=['logalpha'],values=['R_eval'])\n",
    "B_L1 = np.nan_to_num(A_L1.values)\n",
    "ind_L1 = B_L1.argmax(axis=1)\n",
    "log_a_L1=np.array(A_L1.columns.get_level_values(1)[ind_L1])\n",
    "bestla_L1 = pd.DataFrame(log_a_L1,index=A_L1.index,columns=['best_logalpha'])\n",
    "ds_L1['isbest'] = ds_L1.logalpha.values  == bestla_L1.loc[ds_L1.train_dataset].values.flatten()\n",
    "\n",
    "## for L2 regression\n",
    "ds_L2 = DD.loc[DD.method=='L2regression']\n",
    "A_L2 = pd.pivot_table(ds_L2,index=['train_dataset'],columns=['logalpha'],values=['R_eval'])\n",
    "B_L2 = np.nan_to_num(A_L2.values)\n",
    "ind_L2 = B_L2.argmax(axis=1)\n",
    "log_a_L2=np.array(A_L2.columns.get_level_values(1)[ind_L2])\n",
    "bestla_L2 = pd.DataFrame(log_a_L2,index=A_L2.index,columns=['best_logalpha'])\n",
    "ds_L2['isbest'] = ds_L2.logalpha.values  == bestla_L2.loc[ds_L2.train_dataset].values.flatten()"
   ]
  },
  {
   "cell_type": "code",
   "execution_count": 10,
   "metadata": {},
   "outputs": [],
   "source": [
    "# get the best performing models, L1 and L2 regression\n",
    "DD_L1 = ds_L1[ds_L1['isbest']]\n",
    "DD_L2 = ds_L2[ds_L2['isbest']]\n",
    "\n",
    "# concatenate the two dataframes\n",
    "dall = pd.concat([DD_L1, DD_L2],ignore_index=True)\n",
    "\n",
    "# concatenate it to the fused model\n",
    "dall = pd.concat([DD_fuse, dall],ignore_index=True)"
   ]
  },
  {
   "cell_type": "code",
   "execution_count": 12,
   "metadata": {},
   "outputs": [
    {
     "data": {
      "image/png": "[encoded data removed]",
      "text/plain": [
       "<Figure size 640x480 with 1 Axes>"
      ]
     },
     "metadata": {},
     "output_type": "display_data"
    }
   ],
   "source": [
    "# order = [\"Demandall\", \"MDTBall\", \"MDTBses-s1\", \"Nishimotoall\", \"IBCall\", \"Somatotopicall\", \"Fusionall\"]\n",
    "order = [\"MDTBses-s1\", \"MDTBall\", \"Fusionall\"]\n",
    "# sns.pointplot(data=dall,x=dall['train_dataset'] + dall['train_ses'],y='R_eval', hue = \"method\", order = order)\n",
    "ax = sns.barplot(data=dall,x=dall['train_dataset'] + dall['train_ses'],y='R_eval', hue = \"method\", order = order)\n",
    "# Rotate the x-axis tick labels\n",
    "ax.tick_params(labelrotation=90)\n",
    "\n",
    "plt.savefig(\"conn_model_eval_final01.pdf\")\n"
   ]
  },
  {
   "cell_type": "code",
   "execution_count": null,
   "metadata": {},
   "outputs": [],
   "source": [
    "# is the fused model better than the model trained on WMFS?\n",
    "t=stats.ttest_rel(dall[dall['train_dataset']=='Fusion']['R_eval'],\n",
    "                  dall[dall['train_dataset']=='WMFS']['R_eval']) \n",
    "indx =dall['train_dataset']=='WMFS'\n",
    "df=indx.sum()-1\n",
    "print(f't({df}) = {t.statistic:.3f}, p={t.pvalue:.4e}')"
   ]
  },
  {
   "cell_type": "code",
   "execution_count": null,
   "metadata": {},
   "outputs": [],
   "source": []
  }
 ],
 "metadata": {
  "kernelspec": {
   "display_name": ".venv",
   "language": "python",
   "name": "python3"
  },
  "language_info": {
   "codemirror_mode": {
    "name": "ipython",
    "version": 3
   },
   "file_extension": ".py",
   "mimetype": "text/x-python",
   "name": "python",
   "nbconvert_exporter": "python",
   "pygments_lexer": "ipython3",
   "version": "3.9.6"
  }
 },
 "nbformat": 4,
 "nbformat_minor": 2
}
