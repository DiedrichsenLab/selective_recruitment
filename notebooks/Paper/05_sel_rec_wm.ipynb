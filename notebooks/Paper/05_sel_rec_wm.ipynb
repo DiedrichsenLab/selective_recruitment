{
 "cells": [
  {
   "cell_type": "code",
   "execution_count": 1,
   "metadata": {},
   "outputs": [
    {
     "name": "stdout",
     "output_type": "stream",
     "text": [
      "['/Users/lshahsha/Documents/GitHub/selective_recruitment/notebooks/Paper', '/Users/lshahsha/Documents/GitHub/selective_recruitment/notebooks/Paper', '/Users/lshahsha/Documents/GitHub', '/Users/lshahsha/Documents/GitHub/selective_recruitment', '/Users/lshahsha/Documents/GitHub/selective_recruitment/scripts', '/Users/lshahsha/Documents/GitHub/Functional_Fusion/Functional_Fusion', '/Users/lshahsha/Documents/GitHub/Functional_Fusion', '/Users/lshahsha/Documents/GitHub/cortico_cereb_connectivity', '/Library/Developer/CommandLineTools/Library/Frameworks/Python3.framework/Versions/3.9/lib/python39.zip', '/Library/Developer/CommandLineTools/Library/Frameworks/Python3.framework/Versions/3.9/lib/python3.9', '/Library/Developer/CommandLineTools/Library/Frameworks/Python3.framework/Versions/3.9/lib/python3.9/lib-dynload', '', '/Users/lshahsha/Documents/GitHub/selective_recruitment/.sr-venv/lib/python3.9/site-packages']\n"
     ]
    },
    {
     "name": "stderr",
     "output_type": "stream",
     "text": [
      "/Users/lshahsha/Documents/GitHub/selective_recruitment/.sr-venv/lib/python3.9/site-packages/urllib3/__init__.py:34: NotOpenSSLWarning: urllib3 v2 only supports OpenSSL 1.1.1+, currently the 'ssl' module is compiled with 'LibreSSL 2.8.3'. See: https://github.com/urllib3/urllib3/issues/3020\n",
      "  warnings.warn(\n"
     ]
    }
   ],
   "source": [
    "\n",
    "from selective_recruitment.plotting import make_scatterplot\n",
    "from selective_recruitment.scripts.script_mapwise import calc_ttest_mean\n",
    "from selective_recruitment.scripts.script_roi_differences import norm_within_category # for results after normalization\n",
    "\n",
    "import selective_recruitment.data as ss\n",
    "import selective_recruitment.regress as ra\n",
    "import selective_recruitment.region as sroi\n",
    "\n",
    "from statsmodels.stats.anova import AnovaRM  # perform F test\n",
    "from scipy.stats import ttest_rel\n",
    "\n",
    "from pathlib import Path\n",
    "import pandas as pd\n",
    "import numpy as np\n",
    "\n",
    "import matplotlib.pyplot as plt"
   ]
  },
  {
   "cell_type": "code",
   "execution_count": 2,
   "metadata": {},
   "outputs": [],
   "source": [
    "# setting working directory\n",
    "wkdir = 'A:\\data\\Cerebellum\\CerebellumWorkingMemory\\selective_recruit'\n",
    "if not Path(wkdir).exists():\n",
    "    wkdir = '/srv/diedrichsen/data/Cerebellum/CerebellumWorkingMemory/selective_recruit'\n",
    "if not Path(wkdir).exists():\n",
    "    wkdir = '/Users/jdiedrichsen/Data/wm_cerebellum/selective_recruit'\n",
    "if not Path(wkdir).exists():\n",
    "    wkdir = '/Volumes/diedrichsen_data$/data/Cerebellum/CerebellumWorkingMemory/selective_recruit'"
   ]
  },
  {
   "cell_type": "markdown",
   "metadata": {},
   "source": [
    "# selective recruitment: ROI-based\n",
    "scatterplots and statistical tests on the residuals for the selected region of interest"
   ]
  },
  {
   "cell_type": "code",
   "execution_count": 3,
   "metadata": {},
   "outputs": [],
   "source": [
    "# setting up names and colors\n",
    "label_dict = {1: 'Enc2F', 2: 'Ret2F',\n",
    "              3: 'Enc2B', 4: 'Ret2B',\n",
    "              5: 'Enc4F', 6: 'Ret4F',\n",
    "              7: 'Enc4B', 8: 'Ret4B',\n",
    "              9: 'Enc6F', 10: 'Ret6F',\n",
    "              11: 'Enc6B', 12: 'Ret6B',\n",
    "              13: 'rest'}\n",
    "marker_dict = {1: 'o', 2: 'X',\n",
    "               3: 'o', 4: 'X',\n",
    "               5: 'o', 6: 'X',\n",
    "               7: 'o', 8: 'X',\n",
    "               9: 'o', 10: 'X',\n",
    "               11: 'o', 12: 'X',\n",
    "               13: 's'}\n",
    "color_dict = {1: 'b', 2: 'b',\n",
    "              3: 'r', 4: 'r',\n",
    "              5: 'b', 6: 'b',\n",
    "              7: 'r', 8: 'r',\n",
    "              9: 'b', 10: 'b',\n",
    "              11: 'r', 12: 'r',\n",
    "              13: 'g'}"
   ]
  },
  {
   "cell_type": "markdown",
   "metadata": {},
   "source": [
    "## Prepare the data for the scatterplot and the test"
   ]
  },
  {
   "cell_type": "markdown",
   "metadata": {},
   "source": [
    "* Pick one parcellation: Here NettekovenSym32, a data-driven hierarchical symmetric parcellation. ROI will be selected from this parcellation.\n",
    "* ss.get_summary_conn first uses a connectivity model to get predicted values for all the cerebellar voxels and then summarize the predicted values by averaging the values within the selected region of interest.\n"
   ]
  },
  {
   "cell_type": "code",
   "execution_count": 13,
   "metadata": {},
   "outputs": [],
   "source": [
    "# get the summary df with observed and predicted activation within cerebellar parcels\n",
    "\n",
    "## set params\n",
    "dataset = \"WMFS\"\n",
    "ses_id = 'ses-02'\n",
    "parcellation = \"NettekovenSym32\"\n",
    "cortex = \"Icosahedron1002\"\n",
    "type = \"CondHalf\"\n",
    "crossed = True\n",
    "train_dataset = \"MDTB\"\n",
    "train_ses_id = 'ses-s1'\n",
    "method = \"L2regression\"\n",
    "mname_base = f\"{train_dataset}_{train_ses_id}_{cortex}_{method}\"#f'Fusion_all_{cortex}_L2regression'\n",
    "mname_ext = \"_A8\" # if you want to use the fused model, mname_ext will be fuse_id. Use \"_A8\" for the non-fused model\n",
    "# # get predicted and observed within region of interest\n",
    "# D = ss.get_summary_conn(dataset = dataset,\n",
    "#                      ses_id = ses_id,\n",
    "#                      subj = None, # to do all the subjects\n",
    "#                      atlas_space = \"SUIT3\",\n",
    "#                      cerebellum_roi = parcellation,\n",
    "#                      cerebellum_roi_selected = None,\n",
    "#                      cortex_roi = cortex,\n",
    "#                      type = type,\n",
    "#                      add_rest = True,\n",
    "#                      mname_base = mname_base, # Fusion_all_Icosahedron1002_L2Regression_05_avg\n",
    "#                      mname_ext = mname_ext,\n",
    "#                      crossed = crossed)\n",
    "\n",
    "# # apply regression to get residuals\n",
    "# # this second regression is implemented because direct comparison of observed and \n",
    "# # predicted activation is not possible due to different scaling\n",
    "# D = ra.roi_regress(D, fit_intercept=True)\n",
    "\n",
    "# # # save the df\n",
    "# D.to_csv(wkdir + f'/wm_ROI_{type}_{train_dataset}_{train_ses_id}_{method}{mname_ext}_reg.tsv', sep='\\t')\n",
    "D = pd.read_csv(wkdir + f'/wm_ROI_{type}_{train_dataset}_{train_ses_id}_{method}{mname_ext}_reg.tsv', sep='\\t')"
   ]
  },
  {
   "cell_type": "markdown",
   "metadata": {},
   "source": [
    "### Select region of interest.\n",
    "Here we pick one parcel by first focusing on one network, the most relevant network: here the motor network. From the sub-regions within that network, we pick the one that shows consistently high activation throughout the task"
   ]
  },
  {
   "cell_type": "code",
   "execution_count": 14,
   "metadata": {},
   "outputs": [
    {
     "name": "stdout",
     "output_type": "stream",
     "text": [
      "['D1L', 'D2L', 'D3L', 'D4L', 'D1R', 'D2R', 'D3R', 'D4R']\n"
     ]
    },
    {
     "data": {
      "text/html": [
       "<div>\n",
       "<style scoped>\n",
       "    .dataframe tbody tr th:only-of-type {\n",
       "        vertical-align: middle;\n",
       "    }\n",
       "\n",
       "    .dataframe tbody tr th {\n",
       "        vertical-align: top;\n",
       "    }\n",
       "\n",
       "    .dataframe thead th {\n",
       "        text-align: right;\n",
       "    }\n",
       "</style>\n",
       "<table border=\"1\" class=\"dataframe\">\n",
       "  <thead>\n",
       "    <tr style=\"text-align: right;\">\n",
       "      <th>roi_name</th>\n",
       "      <th>D3R</th>\n",
       "      <th>D1R</th>\n",
       "      <th>D3L</th>\n",
       "      <th>D4R</th>\n",
       "      <th>D1L</th>\n",
       "      <th>D4L</th>\n",
       "      <th>D2R</th>\n",
       "      <th>D2L</th>\n",
       "    </tr>\n",
       "  </thead>\n",
       "  <tbody>\n",
       "    <tr>\n",
       "      <th>Y</th>\n",
       "      <td>0.147329</td>\n",
       "      <td>0.115368</td>\n",
       "      <td>0.107958</td>\n",
       "      <td>0.087033</td>\n",
       "      <td>0.073267</td>\n",
       "      <td>0.064869</td>\n",
       "      <td>0.053291</td>\n",
       "      <td>0.038532</td>\n",
       "    </tr>\n",
       "  </tbody>\n",
       "</table>\n",
       "</div>"
      ],
      "text/plain": [
       "roi_name       D3R       D1R       D3L       D4R       D1L       D4L  \\\n",
       "Y         0.147329  0.115368  0.107958  0.087033  0.073267  0.064869   \n",
       "\n",
       "roi_name       D2R       D2L  \n",
       "Y         0.053291  0.038532  "
      ]
     },
     "metadata": {},
     "output_type": "display_data"
    },
    {
     "name": "stdout",
     "output_type": "stream",
     "text": [
      "selected region is D3R\n"
     ]
    }
   ],
   "source": [
    "roi_exp = \"D..\" # roi_exp = \"D.?3.?R|D.?3.?L\" # roi_exp = \"D.?3.?R\"\n",
    "_, _, selected_ = sroi.get_parcel_single(parcellation = parcellation, \n",
    "                                               atlas_space = \"SUIT3\",\n",
    "                                               roi_exp = roi_exp)\n",
    "print(selected_)\n",
    "table = pd.pivot_table(D.loc[np.isin(D.roi_name.values, selected_)], values='Y', index=['roi_name'], aggfunc=np.mean)\n",
    "sorted_regions = table.sort_values(by=[\"Y\"],ascending=False)\n",
    "display(sorted_regions.T)\n",
    "roi_selected = sorted_regions.T.columns[0]\n",
    "print(f\"selected region is {roi_selected}\")\n"
   ]
  },
  {
   "cell_type": "markdown",
   "metadata": {},
   "source": [
    "### make the scatterplot and test the residuals"
   ]
  },
  {
   "cell_type": "code",
   "execution_count": 15,
   "metadata": {},
   "outputs": [
    {
     "name": "stdout",
     "output_type": "stream",
     "text": [
      "                  Anova\n",
      "=========================================\n",
      "          F Value  Num DF  Den DF  Pr > F\n",
      "-----------------------------------------\n",
      "cond_name  2.2182 11.0000 165.0000 0.0157\n",
      "=========================================\n",
      "\n",
      "                     Anova\n",
      "===============================================\n",
      "                  F Value Num DF  Den DF Pr > F\n",
      "-----------------------------------------------\n",
      "load               7.1009 2.0000 30.0000 0.0030\n",
      "phase              0.3043 1.0000 15.0000 0.5893\n",
      "recall             0.9495 1.0000 15.0000 0.3453\n",
      "load:phase         4.3771 2.0000 30.0000 0.0215\n",
      "load:recall        2.4205 2.0000 30.0000 0.1060\n",
      "phase:recall       0.0679 1.0000 15.0000 0.7979\n",
      "load:phase:recall  0.8296 2.0000 30.0000 0.4460\n",
      "===============================================\n",
      "\n"
     ]
    },
    {
     "data": {
      "image/png": "[encoded data removed]",
      "text/plain": [
       "<Figure size 640x480 with 1 Axes>"
      ]
     },
     "metadata": {},
     "output_type": "display_data"
    }
   ],
   "source": [
    "# get the dataframe with the selected region\n",
    "selected_roi = \"D3R\"\n",
    "df = D.loc[(D.roi_name == selected_roi) & (D.cond_name != 'rest')]\n",
    "make_scatterplot(df, split='cond_num',\n",
    "                labels=label_dict,\n",
    "                markers=marker_dict,\n",
    "                colors=color_dict)\n",
    "# plt.xlabel(\"predicted cerebellar activation\")\n",
    "plt.savefig(f\"wm_{selected_roi}_scatter_{mname_base}_{mname_ext}.pdf\")\n",
    "print(AnovaRM(data=df[df.cond_name != 'rest'], depvar='res',subject='sn', within=['cond_name'], aggregate_func=np.mean).fit())\n",
    "print(AnovaRM(data=df[df.cond_name != 'rest'], depvar='res',subject='sn', within=[\"load\", \"phase\", \"recall\"], aggregate_func=np.mean).fit())"
   ]
  },
  {
   "cell_type": "code",
   "execution_count": 16,
   "metadata": {},
   "outputs": [
    {
     "name": "stdout",
     "output_type": "stream",
     "text": [
      "0.4204744439220356\n"
     ]
    },
    {
     "name": "stderr",
     "output_type": "stream",
     "text": [
      "C:\\Users\\lshah\\AppData\\Local\\Temp\\ipykernel_14660\\3730002815.py:3: SettingWithCopyWarning: \n",
      "A value is trying to be set on a copy of a slice from a DataFrame.\n",
      "Try using .loc[row_indexer,col_indexer] = value instead\n",
      "\n",
      "See the caveats in the documentation: https://pandas.pydata.org/pandas-docs/stable/user_guide/indexing.html#returning-a-view-versus-a-copy\n",
      "  df['se'] = df.groupby(['sn'])['res'].transform('sem')\n"
     ]
    },
    {
     "data": {
      "text/plain": [
       "0.010484984847602555"
      ]
     },
     "execution_count": 16,
     "metadata": {},
     "output_type": "execute_result"
    }
   ],
   "source": [
    "print(df.R2.mean())\n",
    "# calculate standard error per subject\n",
    "df['se'] = df.groupby(['sn'])['res'].transform('sem')\n",
    "df.se.mean()"
   ]
  },
  {
   "cell_type": "code",
   "execution_count": 12,
   "metadata": {},
   "outputs": [
    {
     "name": "stdout",
     "output_type": "stream",
     "text": [
      "            F Value  Num DF  Den DF    Pr > F                         model\n",
      "cond_name  2.549338    11.0   165.0  0.005294    Fusion_all_L2regression_09\n",
      "cond_name  2.218169    11.0   165.0  0.015690   MDTB_ses-s1_L2regression_A8\n",
      "cond_name  2.342188    11.0   165.0  0.010494  MDTB_ses-s1_L1regression_A-5\n",
      "cond_name  2.562951    11.0   165.0  0.005058      MDTB_all_L2regression_A8\n",
      "cond_name  2.342188    11.0   165.0  0.010494     MDTB_all_L1regression_A-5\n"
     ]
    }
   ],
   "source": [
    "## Make table with statistical values\n",
    "mname = ['Fusion_all_L2regression_09',\n",
    "        'MDTB_ses-s1_L2regression_A8',\n",
    "        'MDTB_ses-s1_L1regression_A-5',\n",
    "        'MDTB_all_L2regression_A8',\n",
    "        'MDTB_all_L1regression_A-5']\n",
    "\n",
    "# CondHalf_MDTB_ses-s1_L2regression_A8_reg\n",
    "selected_roi = \"D3R\"\n",
    "anova_tables = []\n",
    "for m in mname:\n",
    "    D = pd.read_csv(wkdir + f'/wm_ROI_CondHalf_{m}_reg.tsv', sep='\\t')\n",
    "    df = D.loc[(D.roi_name == selected_roi) & (D.cond_name != 'rest')]\n",
    "    res = (AnovaRM(data=df[df.cond_name != 'rest'], depvar='res',subject='sn', within=['cond_name'], aggregate_func=np.mean).fit())\n",
    "    res.anova_table['model'] = [m]\n",
    "    anova_tables.append(res.anova_table)\n",
    "anova_tables = pd.concat(anova_tables, axis=0)\n",
    "print(anova_tables)"
   ]
  },
  {
   "cell_type": "code",
   "execution_count": null,
   "metadata": {},
   "outputs": [],
   "source": []
  }
 ],
 "metadata": {
  "kernelspec": {
   "display_name": ".venv",
   "language": "python",
   "name": "python3"
  },
  "language_info": {
   "codemirror_mode": {
    "name": "ipython",
    "version": 3
   },
   "file_extension": ".py",
   "mimetype": "text/x-python",
   "name": "python",
   "nbconvert_exporter": "python",
   "pygments_lexer": "ipython3",
   "version": "3.9.6"
  },
  "orig_nbformat": 4
 },
 "nbformat": 4,
 "nbformat_minor": 2
}
