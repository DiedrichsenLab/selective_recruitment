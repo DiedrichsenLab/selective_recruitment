{
 "cells": [
  {
   "cell_type": "code",
   "execution_count": 2,
   "metadata": {},
   "outputs": [],
   "source": [
    "import sys\n",
    "sys.path.append('..')\n",
    "sys.path.append('../..')\n",
    "sys.path.append('../../..')\n",
    "\n",
    "import numpy as np\n",
    "import pandas as pd\n",
    "import seaborn as sns\n",
    "import matplotlib.pyplot as plt\n",
    "from statsmodels.stats.anova import AnovaRM  # perform F test\n",
    "\n",
    "import selective_recruitment.globals as gl\n",
    "# import Functional_Fusion.Functional_Fusion.dataset as ds \n",
    "\n",
    "from pathlib import Path\n",
    "\n",
    "import warnings\n",
    "warnings.filterwarnings('ignore')"
   ]
  },
  {
   "cell_type": "code",
   "execution_count": 3,
   "metadata": {},
   "outputs": [],
   "source": [
    "# setting the directories\n",
    "behav_dir = 'A:\\\\data\\\\Cerebellum\\\\CerebellumWorkingMemory\\\\data\\\\fmri'\n",
    "wkdir = 'A:\\data\\Cerebellum\\CerebellumWorkingMemory\\selective_recruit'"
   ]
  },
  {
   "cell_type": "markdown",
   "metadata": {},
   "source": [
    "# Analysis of Behvioral performance inside the scanner"
   ]
  },
  {
   "cell_type": "markdown",
   "metadata": {},
   "source": [
    "## Motor task"
   ]
  },
  {
   "cell_type": "code",
   "execution_count": 55,
   "metadata": {},
   "outputs": [],
   "source": [
    "# # get the behavioral dataframe\n",
    "df = pd.read_csv(behav_dir + \"/df_fs.tsv\", sep = \"\\t\")\n",
    "\n",
    "D_fs = pd.DataFrame()\n",
    "D_fs[\"sn\"] = df.sn\n",
    "D_fs[\"Force\"] = df[\"ForceB\"].map({1: \"L\", 2: \"M\", 3: \"H\"})\n",
    "D_fs[\"Speed\"] = df[\"SpeedB\"].map({1: \"L\", 2: \"M\", 3: \"H\"})\n",
    "D_fs[\"isError\"] = df[\"isError\"]\n",
    "D_fs[\"cond_name\"] = D_fs[\"Force\"]+\"F\" + \"_\" + D_fs[\"Speed\"] + \"S\"\n",
    "\n",
    "D_fs[\"isCorrect\"] = 1 - D_fs[\"isError\"] "
   ]
  },
  {
   "cell_type": "code",
   "execution_count": 56,
   "metadata": {},
   "outputs": [
    {
     "name": "stdout",
     "output_type": "stream",
     "text": [
      "                 Anova\n",
      "=======================================\n",
      "          F Value Num DF  Den DF Pr > F\n",
      "---------------------------------------\n",
      "cond_name  9.1187 4.0000 28.0000 0.0001\n",
      "=======================================\n",
      "\n"
     ]
    },
    {
     "data": {
      "image/png": "[encoded data removed]",
      "text/plain": [
       "<Figure size 640x480 with 1 Axes>"
      ]
     },
     "metadata": {},
     "output_type": "display_data"
    }
   ],
   "source": [
    "plotvar = \"isCorrect\"\n",
    "sns.barplot(data = D_fs, x = \"cond_name\", y =  plotvar, errorbar=\"se\")\n",
    "plt.savefig(\"fs_behaviour_percent_correct.pdf\")\n",
    "print(AnovaRM(data=D_fs, depvar=plotvar,subject='sn', within=['cond_name'], aggregate_func=np.mean).fit())\n"
   ]
  },
  {
   "cell_type": "markdown",
   "metadata": {},
   "source": [
    "### BOLD activation vs behavioral performance"
   ]
  },
  {
   "cell_type": "markdown",
   "metadata": {},
   "source": []
  }
 ],
 "metadata": {
  "kernelspec": {
   "display_name": ".venv",
   "language": "python",
   "name": "python3"
  },
  "language_info": {
   "codemirror_mode": {
    "name": "ipython",
    "version": 3
   },
   "file_extension": ".py",
   "mimetype": "text/x-python",
   "name": "python",
   "nbconvert_exporter": "python",
   "pygments_lexer": "ipython3",
   "version": "3.10.11"
  },
  "orig_nbformat": 4
 },
 "nbformat": 4,
 "nbformat_minor": 2
}
