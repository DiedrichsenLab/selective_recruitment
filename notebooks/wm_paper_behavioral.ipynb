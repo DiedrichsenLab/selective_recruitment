{
 "cells": [
  {
   "cell_type": "code",
   "execution_count": 32,
   "metadata": {},
   "outputs": [],
   "source": [
    "import sys\n",
    "sys.path.append('..')\n",
    "sys.path.append('../..')\n",
    "import numpy as np\n",
    "import pandas as pd\n",
    "import seaborn as sns\n",
    "import matplotlib.pyplot as plt\n",
    "from statsmodels.stats.anova import AnovaRM  # perform F test\n",
    "\n",
    "import selective_recruitment.globals as gl\n",
    "import Functional_Fusion.dataset as ds "
   ]
  },
  {
   "cell_type": "code",
   "execution_count": 10,
   "metadata": {},
   "outputs": [],
   "source": [
    "wk_dir = 'Z:\\\\data\\\\Cerebellum\\\\CerebellumWorkingMemory\\\\data\\\\fmri'"
   ]
  },
  {
   "cell_type": "code",
   "execution_count": 27,
   "metadata": {},
   "outputs": [
    {
     "name": "stderr",
     "output_type": "stream",
     "text": [
      "C:\\Users\\lshah\\AppData\\Local\\Temp\\ipykernel_15612\\2443647418.py:4: SettingWithCopyWarning: \n",
      "A value is trying to be set on a copy of a slice from a DataFrame.\n",
      "Try using .loc[row_indexer,col_indexer] = value instead\n",
      "\n",
      "See the caveats in the documentation: https://pandas.pydata.org/pandas-docs/stable/user_guide/indexing.html#returning-a-view-versus-a-copy\n",
      "  D[\"phase\"] = df.exec\n",
      "C:\\Users\\lshah\\AppData\\Local\\Temp\\ipykernel_15612\\2443647418.py:5: SettingWithCopyWarning: \n",
      "A value is trying to be set on a copy of a slice from a DataFrame.\n",
      "Try using .loc[row_indexer,col_indexer] = value instead\n",
      "\n",
      "See the caveats in the documentation: https://pandas.pydata.org/pandas-docs/stable/user_guide/indexing.html#returning-a-view-versus-a-copy\n",
      "  D[\"load\"] = df.load\n",
      "C:\\Users\\lshah\\AppData\\Local\\Temp\\ipykernel_15612\\2443647418.py:6: SettingWithCopyWarning: \n",
      "A value is trying to be set on a copy of a slice from a DataFrame.\n",
      "Try using .loc[row_indexer,col_indexer] = value instead\n",
      "\n",
      "See the caveats in the documentation: https://pandas.pydata.org/pandas-docs/stable/user_guide/indexing.html#returning-a-view-versus-a-copy\n",
      "  D[\"recall_dir\"] = df.seqType\n",
      "C:\\Users\\lshah\\AppData\\Local\\Temp\\ipykernel_15612\\2443647418.py:7: SettingWithCopyWarning: \n",
      "A value is trying to be set on a copy of a slice from a DataFrame.\n",
      "Try using .loc[row_indexer,col_indexer] = value instead\n",
      "\n",
      "See the caveats in the documentation: https://pandas.pydata.org/pandas-docs/stable/user_guide/indexing.html#returning-a-view-versus-a-copy\n",
      "  D[\"sn\"] = df.sn\n",
      "C:\\Users\\lshah\\AppData\\Local\\Temp\\ipykernel_15612\\2443647418.py:8: SettingWithCopyWarning: \n",
      "A value is trying to be set on a copy of a slice from a DataFrame.\n",
      "Try using .loc[row_indexer,col_indexer] = value instead\n",
      "\n",
      "See the caveats in the documentation: https://pandas.pydata.org/pandas-docs/stable/user_guide/indexing.html#returning-a-view-versus-a-copy\n",
      "  D[\"isCorrect\"] = 1 - D[\"isErrorM\"]\n"
     ]
    }
   ],
   "source": [
    "# get the behavioral dataframe\n",
    "df = pd.read_csv(wk_dir + \"/df_wm.csv\", sep = \"\\t\")\n",
    "D = df[[\"isErrorM\", \"numErrors\", \"MnumErrors\", \"NMnumErrors\"]]\n",
    "D[\"phase\"] = df.exec\n",
    "D[\"load\"] = df.load\n",
    "D[\"recall_dir\"] = df.seqType\n",
    "D[\"sn\"] = df.sn\n",
    "D[\"isCorrect\"] = 1 - D[\"isErrorM\"]"
   ]
  },
  {
   "cell_type": "code",
   "execution_count": 33,
   "metadata": {},
   "outputs": [
    {
     "name": "stdout",
     "output_type": "stream",
     "text": [
      "                    Anova\n",
      "=============================================\n",
      "                F Value Num DF  Den DF Pr > F\n",
      "---------------------------------------------\n",
      "load            15.3600 2.0000 30.0000 0.0000\n",
      "recall_dir       5.4470 1.0000 15.0000 0.0339\n",
      "load:recall_dir  0.5661 2.0000 30.0000 0.5737\n",
      "=============================================\n",
      "\n"
     ]
    },
    {
     "data": {
      "image/png": "[encoded data removed]",
      "text/plain": [
       "<Figure size 640x480 with 1 Axes>"
      ]
     },
     "metadata": {},
     "output_type": "display_data"
    }
   ],
   "source": [
    "sns.barplot(data = D.loc[D.phase == 1], x = \"load\", y =  \"isCorrect\", hue = \"recall_dir\")\n",
    "plt.savefig(\"behaviour_percent_correct.pdf\")\n",
    "print(AnovaRM(data=D.loc[D.phase == 1], depvar='isCorrect',subject='sn', within=['load', 'recall_dir'], aggregate_func=np.mean).fit())\n"
   ]
  },
  {
   "cell_type": "code",
   "execution_count": null,
   "metadata": {},
   "outputs": [],
   "source": []
  }
 ],
 "metadata": {
  "kernelspec": {
   "display_name": ".venv",
   "language": "python",
   "name": "python3"
  },
  "language_info": {
   "codemirror_mode": {
    "name": "ipython",
    "version": 3
   },
   "file_extension": ".py",
   "mimetype": "text/x-python",
   "name": "python",
   "nbconvert_exporter": "python",
   "pygments_lexer": "ipython3",
   "version": "3.10.11"
  },
  "orig_nbformat": 4
 },
 "nbformat": 4,
 "nbformat_minor": 2
}
