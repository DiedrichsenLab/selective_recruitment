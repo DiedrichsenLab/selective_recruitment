{
 "cells": [
  {
   "attachments": {},
   "cell_type": "markdown",
   "metadata": {},
   "source": [
    "# Working memory dataset: Looking at pattern differences"
   ]
  },
  {
   "cell_type": "code",
   "execution_count": 1,
   "metadata": {},
   "outputs": [],
   "source": [
    "import sys\n",
    "\n",
    "import numpy as np\n",
    "import pandas as pd\n",
    "from pathlib import Path\n",
    "import os\n",
    "import nibabel as nb\n",
    "import nitools as nt\n",
    "import PcmPy as pcm\n",
    "import seaborn as sb\n",
    "import matplotlib.pyplot as plt\n",
    "\n",
    "import Functional_Fusion.atlas_map as am\n",
    "import Functional_Fusion.dataset as ds\n",
    "\n",
    "import selective_recruitment.rsa as srsa\n",
    "# import selective_recruitment.recruite_ana as sr\n",
    "import selective_recruitment.scripts.script_rsa as ssrsa\n",
    "import rsatoolbox as rsa"
   ]
  },
  {
   "cell_type": "code",
   "execution_count": 2,
   "metadata": {},
   "outputs": [],
   "source": [
    "base_dir = '/Volumes/diedrichsen_data$/data/FunctionalFusion'\n",
    "if not Path(base_dir).exists():\n",
    "    base_dir = '/srv/diedrichsen/data/FunctionalFusion'\n",
    "atlas_dir = base_dir + '/Atlases'\n"
   ]
  },
  {
   "attachments": {},
   "cell_type": "markdown",
   "metadata": {},
   "source": [
    "<font color = 'grey'>Defining functions specific to this dataset"
   ]
  },
  {
   "cell_type": "code",
   "execution_count": 8,
   "metadata": {},
   "outputs": [],
   "source": [
    "DCereb, info, dataset = ds.get_dataset(base_dir,\n",
    "                                            'WMFS',\n",
    "                                            atlas='MNISymC3',\n",
    "                                            sess='ses-02',\n",
    "                                            type='CondRun')\n",
    "G1,Ginf = srsa.calc_rsa(DCereb,info,center=False,reorder=['phase','recall'])\n",
    "\n",
    "DCortex, info, dataset = ds.get_dataset(base_dir,\n",
    "                                            'WMFS',\n",
    "                                            atlas='fs32k',\n",
    "                                            sess='ses-02',\n",
    "                                            type='CondRun')\n",
    "G2,Ginf  = srsa.calc_rsa(DCortex,info,center=False,reorder=['phase','recall'])\n"
   ]
  },
  {
   "cell_type": "code",
   "execution_count": 6,
   "metadata": {},
   "outputs": [
    {
     "data": {
      "text/html": [
       "<div>\n",
       "<style scoped>\n",
       "    .dataframe tbody tr th:only-of-type {\n",
       "        vertical-align: middle;\n",
       "    }\n",
       "\n",
       "    .dataframe tbody tr th {\n",
       "        vertical-align: top;\n",
       "    }\n",
       "\n",
       "    .dataframe thead th {\n",
       "        text-align: right;\n",
       "    }\n",
       "</style>\n",
       "<table border=\"1\" class=\"dataframe\">\n",
       "  <thead>\n",
       "    <tr style=\"text-align: right;\">\n",
       "      <th></th>\n",
       "      <th>index</th>\n",
       "      <th>sn</th>\n",
       "      <th>cond_name</th>\n",
       "      <th>cond_num</th>\n",
       "      <th>task_name</th>\n",
       "      <th>task_num</th>\n",
       "      <th>run</th>\n",
       "      <th>sess</th>\n",
       "      <th>phase</th>\n",
       "      <th>error</th>\n",
       "      <th>speed</th>\n",
       "      <th>force</th>\n",
       "      <th>load</th>\n",
       "      <th>recall</th>\n",
       "      <th>reg_num</th>\n",
       "      <th>reg_id</th>\n",
       "      <th>half</th>\n",
       "      <th>names</th>\n",
       "    </tr>\n",
       "  </thead>\n",
       "  <tbody>\n",
       "    <tr>\n",
       "      <th>0</th>\n",
       "      <td>2</td>\n",
       "      <td>1</td>\n",
       "      <td>L2B_encode</td>\n",
       "      <td>3</td>\n",
       "      <td>wm</td>\n",
       "      <td>2</td>\n",
       "      <td>1</td>\n",
       "      <td>ses-02</td>\n",
       "      <td>0</td>\n",
       "      <td>0</td>\n",
       "      <td>0</td>\n",
       "      <td>0</td>\n",
       "      <td>2</td>\n",
       "      <td>0</td>\n",
       "      <td>3</td>\n",
       "      <td>3</td>\n",
       "      <td>1</td>\n",
       "      <td>L2B_encode-run01</td>\n",
       "    </tr>\n",
       "    <tr>\n",
       "      <th>1</th>\n",
       "      <td>6</td>\n",
       "      <td>1</td>\n",
       "      <td>L4B_encode</td>\n",
       "      <td>7</td>\n",
       "      <td>wm</td>\n",
       "      <td>2</td>\n",
       "      <td>1</td>\n",
       "      <td>ses-02</td>\n",
       "      <td>0</td>\n",
       "      <td>0</td>\n",
       "      <td>0</td>\n",
       "      <td>0</td>\n",
       "      <td>4</td>\n",
       "      <td>0</td>\n",
       "      <td>7</td>\n",
       "      <td>7</td>\n",
       "      <td>1</td>\n",
       "      <td>L4B_encode-run01</td>\n",
       "    </tr>\n",
       "    <tr>\n",
       "      <th>2</th>\n",
       "      <td>10</td>\n",
       "      <td>1</td>\n",
       "      <td>L6B_encode</td>\n",
       "      <td>11</td>\n",
       "      <td>wm</td>\n",
       "      <td>2</td>\n",
       "      <td>1</td>\n",
       "      <td>ses-02</td>\n",
       "      <td>0</td>\n",
       "      <td>0</td>\n",
       "      <td>0</td>\n",
       "      <td>0</td>\n",
       "      <td>6</td>\n",
       "      <td>0</td>\n",
       "      <td>11</td>\n",
       "      <td>11</td>\n",
       "      <td>1</td>\n",
       "      <td>L6B_encode-run01</td>\n",
       "    </tr>\n",
       "    <tr>\n",
       "      <th>3</th>\n",
       "      <td>0</td>\n",
       "      <td>1</td>\n",
       "      <td>L2F_encode</td>\n",
       "      <td>1</td>\n",
       "      <td>wm</td>\n",
       "      <td>2</td>\n",
       "      <td>1</td>\n",
       "      <td>ses-02</td>\n",
       "      <td>0</td>\n",
       "      <td>0</td>\n",
       "      <td>0</td>\n",
       "      <td>0</td>\n",
       "      <td>2</td>\n",
       "      <td>1</td>\n",
       "      <td>1</td>\n",
       "      <td>1</td>\n",
       "      <td>1</td>\n",
       "      <td>L2F_encode-run01</td>\n",
       "    </tr>\n",
       "    <tr>\n",
       "      <th>4</th>\n",
       "      <td>4</td>\n",
       "      <td>1</td>\n",
       "      <td>L4F_encode</td>\n",
       "      <td>5</td>\n",
       "      <td>wm</td>\n",
       "      <td>2</td>\n",
       "      <td>1</td>\n",
       "      <td>ses-02</td>\n",
       "      <td>0</td>\n",
       "      <td>0</td>\n",
       "      <td>0</td>\n",
       "      <td>0</td>\n",
       "      <td>4</td>\n",
       "      <td>1</td>\n",
       "      <td>5</td>\n",
       "      <td>5</td>\n",
       "      <td>1</td>\n",
       "      <td>L4F_encode-run01</td>\n",
       "    </tr>\n",
       "    <tr>\n",
       "      <th>5</th>\n",
       "      <td>8</td>\n",
       "      <td>1</td>\n",
       "      <td>L6F_encode</td>\n",
       "      <td>9</td>\n",
       "      <td>wm</td>\n",
       "      <td>2</td>\n",
       "      <td>1</td>\n",
       "      <td>ses-02</td>\n",
       "      <td>0</td>\n",
       "      <td>0</td>\n",
       "      <td>0</td>\n",
       "      <td>0</td>\n",
       "      <td>6</td>\n",
       "      <td>1</td>\n",
       "      <td>9</td>\n",
       "      <td>9</td>\n",
       "      <td>1</td>\n",
       "      <td>L6F_encode-run01</td>\n",
       "    </tr>\n",
       "    <tr>\n",
       "      <th>6</th>\n",
       "      <td>3</td>\n",
       "      <td>1</td>\n",
       "      <td>L2B_retriev</td>\n",
       "      <td>4</td>\n",
       "      <td>wm</td>\n",
       "      <td>2</td>\n",
       "      <td>1</td>\n",
       "      <td>ses-02</td>\n",
       "      <td>1</td>\n",
       "      <td>0</td>\n",
       "      <td>0</td>\n",
       "      <td>0</td>\n",
       "      <td>2</td>\n",
       "      <td>0</td>\n",
       "      <td>4</td>\n",
       "      <td>4</td>\n",
       "      <td>1</td>\n",
       "      <td>L2B_retriev-run01</td>\n",
       "    </tr>\n",
       "    <tr>\n",
       "      <th>7</th>\n",
       "      <td>7</td>\n",
       "      <td>1</td>\n",
       "      <td>L4B_retriev</td>\n",
       "      <td>8</td>\n",
       "      <td>wm</td>\n",
       "      <td>2</td>\n",
       "      <td>1</td>\n",
       "      <td>ses-02</td>\n",
       "      <td>1</td>\n",
       "      <td>0</td>\n",
       "      <td>0</td>\n",
       "      <td>0</td>\n",
       "      <td>4</td>\n",
       "      <td>0</td>\n",
       "      <td>8</td>\n",
       "      <td>8</td>\n",
       "      <td>1</td>\n",
       "      <td>L4B_retriev-run01</td>\n",
       "    </tr>\n",
       "    <tr>\n",
       "      <th>8</th>\n",
       "      <td>11</td>\n",
       "      <td>1</td>\n",
       "      <td>L6B_retriev</td>\n",
       "      <td>12</td>\n",
       "      <td>wm</td>\n",
       "      <td>2</td>\n",
       "      <td>1</td>\n",
       "      <td>ses-02</td>\n",
       "      <td>1</td>\n",
       "      <td>0</td>\n",
       "      <td>0</td>\n",
       "      <td>0</td>\n",
       "      <td>6</td>\n",
       "      <td>0</td>\n",
       "      <td>12</td>\n",
       "      <td>12</td>\n",
       "      <td>1</td>\n",
       "      <td>L6B_retriev-run01</td>\n",
       "    </tr>\n",
       "    <tr>\n",
       "      <th>9</th>\n",
       "      <td>1</td>\n",
       "      <td>1</td>\n",
       "      <td>L2F_retriev</td>\n",
       "      <td>2</td>\n",
       "      <td>wm</td>\n",
       "      <td>2</td>\n",
       "      <td>1</td>\n",
       "      <td>ses-02</td>\n",
       "      <td>1</td>\n",
       "      <td>0</td>\n",
       "      <td>0</td>\n",
       "      <td>0</td>\n",
       "      <td>2</td>\n",
       "      <td>1</td>\n",
       "      <td>2</td>\n",
       "      <td>2</td>\n",
       "      <td>1</td>\n",
       "      <td>L2F_retriev-run01</td>\n",
       "    </tr>\n",
       "    <tr>\n",
       "      <th>10</th>\n",
       "      <td>5</td>\n",
       "      <td>1</td>\n",
       "      <td>L4F_retriev</td>\n",
       "      <td>6</td>\n",
       "      <td>wm</td>\n",
       "      <td>2</td>\n",
       "      <td>1</td>\n",
       "      <td>ses-02</td>\n",
       "      <td>1</td>\n",
       "      <td>0</td>\n",
       "      <td>0</td>\n",
       "      <td>0</td>\n",
       "      <td>4</td>\n",
       "      <td>1</td>\n",
       "      <td>6</td>\n",
       "      <td>6</td>\n",
       "      <td>1</td>\n",
       "      <td>L4F_retriev-run01</td>\n",
       "    </tr>\n",
       "    <tr>\n",
       "      <th>11</th>\n",
       "      <td>9</td>\n",
       "      <td>1</td>\n",
       "      <td>L6F_retriev</td>\n",
       "      <td>10</td>\n",
       "      <td>wm</td>\n",
       "      <td>2</td>\n",
       "      <td>1</td>\n",
       "      <td>ses-02</td>\n",
       "      <td>1</td>\n",
       "      <td>0</td>\n",
       "      <td>0</td>\n",
       "      <td>0</td>\n",
       "      <td>6</td>\n",
       "      <td>1</td>\n",
       "      <td>10</td>\n",
       "      <td>10</td>\n",
       "      <td>1</td>\n",
       "      <td>L6F_retriev-run01</td>\n",
       "    </tr>\n",
       "  </tbody>\n",
       "</table>\n",
       "</div>"
      ],
      "text/plain": [
       "    index  sn    cond_name  cond_num task_name  task_num  run    sess  phase  \\\n",
       "0       2   1  L2B_encode          3        wm         2    1  ses-02      0   \n",
       "1       6   1  L4B_encode          7        wm         2    1  ses-02      0   \n",
       "2      10   1  L6B_encode         11        wm         2    1  ses-02      0   \n",
       "3       0   1  L2F_encode          1        wm         2    1  ses-02      0   \n",
       "4       4   1  L4F_encode          5        wm         2    1  ses-02      0   \n",
       "5       8   1  L6F_encode          9        wm         2    1  ses-02      0   \n",
       "6       3   1  L2B_retriev         4        wm         2    1  ses-02      1   \n",
       "7       7   1  L4B_retriev         8        wm         2    1  ses-02      1   \n",
       "8      11   1  L6B_retriev        12        wm         2    1  ses-02      1   \n",
       "9       1   1  L2F_retriev         2        wm         2    1  ses-02      1   \n",
       "10      5   1  L4F_retriev         6        wm         2    1  ses-02      1   \n",
       "11      9   1  L6F_retriev        10        wm         2    1  ses-02      1   \n",
       "\n",
       "    error  speed  force  load  recall  reg_num  reg_id  half  \\\n",
       "0       0      0      0     2       0        3       3     1   \n",
       "1       0      0      0     4       0        7       7     1   \n",
       "2       0      0      0     6       0       11      11     1   \n",
       "3       0      0      0     2       1        1       1     1   \n",
       "4       0      0      0     4       1        5       5     1   \n",
       "5       0      0      0     6       1        9       9     1   \n",
       "6       0      0      0     2       0        4       4     1   \n",
       "7       0      0      0     4       0        8       8     1   \n",
       "8       0      0      0     6       0       12      12     1   \n",
       "9       0      0      0     2       1        2       2     1   \n",
       "10      0      0      0     4       1        6       6     1   \n",
       "11      0      0      0     6       1       10      10     1   \n",
       "\n",
       "                names  \n",
       "0    L2B_encode-run01  \n",
       "1    L4B_encode-run01  \n",
       "2    L6B_encode-run01  \n",
       "3    L2F_encode-run01  \n",
       "4    L4F_encode-run01  \n",
       "5    L6F_encode-run01  \n",
       "6   L2B_retriev-run01  \n",
       "7   L4B_retriev-run01  \n",
       "8   L6B_retriev-run01  \n",
       "9   L2F_retriev-run01  \n",
       "10  L4F_retriev-run01  \n",
       "11  L6F_retriev-run01  "
      ]
     },
     "execution_count": 6,
     "metadata": {},
     "output_type": "execute_result"
    }
   ],
   "source": [
    "Ginf"
   ]
  },
  {
   "attachments": {},
   "cell_type": "markdown",
   "metadata": {},
   "source": [
    "### Cerebellar RSA "
   ]
  },
  {
   "cell_type": "code",
   "execution_count": 9,
   "metadata": {},
   "outputs": [
    {
     "data": {
      "image/png": "[encoded data removed]",
      "text/plain": [
       "<Figure size 720x720 with 16 Axes>"
      ]
     },
     "metadata": {},
     "output_type": "display_data"
    }
   ],
   "source": [
    "plt.figure(figsize=(10,10))\n",
    "pcm.vis.plot_Gs(G1)"
   ]
  },
  {
   "cell_type": "code",
   "execution_count": 10,
   "metadata": {},
   "outputs": [
    {
     "data": {
      "image/png": "[encoded data removed]",
      "text/plain": [
       "<Figure size 720x720 with 16 Axes>"
      ]
     },
     "metadata": {},
     "output_type": "display_data"
    }
   ],
   "source": [
    "plt.figure(figsize=(10,10))\n",
    "pcm.vis.plot_Gs(G2)"
   ]
  },
  {
   "cell_type": "code",
   "execution_count": 5,
   "metadata": {},
   "outputs": [
    {
     "data": {
      "image/png": "[encoded data removed]",
      "text/plain": [
       "<Figure size 1000x1000 with 16 Axes>"
      ]
     },
     "metadata": {},
     "output_type": "display_data"
    }
   ],
   "source": [
    "G, Ginf = ssrsa.cereb_parcel_rsa(label = \"NettekovenSym68c32integLR\", \n",
    "                                atlas_space = \"SUIT3\", \n",
    "                                subj = None,\n",
    "                                type = \"CondRun\", \n",
    "                                label_name = \"DR\", \n",
    "                                reorder = [\"phase\", \"recall\"]\n",
    "                                )\n",
    "plt.figure(figsize=(10,10))\n",
    "pcm.vis.plot_Gs(G)"
   ]
  },
  {
   "cell_type": "code",
   "execution_count": 6,
   "metadata": {},
   "outputs": [
    {
     "data": {
      "text/plain": [
       "<matplotlib.image.AxesImage at 0x7fa3363e3d00>"
      ]
     },
     "execution_count": 6,
     "metadata": {},
     "output_type": "execute_result"
    },
    {
     "data": {
      "image/png": "[encoded data removed]",
      "text/plain": [
       "<Figure size 640x480 with 1 Axes>"
      ]
     },
     "metadata": {},
     "output_type": "display_data"
    }
   ],
   "source": [
    "mG = G.mean(axis=0)\n",
    "plt.imshow(mG)"
   ]
  },
  {
   "attachments": {},
   "cell_type": "markdown",
   "metadata": {},
   "source": [
    "### Cortical RSA"
   ]
  },
  {
   "cell_type": "code",
   "execution_count": 7,
   "metadata": {},
   "outputs": [
    {
     "data": {
      "image/png": "[encoded data removed]",
      "text/plain": [
       "<Figure size 1000x1000 with 16 Axes>"
      ]
     },
     "metadata": {},
     "output_type": "display_data"
    }
   ],
   "source": [
    "plt.figure(figsize=(10,10))\n",
    "pcm.vis.plot_Gs(G2)\n"
   ]
  },
  {
   "attachments": {},
   "cell_type": "markdown",
   "metadata": {},
   "source": [
    "## Average cortical and cerebellar RSA"
   ]
  },
  {
   "cell_type": "code",
   "execution_count": 8,
   "metadata": {},
   "outputs": [
    {
     "data": {
      "image/png": "[encoded data removed]",
      "text/plain": [
       "<Figure size 640x480 with 2 Axes>"
      ]
     },
     "metadata": {},
     "output_type": "display_data"
    }
   ],
   "source": [
    "mG1 = G1.mean(axis=0)\n",
    "mG2 = G2.mean(axis=0)\n",
    "mG=np.stack([mG1,mG2])\n",
    "pcm.vis.plot_Gs(mG,grid=(1,2))"
   ]
  },
  {
   "attachments": {},
   "cell_type": "markdown",
   "metadata": {},
   "source": [
    "# per region using rsa toolbox\n"
   ]
  },
  {
   "cell_type": "code",
   "execution_count": 9,
   "metadata": {},
   "outputs": [
    {
     "name": "stderr",
     "output_type": "stream",
     "text": [
      "<__array_function__ internals>:200: RuntimeWarning: invalid value encountered in cast\n"
     ]
    }
   ],
   "source": [
    "# get the model RDM, assuming D3R is the model\n",
    "model_rdms_ = ssrsa.cereb_parcel_rdm(label = \"NettekovenSym68c32\", \n",
    "                                    atlas_space = \"SUIT3\", \n",
    "                                    subj = None,\n",
    "                                    type = \"CondRun\", \n",
    "                                    label_name = \"D3R\", \n",
    "                                    reorder = [\"phase\", \"recall\"]\n",
    "                                    )\n",
    "\n",
    "# model_rdms_"
   ]
  },
  {
   "cell_type": "code",
   "execution_count": 10,
   "metadata": {},
   "outputs": [
    {
     "name": "stderr",
     "output_type": "stream",
     "text": [
      "<__array_function__ internals>:200: RuntimeWarning: invalid value encountered in cast\n"
     ]
    }
   ],
   "source": [
    "# get the RDM for another region like D2R\n",
    "test_rdms_ = ssrsa.cereb_parcel_rdm(label = \"NettekovenSym68c32\", \n",
    "                                    atlas_space = \"SUIT3\", \n",
    "                                    subj = None,\n",
    "                                    type = \"CondRun\", \n",
    "                                    label_name = \"D2R\", \n",
    "                                    reorder = [\"phase\", \"recall\"]\n",
    "                                    )"
   ]
  },
  {
   "cell_type": "code",
   "execution_count": null,
   "metadata": {},
   "outputs": [],
   "source": []
  }
 ],
 "metadata": {
  "kernelspec": {
   "display_name": "base",
   "language": "python",
   "name": "python3"
  },
  "language_info": {
   "codemirror_mode": {
    "name": "ipython",
    "version": 3
   },
   "file_extension": ".py",
   "mimetype": "text/x-python",
   "name": "python",
   "nbconvert_exporter": "python",
   "pygments_lexer": "ipython3",
   "version": "3.8.5"
  },
  "orig_nbformat": 4,
  "vscode": {
   "interpreter": {
    "hash": "82c9595c6ac3df5bed1366f4aa85323e4ec1b3448185f6be6e163d2b6e222f49"
   }
  }
 },
 "nbformat": 4,
 "nbformat_minor": 2
}
