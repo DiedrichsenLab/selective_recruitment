{
 "cells": [
  {
   "cell_type": "code",
   "execution_count": 1,
   "metadata": {},
   "outputs": [],
   "source": [
    "import sys\n",
    "sys.path.append('../../..')\n",
    "sys.path.append('../..')\n",
    "sys.path.append('..')\n",
    "\n",
    "from selective_recruitment.plotting import make_scatterplot\n",
    "from selective_recruitment.scripts.script_mapwise import calc_ttest_mean\n",
    "import selective_recruitment.data as ss\n",
    "import selective_recruitment.regress as ra\n",
    "import selective_recruitment.region as sroi\n",
    "\n",
    "from statsmodels.stats.anova import AnovaRM  # perform F test\n",
    "from scipy.stats import ttest_rel\n",
    "\n",
    "from pathlib import Path\n",
    "import pandas as pd\n",
    "import numpy as np\n",
    "\n"
   ]
  },
  {
   "cell_type": "code",
   "execution_count": 2,
   "metadata": {},
   "outputs": [],
   "source": [
    "# setting working directory\n",
    "wkdir = 'A:\\data\\Cerebellum\\CerebellumWorkingMemory\\selective_recruit'\n",
    "if not Path(wkdir).exists():\n",
    "    wkdir = '/srv/diedrichsen/data/Cerebellum/CerebellumWorkingMemory/selective_recruit'\n",
    "if not Path(wkdir).exists():\n",
    "    wkdir = '/Users/jdiedrichsen/Data/wm_cerebellum/selective_recruit'\n",
    "if not Path(wkdir).exists():\n",
    "    wkdir = '/Volumes/diedrichsen_data$/data/Cerebellum/CerebellumWorkingMemory/selective_recruit'"
   ]
  },
  {
   "cell_type": "markdown",
   "metadata": {},
   "source": [
    "# selective recruitment: ROI-based\n",
    "scatterplots and statistical tests on the residuals for the selected region of interest"
   ]
  },
  {
   "cell_type": "code",
   "execution_count": 3,
   "metadata": {},
   "outputs": [],
   "source": [
    "# setting up names and colors\n",
    "label_dict = {1: 'LfLs', 2: 'LfMs',\n",
    "              3: 'LfHs', 4: 'MfLs',\n",
    "              5: 'HfLs', 6:'rest'}\n",
    "marker_dict = {1: '^', 2: 'X',\n",
    "               3: 'X', 4: 'o',\n",
    "               5: 'o', 6: 's'}\n",
    "color_dict = {1: 'grey', 2: 'r',\n",
    "              3: 'r', 4: 'b',\n",
    "              5: 'b', 6: 'g'}"
   ]
  },
  {
   "cell_type": "markdown",
   "metadata": {},
   "source": [
    "## Prepare the data for the scatterplot and the test"
   ]
  },
  {
   "cell_type": "markdown",
   "metadata": {},
   "source": [
    "* Pick one parcellation: Here NettekovenSym32, a data-driven hierarchical symmetric parcellation. ROI will be selected from this parcellation.\n",
    "* ss.get_summary_conn first uses a connectivity model to get predicted values for all the cerebellar voxels and then summarize the predicted values by averaging the values within the selected region of interest.\n"
   ]
  },
  {
   "cell_type": "code",
   "execution_count": 5,
   "metadata": {},
   "outputs": [
    {
     "ename": "KeyboardInterrupt",
     "evalue": "",
     "output_type": "error",
     "traceback": [
      "\u001b[1;31m---------------------------------------------------------------------------\u001b[0m",
      "\u001b[1;31mKeyboardInterrupt\u001b[0m                         Traceback (most recent call last)",
      "Cell \u001b[1;32mIn[5], line 6\u001b[0m\n\u001b[0;32m      4\u001b[0m parcellation \u001b[39m=\u001b[39m \u001b[39m\"\u001b[39m\u001b[39mNettekovenSym32\u001b[39m\u001b[39m\"\u001b[39m\n\u001b[0;32m      5\u001b[0m cortex \u001b[39m=\u001b[39m \u001b[39m\"\u001b[39m\u001b[39mIcosahedron1002\u001b[39m\u001b[39m\"\u001b[39m\n\u001b[1;32m----> 6\u001b[0m D \u001b[39m=\u001b[39m ss\u001b[39m.\u001b[39;49mget_summary_conn(dataset \u001b[39m=\u001b[39;49m dataset,\n\u001b[0;32m      7\u001b[0m                      ses_id \u001b[39m=\u001b[39;49m ses_id,\n\u001b[0;32m      8\u001b[0m                      subj \u001b[39m=\u001b[39;49m \u001b[39mNone\u001b[39;49;00m, \u001b[39m# to do all the subjects\u001b[39;49;00m\n\u001b[0;32m      9\u001b[0m                      atlas_space \u001b[39m=\u001b[39;49m \u001b[39m\"\u001b[39;49m\u001b[39mSUIT3\u001b[39;49m\u001b[39m\"\u001b[39;49m,\n\u001b[0;32m     10\u001b[0m                      cerebellum_roi \u001b[39m=\u001b[39;49m parcellation,\n\u001b[0;32m     11\u001b[0m                      cerebellum_roi_selected \u001b[39m=\u001b[39;49m \u001b[39mNone\u001b[39;49;00m,\n\u001b[0;32m     12\u001b[0m                      cortex_roi \u001b[39m=\u001b[39;49m \u001b[39m\"\u001b[39;49m\u001b[39mIcosahedron1002\u001b[39;49m\u001b[39m\"\u001b[39;49m,\n\u001b[0;32m     13\u001b[0m                      \u001b[39mtype\u001b[39;49m \u001b[39m=\u001b[39;49m \u001b[39m\"\u001b[39;49m\u001b[39mCondHalf\u001b[39;49m\u001b[39m\"\u001b[39;49m,\n\u001b[0;32m     14\u001b[0m                      add_rest \u001b[39m=\u001b[39;49m \u001b[39mTrue\u001b[39;49;00m,\n\u001b[0;32m     15\u001b[0m                      mname_base \u001b[39m=\u001b[39;49m \u001b[39mf\u001b[39;49m\u001b[39m'\u001b[39;49m\u001b[39mMDTB_all_\u001b[39;49m\u001b[39m{\u001b[39;49;00mcortex\u001b[39m}\u001b[39;49;00m\u001b[39m_L2regression\u001b[39;49m\u001b[39m'\u001b[39;49m,\n\u001b[0;32m     16\u001b[0m                      mname_ext \u001b[39m=\u001b[39;49m \u001b[39m'\u001b[39;49m\u001b[39m_A8\u001b[39;49m\u001b[39m'\u001b[39;49m,\n\u001b[0;32m     17\u001b[0m                      crossed \u001b[39m=\u001b[39;49m \u001b[39mTrue\u001b[39;49;00m)\n\u001b[0;32m     18\u001b[0m D \u001b[39m=\u001b[39m ra\u001b[39m.\u001b[39mroi_regress(D, fit_intercept\u001b[39m=\u001b[39m\u001b[39mTrue\u001b[39;00m)\n\u001b[0;32m     19\u001b[0m D\u001b[39m.\u001b[39mto_csv(wkdir \u001b[39m+\u001b[39m \u001b[39mf\u001b[39m\u001b[39m'\u001b[39m\u001b[39m/fs_ROI_\u001b[39m\u001b[39m{\u001b[39;00mparcellation\u001b[39m}\u001b[39;00m\u001b[39m_conn_reg.tsv\u001b[39m\u001b[39m'\u001b[39m, sep\u001b[39m=\u001b[39m\u001b[39m'\u001b[39m\u001b[39m\\t\u001b[39;00m\u001b[39m'\u001b[39m)\n",
      "File \u001b[1;32mc:\\Users\\lshah\\OneDrive\\Documents\\Projects\\selective_recruitment\\notebooks\\Paper\\../../..\\selective_recruitment\\data.py:323\u001b[0m, in \u001b[0;36mget_summary_conn\u001b[1;34m(dataset, ses_id, subj, atlas_space, cerebellum_roi, cerebellum_roi_selected, cortex_roi, type, add_rest, mname_base, mname_ext, crossed)\u001b[0m\n\u001b[0;32m    317\u001b[0m \u001b[39m\u001b[39m\u001b[39m\"\"\"\u001b[39;00m\n\u001b[0;32m    318\u001b[0m \u001b[39mFunction to get summary dataframe for ROI-based analysis of cerebellar data\u001b[39;00m\n\u001b[0;32m    319\u001b[0m \u001b[39mvs. the predicted cerebellar data from a specific connectivty model.\u001b[39;00m\n\u001b[0;32m    320\u001b[0m \u001b[39m\"\"\"\u001b[39;00m\n\u001b[0;32m    322\u001b[0m \u001b[39m# get observed and predicted data for each cerebellar voxel\u001b[39;00m\n\u001b[1;32m--> 323\u001b[0m Y, Yhat, atlas, info \u001b[39m=\u001b[39m get_voxdata_obs_pred(dataset \u001b[39m=\u001b[39;49m dataset,\n\u001b[0;32m    324\u001b[0m                                             ses_id \u001b[39m=\u001b[39;49m ses_id,\n\u001b[0;32m    325\u001b[0m                                             subj \u001b[39m=\u001b[39;49m subj,\n\u001b[0;32m    326\u001b[0m                                             atlas_space\u001b[39m=\u001b[39;49matlas_space,\n\u001b[0;32m    327\u001b[0m                                             cortex \u001b[39m=\u001b[39;49m cortex_roi,\n\u001b[0;32m    328\u001b[0m                                             \u001b[39mtype\u001b[39;49m \u001b[39m=\u001b[39;49m \u001b[39mtype\u001b[39;49m,\n\u001b[0;32m    329\u001b[0m                                             mname_base \u001b[39m=\u001b[39;49m mname_base,\n\u001b[0;32m    330\u001b[0m                                             mname_ext  \u001b[39m=\u001b[39;49m mname_ext,\n\u001b[0;32m    331\u001b[0m                                             add_rest \u001b[39m=\u001b[39;49m add_rest,\n\u001b[0;32m    332\u001b[0m                                             crossed \u001b[39m=\u001b[39;49m crossed)\n\u001b[0;32m    334\u001b[0m \u001b[39m# get the observed data averaged over region\u001b[39;00m\n\u001b[0;32m    335\u001b[0m obs_df \u001b[39m=\u001b[39m average_rois(Y, info\u001b[39m=\u001b[39minfo,\n\u001b[0;32m    336\u001b[0m                           atlas_space \u001b[39m=\u001b[39m atlas_space,\n\u001b[0;32m    337\u001b[0m                           atlas_roi \u001b[39m=\u001b[39m cerebellum_roi,\n\u001b[0;32m    338\u001b[0m                           roi_selected\u001b[39m=\u001b[39mcerebellum_roi_selected,\n\u001b[0;32m    339\u001b[0m                           unite_struct \u001b[39m=\u001b[39m \u001b[39mFalse\u001b[39;00m,\n\u001b[0;32m    340\u001b[0m                           var \u001b[39m=\u001b[39m \u001b[39m\"\u001b[39m\u001b[39mY\u001b[39m\u001b[39m\"\u001b[39m)\n",
      "File \u001b[1;32mc:\\Users\\lshah\\OneDrive\\Documents\\Projects\\selective_recruitment\\notebooks\\Paper\\../../..\\selective_recruitment\\data.py:141\u001b[0m, in \u001b[0;36mget_voxdata_obs_pred\u001b[1;34m(dataset, ses_id, subj, atlas_space, cortex, type, add_rest, mname_base, mname_ext, train_type, crossed)\u001b[0m\n\u001b[0;32m    138\u001b[0m     conn_model \u001b[39m=\u001b[39m dd\u001b[39m.\u001b[39mio\u001b[39m.\u001b[39mload(fname)\n\u001b[0;32m    140\u001b[0m \u001b[39m# get cortical data to be used as input to the connectivity model\u001b[39;00m\n\u001b[1;32m--> 141\u001b[0m X,info,dset \u001b[39m=\u001b[39m ds\u001b[39m.\u001b[39;49mget_dataset(gl\u001b[39m.\u001b[39;49mbase_dir,dataset,\n\u001b[0;32m    142\u001b[0m                                 atlas\u001b[39m=\u001b[39;49m\u001b[39m\"\u001b[39;49m\u001b[39mfs32k\u001b[39;49m\u001b[39m\"\u001b[39;49m, \u001b[39m# for cortex we always use fs32k\u001b[39;49;00m\n\u001b[0;32m    143\u001b[0m                                 sess\u001b[39m=\u001b[39;49mses_id,\n\u001b[0;32m    144\u001b[0m                                 subj\u001b[39m=\u001b[39;49msubj,\n\u001b[0;32m    145\u001b[0m                                 \u001b[39mtype\u001b[39;49m \u001b[39m=\u001b[39;49m \u001b[39mtype\u001b[39;49m)\n\u001b[0;32m    146\u001b[0m atlas,ainf \u001b[39m=\u001b[39m am\u001b[39m.\u001b[39mget_atlas(\u001b[39m'\u001b[39m\u001b[39mfs32k\u001b[39m\u001b[39m'\u001b[39m,gl\u001b[39m.\u001b[39matlas_dir)\n\u001b[0;32m    147\u001b[0m \u001b[39m# make strings for the cortical label files\u001b[39;00m\n\u001b[0;32m    148\u001b[0m \u001b[39m# If cortex parcellation is given, condense the cortex\u001b[39;00m\n",
      "File \u001b[1;32mc:\\Users\\lshah\\OneDrive\\Documents\\Projects\\selective_recruitment\\notebooks\\Paper\\../../..\\Functional_Fusion\\dataset.py:85\u001b[0m, in \u001b[0;36mget_dataset\u001b[1;34m(base_dir, dataset, atlas, sess, subj, type, smooth, info_only)\u001b[0m\n\u001b[0;32m     82\u001b[0m data_l \u001b[39m=\u001b[39m []\n\u001b[0;32m     83\u001b[0m \u001b[39mfor\u001b[39;00m s \u001b[39min\u001b[39;00m sess:\n\u001b[1;32m---> 85\u001b[0m     dat, inf \u001b[39m=\u001b[39m my_dataset\u001b[39m.\u001b[39;49mget_data(atlas, s, \u001b[39mtype\u001b[39;49m, subj, smooth\u001b[39m=\u001b[39;49msmooth)\n\u001b[0;32m     86\u001b[0m     data_l\u001b[39m.\u001b[39mappend(dat)\n\u001b[0;32m     87\u001b[0m     inf[\u001b[39m'\u001b[39m\u001b[39msess\u001b[39m\u001b[39m'\u001b[39m] \u001b[39m=\u001b[39m [s] \u001b[39m*\u001b[39m inf\u001b[39m.\u001b[39mshape[\u001b[39m0\u001b[39m]\n",
      "File \u001b[1;32mc:\\Users\\lshah\\OneDrive\\Documents\\Projects\\selective_recruitment\\notebooks\\Paper\\../../..\\Functional_Fusion\\dataset.py:483\u001b[0m, in \u001b[0;36mDataSet.get_data\u001b[1;34m(self, space, ses_id, type, subj, fields, smooth, verbose)\u001b[0m\n\u001b[0;32m    480\u001b[0m \u001b[39melse\u001b[39;00m:\n\u001b[0;32m    481\u001b[0m     C \u001b[39m=\u001b[39m nb\u001b[39m.\u001b[39mload(\u001b[39mself\u001b[39m\u001b[39m.\u001b[39mdata_dir\u001b[39m.\u001b[39mformat(s)\n\u001b[0;32m    482\u001b[0m                 \u001b[39m+\u001b[39m \u001b[39mf\u001b[39m\u001b[39m'\u001b[39m\u001b[39m/\u001b[39m\u001b[39m{\u001b[39;00ms\u001b[39m}\u001b[39;00m\u001b[39m_space-\u001b[39m\u001b[39m{\u001b[39;00mspace\u001b[39m}\u001b[39;00m\u001b[39m_\u001b[39m\u001b[39m{\u001b[39;00mses_id\u001b[39m}\u001b[39;00m\u001b[39m_\u001b[39m\u001b[39m{\u001b[39;00m\u001b[39mtype\u001b[39m\u001b[39m}\u001b[39;00m\u001b[39m.dscalar.nii\u001b[39m\u001b[39m'\u001b[39m)\n\u001b[1;32m--> 483\u001b[0m this_data \u001b[39m=\u001b[39m C\u001b[39m.\u001b[39;49mget_fdata()\n\u001b[0;32m    485\u001b[0m \u001b[39m# Check if this subject data in incomplete\u001b[39;00m\n\u001b[0;32m    486\u001b[0m \u001b[39mif\u001b[39;00m this_data\u001b[39m.\u001b[39mshape[\u001b[39m0\u001b[39m] \u001b[39m!=\u001b[39m info_com\u001b[39m.\u001b[39mshape[\u001b[39m0\u001b[39m]:\n",
      "File \u001b[1;32mc:\\Users\\lshah\\OneDrive\\Documents\\Projects\\selective_recruitment\\.venv\\lib\\site-packages\\nibabel\\dataobj_images.py:368\u001b[0m, in \u001b[0;36mDataobjImage.get_fdata\u001b[1;34m(self, caching, dtype)\u001b[0m\n\u001b[0;32m    364\u001b[0m         \u001b[39mreturn\u001b[39;00m \u001b[39mself\u001b[39m\u001b[39m.\u001b[39m_fdata_cache\n\u001b[0;32m    365\u001b[0m \u001b[39m# Always return requested data type\u001b[39;00m\n\u001b[0;32m    366\u001b[0m \u001b[39m# For array proxies, will attempt to confine data array to dtype\u001b[39;00m\n\u001b[0;32m    367\u001b[0m \u001b[39m# during scaling\u001b[39;00m\n\u001b[1;32m--> 368\u001b[0m data \u001b[39m=\u001b[39m np\u001b[39m.\u001b[39;49masanyarray(\u001b[39mself\u001b[39;49m\u001b[39m.\u001b[39;49m_dataobj, dtype\u001b[39m=\u001b[39;49mdtype)\n\u001b[0;32m    369\u001b[0m \u001b[39mif\u001b[39;00m caching \u001b[39m==\u001b[39m \u001b[39m'\u001b[39m\u001b[39mfill\u001b[39m\u001b[39m'\u001b[39m:\n\u001b[0;32m    370\u001b[0m     \u001b[39mself\u001b[39m\u001b[39m.\u001b[39m_fdata_cache \u001b[39m=\u001b[39m data\n",
      "File \u001b[1;32mc:\\Users\\lshah\\OneDrive\\Documents\\Projects\\selective_recruitment\\.venv\\lib\\site-packages\\nibabel\\arrayproxy.py:426\u001b[0m, in \u001b[0;36mArrayProxy.__array__\u001b[1;34m(self, dtype)\u001b[0m\n\u001b[0;32m    405\u001b[0m \u001b[39mdef\u001b[39;00m \u001b[39m__array__\u001b[39m(\u001b[39mself\u001b[39m, dtype\u001b[39m=\u001b[39m\u001b[39mNone\u001b[39;00m):\n\u001b[0;32m    406\u001b[0m \u001b[39m    \u001b[39m\u001b[39m\"\"\"Read data from file and apply scaling, casting to ``dtype``\u001b[39;00m\n\u001b[0;32m    407\u001b[0m \n\u001b[0;32m    408\u001b[0m \u001b[39m    If ``dtype`` is unspecified, the dtype of the returned array is the\u001b[39;00m\n\u001b[1;32m   (...)\u001b[0m\n\u001b[0;32m    424\u001b[0m \u001b[39m        Scaled image data with type `dtype`.\u001b[39;00m\n\u001b[0;32m    425\u001b[0m \u001b[39m    \"\"\"\u001b[39;00m\n\u001b[1;32m--> 426\u001b[0m     arr \u001b[39m=\u001b[39m \u001b[39mself\u001b[39;49m\u001b[39m.\u001b[39;49m_get_scaled(dtype\u001b[39m=\u001b[39;49mdtype, slicer\u001b[39m=\u001b[39;49m())\n\u001b[0;32m    427\u001b[0m     \u001b[39mif\u001b[39;00m dtype \u001b[39mis\u001b[39;00m \u001b[39mnot\u001b[39;00m \u001b[39mNone\u001b[39;00m:\n\u001b[0;32m    428\u001b[0m         arr \u001b[39m=\u001b[39m arr\u001b[39m.\u001b[39mastype(dtype, copy\u001b[39m=\u001b[39m\u001b[39mFalse\u001b[39;00m)\n",
      "File \u001b[1;32mc:\\Users\\lshah\\OneDrive\\Documents\\Projects\\selective_recruitment\\.venv\\lib\\site-packages\\nibabel\\arrayproxy.py:393\u001b[0m, in \u001b[0;36mArrayProxy._get_scaled\u001b[1;34m(self, dtype, slicer)\u001b[0m\n\u001b[0;32m    391\u001b[0m     scl_inter \u001b[39m=\u001b[39m scl_inter\u001b[39m.\u001b[39mastype(use_dtype)\n\u001b[0;32m    392\u001b[0m \u001b[39m# Read array and upcast as necessary for big slopes, intercepts\u001b[39;00m\n\u001b[1;32m--> 393\u001b[0m scaled \u001b[39m=\u001b[39m apply_read_scaling(\u001b[39mself\u001b[39;49m\u001b[39m.\u001b[39;49m_get_unscaled(slicer\u001b[39m=\u001b[39;49mslicer), scl_slope, scl_inter)\n\u001b[0;32m    394\u001b[0m \u001b[39mif\u001b[39;00m dtype \u001b[39mis\u001b[39;00m \u001b[39mnot\u001b[39;00m \u001b[39mNone\u001b[39;00m:\n\u001b[0;32m    395\u001b[0m     scaled \u001b[39m=\u001b[39m scaled\u001b[39m.\u001b[39mastype(np\u001b[39m.\u001b[39mpromote_types(scaled\u001b[39m.\u001b[39mdtype, dtype), copy\u001b[39m=\u001b[39m\u001b[39mFalse\u001b[39;00m)\n",
      "File \u001b[1;32mc:\\Users\\lshah\\OneDrive\\Documents\\Projects\\selective_recruitment\\.venv\\lib\\site-packages\\nibabel\\arrayproxy.py:362\u001b[0m, in \u001b[0;36mArrayProxy._get_unscaled\u001b[1;34m(self, slicer)\u001b[0m\n\u001b[0;32m    358\u001b[0m \u001b[39mdef\u001b[39;00m \u001b[39m_get_unscaled\u001b[39m(\u001b[39mself\u001b[39m, slicer):\n\u001b[0;32m    359\u001b[0m     \u001b[39mif\u001b[39;00m canonical_slicers(slicer, \u001b[39mself\u001b[39m\u001b[39m.\u001b[39m_shape, \u001b[39mFalse\u001b[39;00m) \u001b[39m==\u001b[39m canonical_slicers(\n\u001b[0;32m    360\u001b[0m         (), \u001b[39mself\u001b[39m\u001b[39m.\u001b[39m_shape, \u001b[39mFalse\u001b[39;00m\n\u001b[0;32m    361\u001b[0m     ):\n\u001b[1;32m--> 362\u001b[0m         \u001b[39mwith\u001b[39;00m \u001b[39mself\u001b[39m\u001b[39m.\u001b[39m_get_fileobj() \u001b[39mas\u001b[39;00m fileobj, \u001b[39mself\u001b[39m\u001b[39m.\u001b[39m_lock:\n\u001b[0;32m    363\u001b[0m             \u001b[39mreturn\u001b[39;00m array_from_file(\n\u001b[0;32m    364\u001b[0m                 \u001b[39mself\u001b[39m\u001b[39m.\u001b[39m_shape,\n\u001b[0;32m    365\u001b[0m                 \u001b[39mself\u001b[39m\u001b[39m.\u001b[39m_dtype,\n\u001b[1;32m   (...)\u001b[0m\n\u001b[0;32m    369\u001b[0m                 mmap\u001b[39m=\u001b[39m\u001b[39mself\u001b[39m\u001b[39m.\u001b[39m_mmap,\n\u001b[0;32m    370\u001b[0m             )\n\u001b[0;32m    371\u001b[0m     \u001b[39mwith\u001b[39;00m \u001b[39mself\u001b[39m\u001b[39m.\u001b[39m_get_fileobj() \u001b[39mas\u001b[39;00m fileobj:\n",
      "File \u001b[1;32mC:\\Program Files\\WindowsApps\\PythonSoftwareFoundation.Python.3.10_3.10.3056.0_x64__qbz5n2kfra8p0\\lib\\contextlib.py:135\u001b[0m, in \u001b[0;36m_GeneratorContextManager.__enter__\u001b[1;34m(self)\u001b[0m\n\u001b[0;32m    133\u001b[0m \u001b[39mdel\u001b[39;00m \u001b[39mself\u001b[39m\u001b[39m.\u001b[39margs, \u001b[39mself\u001b[39m\u001b[39m.\u001b[39mkwds, \u001b[39mself\u001b[39m\u001b[39m.\u001b[39mfunc\n\u001b[0;32m    134\u001b[0m \u001b[39mtry\u001b[39;00m:\n\u001b[1;32m--> 135\u001b[0m     \u001b[39mreturn\u001b[39;00m \u001b[39mnext\u001b[39;49m(\u001b[39mself\u001b[39;49m\u001b[39m.\u001b[39;49mgen)\n\u001b[0;32m    136\u001b[0m \u001b[39mexcept\u001b[39;00m \u001b[39mStopIteration\u001b[39;00m:\n\u001b[0;32m    137\u001b[0m     \u001b[39mraise\u001b[39;00m \u001b[39mRuntimeError\u001b[39;00m(\u001b[39m\"\u001b[39m\u001b[39mgenerator didn\u001b[39m\u001b[39m'\u001b[39m\u001b[39mt yield\u001b[39m\u001b[39m\"\u001b[39m) \u001b[39mfrom\u001b[39;00m \u001b[39mNone\u001b[39m\n",
      "File \u001b[1;32mc:\\Users\\lshah\\OneDrive\\Documents\\Projects\\selective_recruitment\\.venv\\lib\\site-packages\\nibabel\\arrayproxy.py:355\u001b[0m, in \u001b[0;36mArrayProxy._get_fileobj\u001b[1;34m(self)\u001b[0m\n\u001b[0;32m    353\u001b[0m     \u001b[39myield\u001b[39;00m \u001b[39mself\u001b[39m\u001b[39m.\u001b[39m_opener\n\u001b[0;32m    354\u001b[0m \u001b[39melse\u001b[39;00m:\n\u001b[1;32m--> 355\u001b[0m     \u001b[39mwith\u001b[39;00m openers\u001b[39m.\u001b[39;49mImageOpener(\u001b[39mself\u001b[39;49m\u001b[39m.\u001b[39;49mfile_like, keep_open\u001b[39m=\u001b[39;49m\u001b[39mFalse\u001b[39;49;00m) \u001b[39mas\u001b[39;00m opener:\n\u001b[0;32m    356\u001b[0m         \u001b[39myield\u001b[39;00m opener\n",
      "File \u001b[1;32mc:\\Users\\lshah\\OneDrive\\Documents\\Projects\\selective_recruitment\\.venv\\lib\\site-packages\\nibabel\\openers.py:156\u001b[0m, in \u001b[0;36mOpener.__init__\u001b[1;34m(self, fileish, *args, **kwargs)\u001b[0m\n\u001b[0;32m    153\u001b[0m \u001b[39m# Clear keep_open hint if it is not relevant for the file type\u001b[39;00m\n\u001b[0;32m    154\u001b[0m \u001b[39melse\u001b[39;00m:\n\u001b[0;32m    155\u001b[0m     kwargs\u001b[39m.\u001b[39mpop(\u001b[39m'\u001b[39m\u001b[39mkeep_open\u001b[39m\u001b[39m'\u001b[39m, \u001b[39mNone\u001b[39;00m)\n\u001b[1;32m--> 156\u001b[0m \u001b[39mself\u001b[39m\u001b[39m.\u001b[39mfobj \u001b[39m=\u001b[39m opener(fileish, \u001b[39m*\u001b[39margs, \u001b[39m*\u001b[39m\u001b[39m*\u001b[39mkwargs)\n\u001b[0;32m    157\u001b[0m \u001b[39mself\u001b[39m\u001b[39m.\u001b[39m_name \u001b[39m=\u001b[39m fileish\n\u001b[0;32m    158\u001b[0m \u001b[39mself\u001b[39m\u001b[39m.\u001b[39mme_opened \u001b[39m=\u001b[39m \u001b[39mTrue\u001b[39;00m\n",
      "\u001b[1;31mKeyboardInterrupt\u001b[0m: "
     ]
    }
   ],
   "source": [
    "# get the summary df with observed and predicted activation within cerebellar parcels\n",
    "dataset = \"WMFS\"\n",
    "ses_id = 'ses-01'\n",
    "parcellation = \"NettekovenSym32\"\n",
    "cortex = \"Icosahedron1002\"\n",
    "type = \"CondHalf\"\n",
    "crcossed = True\n",
    "alpha = \"_A8\"\n",
    "\n",
    "D = ss.get_summary_conn(dataset = dataset,\n",
    "                     ses_id = ses_id,\n",
    "                     subj = None, # to do all the subjects\n",
    "                     atlas_space = \"SUIT3\",\n",
    "                     cerebellum_roi = parcellation,\n",
    "                     cerebellum_roi_selected = None,\n",
    "                     cortex_roi = cortex,\n",
    "                     type = type,\n",
    "                     add_rest = True,\n",
    "                     mname_base = f'MDTB_all_{cortex}_L2regression',\n",
    "                     mname_ext = alpha,\n",
    "                     crossed = crossed)\n",
    "\n",
    "\n",
    "D = ra.roi_regress(D, fit_intercept=True)\n",
    "D.to_csv(wkdir + f'/fs_ROI_{parcellation}_{cortex}_{type}_conn_reg.tsv', sep='\\t')\n",
    "D = pd.read_csv(wkdir + f'/fs_ROI_{parcellation}_{cortex}_{type}_conn_reg.tsv', sep='\\t')"
   ]
  },
  {
   "cell_type": "markdown",
   "metadata": {},
   "source": [
    "### Select region of interest.\n",
    "Here we pick one parcel by first focusing on one network, the most relevant network: here the motor network. From the sub-regions within that network, we pick the one that shows consistently high activation throughout the task"
   ]
  },
  {
   "cell_type": "code",
   "execution_count": null,
   "metadata": {},
   "outputs": [],
   "source": [
    "roi_exp = \"M..\" # roi_exp = \"D.?3.?R|D.?3.?L\" # roi_exp = \"D.?3.?R\"\n",
    "_, _, selected_ = sroi.get_parcel_single(parcellation = parcellation, \n",
    "                                               atlas_space = \"SUIT3\",\n",
    "                                               roi_exp = roi_exp)\n",
    "print(selected_)\n",
    "table = pd.pivot_table(D.loc[np.isin(D.roi_name.values, selected_)], values='Y', index=['roi_name'], aggfunc=np.mean)\n",
    "sorted_regions = table.sort_values(by=[\"Y\"],ascending=False)\n",
    "display(sorted_regions.T)\n",
    "roi_selected = sorted_regions.T.columns[0]\n",
    "print(f\"selected region is {roi_selected}\")\n"
   ]
  },
  {
   "cell_type": "markdown",
   "metadata": {},
   "source": [
    "### make the scatterplot and test the residuals"
   ]
  },
  {
   "cell_type": "code",
   "execution_count": null,
   "metadata": {},
   "outputs": [],
   "source": [
    "# get the dataframe with the selected region\n",
    "df = D.loc[D.roi_name == \"M3R\"]\n",
    "make_scatterplot(df, split='cond_num',\n",
    "                labels=label_dict,\n",
    "                markers=marker_dict,\n",
    "                colors=color_dict)\n",
    "# # plt.xlabel(\"predicted cerebellar activation\")\n",
    "# # # plt.savefig(\"working_memory_D3R_scatter.pdf\")\n",
    "print(AnovaRM(data=df[df.cond_name != 'rest'], depvar='res',subject='sn', within=['cond_name'], aggregate_func=np.mean).fit())"
   ]
  },
  {
   "cell_type": "code",
   "execution_count": null,
   "metadata": {},
   "outputs": [],
   "source": []
  },
  {
   "cell_type": "code",
   "execution_count": null,
   "metadata": {},
   "outputs": [],
   "source": []
  }
 ],
 "metadata": {
  "kernelspec": {
   "display_name": ".venv",
   "language": "python",
   "name": "python3"
  },
  "language_info": {
   "codemirror_mode": {
    "name": "ipython",
    "version": 3
   },
   "file_extension": ".py",
   "mimetype": "text/x-python",
   "name": "python",
   "nbconvert_exporter": "python",
   "pygments_lexer": "ipython3",
   "version": "3.10.11"
  },
  "orig_nbformat": 4
 },
 "nbformat": 4,
 "nbformat_minor": 2
}
