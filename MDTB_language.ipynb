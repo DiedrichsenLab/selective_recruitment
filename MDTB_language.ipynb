{
 "cells": [
  {
   "cell_type": "code",
   "execution_count": 3,
   "metadata": {},
   "outputs": [],
   "source": [
    "import os\n",
    "import numpy as np\n",
    "import seaborn as sns # for plots\n",
    "import pandas as pd\n",
    "from pathlib import Path\n",
    "import matplotlib.pyplot as plt\n",
    "from scipy import stats as sps # to calcualte confidence intervals, etc\n",
    "from adjustText import adjust_text # to adjust the text labels in the plots (pip install adjustText)\n",
    "\n",
    "from statsmodels.stats.anova import AnovaRM # perform F test"
   ]
  },
  {
   "cell_type": "code",
   "execution_count": 4,
   "metadata": {},
   "outputs": [],
   "source": [
    "# setting directories\n",
    "base_dir = '/Volumes/diedrichsen_data$/data/FunctionalFusion'\n",
    "if not Path(base_dir).exists():\n",
    "    base_dir = '/srv/diedrichsen/data/FunctionalFusion'\n",
    "if not Path(base_dir).exists():\n",
    "    base_dir = '/cifs/diedrichsen/data/FunctionalFusion'\n",
    "atlas_dir = base_dir + '/Atlases'"
   ]
  },
  {
   "cell_type": "code",
   "execution_count": 20,
   "metadata": {},
   "outputs": [],
   "source": [
    "# Functions\n",
    "# prepare dataframe for plotting\n",
    "def prep_df(dataframe, agg_kw = {}, groupby = \"cond_name\"):\n",
    "    \"\"\"\n",
    "    prepare the region dataframe to do the scatter plot\n",
    "    gets the mean across subjects (data point) and std of residuals\n",
    "    Args:\n",
    "        dataframe (pd.DataFrame) - dataframe with residuals info \n",
    "        agg_kw (dict) - dictionary determining info for dataframe aggregation\n",
    "\n",
    "    Returns:\n",
    "    g_df (pd.DataFrame) - dataframe ready for putting into the scatterplot function\n",
    "    \"\"\"\n",
    "    # group by condition\n",
    "    grouped = dataframe.groupby([groupby])\n",
    "    g_df = grouped.agg(agg_kw)\n",
    "    \n",
    "    g_std = grouped.std(numeric_only=True)\n",
    "    g_df[\"Y_CI\"] = grouped.Y.apply(sps.sem) * 1.96\n",
    "    g_df[\"X_CI\"] = grouped.X.apply(sps.sem)*1.96\n",
    "    g_df['err'] = g_std['res']\n",
    "    \n",
    "    return g_df\n",
    "\n",
    "\n",
    "# plotting:\n",
    "def make_plot(dataframe, hue = \"cond_name\", style = \"cond_name\", height = 4, aspect = 1):\n",
    "    \"\"\"\n",
    "    make scatterplot\n",
    "    uses FacetGrid \n",
    "    Args: \n",
    "    dataframe (pd.DataFrame) - output from prep_df\n",
    "    hue (str)      - column name to be used to determine color\n",
    "    style (str)    - column name to be used to determine shape of the marker\n",
    "    label (str)    - column name to be used to determine the label of the data points\n",
    "    height (int)   - int to determine the height of the plot\n",
    "    aspect (float) - floating number to determine the aspect ratio of the plot\n",
    "    \"\"\"\n",
    "    g = sns.FacetGrid(dataframe,  height=height, aspect=aspect)\n",
    "    # do the scatter plot\n",
    "    g.map_dataframe(sns.scatterplot, x=\"X\", y=\"Y\", \n",
    "                                    style = style, hue = hue, s = 50)\n",
    "    g.add_legend()\n",
    "\n",
    "    # fit the regression on top of the scatterplot\n",
    "    g.map_dataframe(sns.regplot, x=\"X\", y=\"Y\", \n",
    "                        fit_reg=True, \n",
    "                        scatter_kws={\"s\": 0}, # size is set to 0 so that it doesn't cover the markers created in the scatterplot step \n",
    "                        line_kws={'label':\"Linear Reg\", \"color\": 'grey'})\n",
    "\n",
    "    # put the errorbars in \n",
    "    g.map(plt.errorbar, x = df_preped['X'], \n",
    "                        y = df_preped['Y'], \n",
    "                        yerr = df_preped['err'],\n",
    "                        elinewidth=1, \n",
    "                        fmt='none', # no marker will be used when plotting the error bars\n",
    "                        color='grey', \n",
    "                        ecolor='0.9'\n",
    "                )\n",
    "    # set labels\n",
    "    g.set_xlabels('Cortical Activation (a.u.)')\n",
    "    g.set_ylabels('Cerebellar Activation (a.u.)')\n"
   ]
  },
  {
   "cell_type": "code",
   "execution_count": 15,
   "metadata": {},
   "outputs": [
    {
     "name": "stdout",
     "output_type": "stream",
     "text": [
      "                 cond_name         X         Y       res      Y_CI      X_CI  \\\n",
      "cond_name                                                                      \n",
      "PredictScram  PredictScram -0.015178 -0.008319 -0.001231  0.005379  0.007603   \n",
      "PredictViol    PredictViol -0.023939 -0.013001 -0.000862  0.006123  0.007784   \n",
      "Prediction      Prediction -0.018731 -0.009618 -0.000430  0.005675  0.006494   \n",
      "\n",
      "                   err  \n",
      "cond_name               \n",
      "PredictScram  0.015056  \n",
      "PredictViol   0.014301  \n",
      "Prediction    0.016415  \n"
     ]
    }
   ],
   "source": [
    "# load the dataframe for the whole \n",
    "df_path = os.path.join(base_dir, \"MDTB\", \"sc_df_whole_ses-s2.tsv\")\n",
    "df = pd.read_csv(df_path, sep=\"\\t\")\n",
    "\n",
    "conditions_df = df[df['cond_name'].isin(['PredictViol','Prediction','PredictScram'])]\n",
    "\n",
    "# prepare df for plotting\n",
    "# by setting non-numeric fields to 'first', we make sure that they are not removed from the final dataframe\n",
    "agg_kw= {'cond_name': 'first', 'X': np.mean, 'Y': np.mean, 'res': np.mean}\n",
    "df_preped = prep_df(conditions_df, groupby = \"cond_name\", agg_kw=agg_kw)\n",
    "\n",
    "print(df_preped)"
   ]
  },
  {
   "cell_type": "code",
   "execution_count": 29,
   "metadata": {},
   "outputs": [
    {
     "data": {
      "image/png": "[encoded data removed]",
      "text/plain": [
       "<Figure size 542.875x400 with 1 Axes>"
      ]
     },
     "metadata": {},
     "output_type": "display_data"
    }
   ],
   "source": [
    "make_plot(df_preped, hue = \"cond_name\", style = \"cond_name\", height = 4, aspect = 1)"
   ]
  },
  {
   "cell_type": "code",
   "execution_count": 23,
   "metadata": {},
   "outputs": [
    {
     "name": "stdout",
     "output_type": "stream",
     "text": [
      "                 Anova\n",
      "=======================================\n",
      "          F Value Num DF  Den DF Pr > F\n",
      "---------------------------------------\n",
      "cond_name  0.0552 2.0000 46.0000 0.9463\n",
      "=======================================\n",
      "\n"
     ]
    }
   ],
   "source": [
    "# need to pass on aggregate_func to aggregate over the two halved (see half column in the original dataframe)\n",
    "print(AnovaRM(data=conditions_df, depvar='res',\n",
    "              subject='sn', within=['cond_name'], aggregate_func = np.mean).fit())"
   ]
  }
 ],
 "metadata": {
  "interpreter": {
   "hash": "916dbcbb3f70747c44a77c7bcd40155683ae19c65e1c03b4aa3499c5328201f1"
  },
  "kernelspec": {
   "display_name": "Python 3.8.10 64-bit",
   "language": "python",
   "name": "python3"
  },
  "language_info": {
   "codemirror_mode": {
    "name": "ipython",
    "version": 3
   },
   "file_extension": ".py",
   "mimetype": "text/x-python",
   "name": "python",
   "nbconvert_exporter": "python",
   "pygments_lexer": "ipython3",
   "version": "3.8.10"
  },
  "orig_nbformat": 4
 },
 "nbformat": 4,
 "nbformat_minor": 2
}
