{
 "cells": [
  {
   "cell_type": "code",
   "execution_count": 2,
   "metadata": {},
   "outputs": [
    {
     "ename": "SyntaxError",
     "evalue": "keyword argument repeated (roi_pairs.py, line 41)",
     "output_type": "error",
     "traceback": [
      "Traceback \u001b[0;36m(most recent call last)\u001b[0m:\n",
      "\u001b[0m  File \u001b[1;32m~/.local/lib/python3.8/site-packages/IPython/core/interactiveshell.py:3433\u001b[0m in \u001b[1;35mrun_code\u001b[0m\n    exec(code_obj, self.user_global_ns, self.user_ns)\u001b[0m\n",
      "\u001b[0;36m  Cell \u001b[0;32mIn [2], line 11\u001b[0;36m\n\u001b[0;31m    import selective_recruitment.roi_pairs as rp\u001b[0;36m\n",
      "\u001b[0;36m  File \u001b[0;32m~/Documents/GitHub/selective_recruitment/roi_pairs.py:41\u001b[0;36m\u001b[0m\n\u001b[0;31m    cerebellum_roi=f'tpl-SUIT/atl-{roi_1}_space-SUIT', cortex_roi= f'tpl-fs32k/{roi_1}.32k', add_rest = True)\u001b[0m\n\u001b[0m                                                                                             ^\u001b[0m\n\u001b[0;31mSyntaxError\u001b[0m\u001b[0;31m:\u001b[0m keyword argument repeated\n"
     ]
    }
   ],
   "source": [
    "import os\n",
    "import numpy as np\n",
    "import seaborn as sns # for plots\n",
    "import pandas as pd\n",
    "from pathlib import Path\n",
    "import matplotlib.pyplot as plt\n",
    "from scipy import stats as sps # to calcualte confidence intervals, etc\n",
    "from adjustText import adjust_text # to adjust the text labels in the plots (pip install adjustText)\n",
    "from scipy.stats import ttest_rel, f_oneway,ttest_1samp\n",
    "from dataset import *\n",
    "import selective_recruitment.roi_pairs as rp\n",
    "import warnings\n",
    "warnings.simplefilter(action='ignore', category=FutureWarning)\n",
    "import selective_recruitment.recruite_ana as ra\n",
    "\n",
    "from statsmodels.stats.anova import AnovaRM # perform F test"
   ]
  },
  {
   "cell_type": "markdown",
   "metadata": {},
   "source": [
    "# Language (connectivity: S1-S4) - MD (connectivity: D1-D4) SHIFT ANALYSIS"
   ]
  },
  {
   "cell_type": "code",
   "execution_count": 3,
   "metadata": {},
   "outputs": [
    {
     "ename": "NameError",
     "evalue": "name 'rp' is not defined",
     "output_type": "error",
     "traceback": [
      "\u001b[0;31m---------------------------------------------------------------------------\u001b[0m",
      "\u001b[0;31mNameError\u001b[0m                                 Traceback (most recent call last)",
      "Cell \u001b[0;32mIn [3], line 1\u001b[0m\n\u001b[0;32m----> 1\u001b[0m summary_1, summary_2\u001b[38;5;241m=\u001b[39m \u001b[43mrp\u001b[49m\u001b[38;5;241m.\u001b[39mget_summary_pair(dataset\u001b[38;5;241m=\u001b[39m\u001b[38;5;124m'\u001b[39m\u001b[38;5;124mIBC\u001b[39m\u001b[38;5;124m'\u001b[39m,ses_id \u001b[38;5;241m=\u001b[39m \u001b[38;5;124m'\u001b[39m\u001b[38;5;124mses-rsvplanguage\u001b[39m\u001b[38;5;124m'\u001b[39m, \u001b[38;5;28mtype\u001b[39m\u001b[38;5;241m=\u001b[39m \u001b[38;5;124m'\u001b[39m\u001b[38;5;124mCondHalf\u001b[39m\u001b[38;5;124m'\u001b[39m, roi_1\u001b[38;5;241m=\u001b[39m\u001b[38;5;124m'\u001b[39m\u001b[38;5;124mlanguage(S1-S4)_NettekovenSym68c32\u001b[39m\u001b[38;5;124m'\u001b[39m,roi_2\u001b[38;5;241m=\u001b[39m\u001b[38;5;124m'\u001b[39m\u001b[38;5;124mmd(D1-D4)_NettekovenSym68c32\u001b[39m\u001b[38;5;124m'\u001b[39m, add_rest\u001b[38;5;241m=\u001b[39m \u001b[38;5;28;01mTrue\u001b[39;00m)\n",
      "\u001b[0;31mNameError\u001b[0m: name 'rp' is not defined"
     ]
    }
   ],
   "source": [
    "summary_1, summary_2= rp.get_summary_pair(dataset='IBC',ses_id = 'ses-rsvplanguage', type= 'CondHalf', roi_1='language(S1-S4)_NettekovenSym68c32',roi_2='md(D1-D4)_NettekovenSym68c32', add_rest= True)"
   ]
  },
  {
   "cell_type": "code",
   "execution_count": null,
   "metadata": {},
   "outputs": [],
   "source": [
    "figure =rp.plot_pair(dataframe_1=summary_1,dataframe_2=summary_2, markers= True)\n",
    "\n"
   ]
  },
  {
   "cell_type": "markdown",
   "metadata": {},
   "source": [
    "# Language (connectivity: S1-S3) - MD (connectivity: D1-D4) SHIFT ANALYSIS"
   ]
  },
  {
   "cell_type": "code",
   "execution_count": null,
   "metadata": {},
   "outputs": [],
   "source": [
    "summary_1, summary_2= rp.get_summary_pair(dataset='IBC',ses_id = 'ses-rsvplanguage', type= 'CondHalf', roi_1='language(S1-S3)_NettekovenSym68c32',roi_2='md(D1-D4)_NettekovenSym68c32')"
   ]
  },
  {
   "cell_type": "code",
   "execution_count": null,
   "metadata": {},
   "outputs": [],
   "source": [
    "figure = rp.plot_pair(dataframe_1=summary_1,dataframe_2=summary_2, markers= True)\n"
   ]
  },
  {
   "cell_type": "markdown",
   "metadata": {},
   "source": [
    "# playing with simulations"
   ]
  },
  {
   "cell_type": "code",
   "execution_count": null,
   "metadata": {},
   "outputs": [],
   "source": [
    "df1 = rp.sim_summary_pair_n(slope = 1, seed_value = 10)\n",
    "df1 = ra.run_regress(df1, fit_intercept= True)\n",
    "\n",
    "df2 = rp.sim_summary_pair_n(slope = 1, seed_value = 10)\n",
    "df2 = ra.run_regress(df2, fit_intercept= True)"
   ]
  },
  {
   "cell_type": "code",
   "execution_count": null,
   "metadata": {},
   "outputs": [],
   "source": [
    "rp.plot_pair(df1,df2, markers= True)"
   ]
  },
  {
   "cell_type": "code",
   "execution_count": null,
   "metadata": {},
   "outputs": [],
   "source": [
    "df1 = rp.sim_summary_pair_n(slope = 8, seed_value = 10)\n",
    "df1 = ra.run_regress(df1, fit_intercept= True)\n",
    "\n",
    "df2 = rp.sim_summary_pair_n(slope = 1, seed_value = 10)\n",
    "df2 = ra.run_regress(df2, fit_intercept= True)"
   ]
  },
  {
   "cell_type": "code",
   "execution_count": null,
   "metadata": {},
   "outputs": [],
   "source": [
    "rp.plot_pair(df1,df2, markers= True)"
   ]
  }
 ],
 "metadata": {
  "interpreter": {
   "hash": "916dbcbb3f70747c44a77c7bcd40155683ae19c65e1c03b4aa3499c5328201f1"
  },
  "kernelspec": {
   "display_name": "Python 3.8.10 64-bit",
   "language": "python",
   "name": "python3"
  },
  "language_info": {
   "codemirror_mode": {
    "name": "ipython",
    "version": 3
   },
   "file_extension": ".py",
   "mimetype": "text/x-python",
   "name": "python",
   "nbconvert_exporter": "python",
   "pygments_lexer": "ipython3",
   "version": "3.8.10"
  },
  "orig_nbformat": 4
 },
 "nbformat": 4,
 "nbformat_minor": 2
}
