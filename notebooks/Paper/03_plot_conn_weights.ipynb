{
 "cells": [
  {
   "cell_type": "code",
   "execution_count": 2,
   "metadata": {},
   "outputs": [],
   "source": [
    "from selective_recruitment.plotting import plot_parcels\n",
    "from selective_recruitment.plotting import plot_connectivity_weight\n",
    "\n",
    "import selective_recruitment.globals as gl\n",
    "\n",
    "from cortico_cereb_connectivity.scripts.script_summarize_weights import avrg_weight_map\n",
    "\n",
    "import Functional_Fusion.atlas_map as am\n",
    "\n",
    "import numpy as np\n",
    "import SUITPy.flatmap as flatmap\n",
    "import nitools as nt\n",
    "import nibabel as nb\n",
    "import matplotlib.colors as colors\n",
    "from nilearn.plotting.cm import _cmap_d as nilearn_cmaps"
   ]
  },
  {
   "cell_type": "markdown",
   "metadata": {},
   "source": [
    "# Choose a cerebellar region\n",
    "For the motor task, the region of interest is M3R from Hierarchical parcellation and for the working memory task it's D3R"
   ]
  },
  {
   "cell_type": "code",
   "execution_count": 3,
   "metadata": {},
   "outputs": [
    {
     "name": "stdout",
     "output_type": "stream",
     "text": [
      "['M3R']\n"
     ]
    }
   ],
   "source": [
    "# get the plot of region of interest in the cerebellum\n",
    "# create a colormap with two colors, red and blue\n",
    "cmap = colors.ListedColormap(['#FFC20A'])\n",
    "\n",
    "cerebellum_roi = \"NettekovenSym32\"\n",
    "parcel_fig = plot_parcels(parcellation = cerebellum_roi, \n",
    "                   atlas_space = \"SUIT3\", \n",
    "                   roi_exp= \"M.?3.?R\",  # \"D.?3.?R|D.?2.?R\"\n",
    "                   stats = \"mode\",\n",
    "                   split = [2, 1, 2, 1,2, 1,2, 1,2, 1,2, 1, 2, 1, 2, 1], \n",
    "                   render = \"plotly\", \n",
    "                   cmap = cmap)\n",
    "parcel_fig.show()\n",
    "# parcel_fig.write_image(\"M3R.pdf\")"
   ]
  },
  {
   "cell_type": "markdown",
   "metadata": {},
   "source": [
    "Plot the whole atlas"
   ]
  },
  {
   "cell_type": "code",
   "execution_count": null,
   "metadata": {},
   "outputs": [],
   "source": [
    "atlas, ainfo = am.get_atlas(atlas_str = \"SUIT3\", atlas_dir = gl.atlas_dir) \n",
    "fname = gl.atlas_dir + f'/{ainfo[\"dir\"]}/atl-NettekovenSym32_space-SUIT_probseg.nii'\n",
    "_, cmap, labels = nt.read_lut(gl.atlas_dir + f'/{ainfo[\"dir\"]}/atl-NettekovenSym32.lut')\n",
    "pseg = nb.load(fname)\n",
    "\n",
    "surf_data = flatmap.vol_to_surf(pseg, stats='nanmean',\n",
    "                                             space='SUIT')\n",
    "label = np.argmax(surf_data, axis=1) + 1\n",
    "ax = flatmap.plot(label,\n",
    "    cmap=cmap,\n",
    "    new_figure=False,\n",
    "    label_names=labels,\n",
    "    overlay_type='label',\n",
    "    colorbar=False,\n",
    "    render = \"plotly\",\n",
    "    bordersize=1.5)\n",
    "# plt.savefig(ut.figure_dir + f'NettekovenSym68_flatmap{backgroundcolor}.png', dpi=300,bbox_inches='tight')"
   ]
  },
  {
   "cell_type": "code",
   "execution_count": null,
   "metadata": {},
   "outputs": [],
   "source": [
    "# plot the corresponding connectivity weights\n",
    "cortex_roi = \"Icosahedron1002\" # glasser\n",
    "method = \"L2Regression\"\n",
    "dataset_name = \"Fusion\"\n",
    "extension = \"09\"\n",
    "ses_id = \"all\"\n",
    "\n",
    "# get connectivity weight maps for the selected region\n",
    "cii_img = avrg_weight_map(method = method,\n",
    "                    cortex_roi = cortex_roi,\n",
    "                    cerebellum_roi = \"NettekovenSym32\",\n",
    "                    cerebellum_atlas = \"SUIT3\",\n",
    "                    space=\"SUIT\",\n",
    "                    extension = extension,\n",
    "                    dataset_name = dataset_name,\n",
    "                    ses_id = ses_id,\n",
    "                    train_t = 'train', \n",
    "                    type = 'scalar'\n",
    "                    )\n"
   ]
  },
  {
   "cell_type": "code",
   "execution_count": null,
   "metadata": {},
   "outputs": [],
   "source": [
    "roi_name = \"D3R\"\n",
    "view = \"medial\"\n",
    "cmap = \"bwr\"\n",
    "colorbar = False\n",
    "ax = plot_connectivity_weight(cii_img, \n",
    "                             roi_name = roi_name,\n",
    "                             view = view,\n",
    "                             cmap = cmap,\n",
    "                             colorbar = colorbar, \n",
    "                             cscale = [-0.001, 0.001])\n",
    "\n",
    "\n",
    "# setting up cameras to get a better view of the hand area in the lateral view\n",
    "# rotate to get a better view of M1 only on lateral view\n",
    "camera_params = []\n",
    "camera_params.append(dict( #left hemi\n",
    "    center=dict(x=0,y=0,z=0),\n",
    "    eye=dict(x=-1.5, y=0,z=0.9),\n",
    "    up=dict(x=0,y=0,z=1),\n",
    "))\n",
    "camera_params.append(dict( # right hemi\n",
    "    center=dict(x=0,y=0,z=0),\n",
    "    eye=dict(x=1.5, y=0,z=0.9),\n",
    "    up=dict(x=0,y=0,z=1),\n",
    "))\n",
    "h = 0\n",
    "hemis = [\"L\", \"R\"]\n",
    "if view == \"lateral\":\n",
    "    ax[h].update_layout(scene_camera=camera_params[h])\n",
    "ax[h].show()\n",
    "# ax[h].write_image(f\"{roi_name}_{dataset_name}_{ses_id}_{extension}_{method}_avg_conn_weight_{roi_name}_{hemis[h]}_{view}.pdf\")"
   ]
  },
  {
   "cell_type": "code",
   "execution_count": null,
   "metadata": {},
   "outputs": [],
   "source": []
  },
  {
   "cell_type": "code",
   "execution_count": null,
   "metadata": {},
   "outputs": [],
   "source": []
  }
 ],
 "metadata": {
  "kernelspec": {
   "display_name": ".venv",
   "language": "python",
   "name": "python3"
  },
  "language_info": {
   "codemirror_mode": {
    "name": "ipython",
    "version": 3
   },
   "file_extension": ".py",
   "mimetype": "text/x-python",
   "name": "python",
   "nbconvert_exporter": "python",
   "pygments_lexer": "ipython3",
   "version": "3.9.6"
  },
  "orig_nbformat": 4
 },
 "nbformat": 4,
 "nbformat_minor": 2
}
