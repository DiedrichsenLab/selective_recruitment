{
 "cells": [
  {
   "cell_type": "code",
   "execution_count": 1,
   "metadata": {},
   "outputs": [],
   "source": [
    "import sys\n",
    "sys.path.append('../..')\n",
    "sys.path.append('..')\n",
    "from selective_recruitment.plotting import plot_parcels\n",
    "from selective_recruitment.plotting import plot_connectivity_weight\n",
    "from selective_recruitment.plotting import plot_mapwise_recruitment\n",
    "from selective_recruitment.plotting import make_scatterplot\n",
    "from selective_recruitment.scripts import script_get_stats_maps as sgs \n",
    "\n",
    "from selective_recruitment.scripts.script_mapwise import calc_ttest_mean\n",
    "\n",
    "import selective_recruitment.regress as ra\n",
    "import selective_recruitment.globals as gl\n",
    "import selective_recruitment.data as ss\n",
    "import selective_recruitment.region as sroi\n",
    "import selective_recruitment.utils as sutil\n",
    "\n",
    "import Functional_Fusion.atlas_map as am\n",
    "import Functional_Fusion.dataset as ds\n",
    "\n",
    "\n",
    "from statsmodels.stats.anova import AnovaRM  # perform F test\n",
    "import statsmodels\n",
    "from scipy import stats\n",
    "\n",
    "\n",
    "from pathlib import Path\n",
    "import pandas as pd\n",
    "import numpy as np\n",
    "import matplotlib.pyplot as plt\n",
    "import SUITPy.flatmap as flatmap\n",
    "import nitools as nt\n",
    "import nilearn.plotting as plotting\n",
    "from nilearn import datasets # this will be used to plot sulci on top of the surface\n",
    "import matplotlib.colors as colors\n",
    "from matplotlib.colors import LinearSegmentedColormap\n",
    "from nilearn.plotting.cm import _cmap_d as nilearn_cmaps"
   ]
  },
  {
   "cell_type": "code",
   "execution_count": 2,
   "metadata": {},
   "outputs": [],
   "source": [
    "# setting working directory\n",
    "wkdir = 'A:\\data\\Cerebellum\\CerebellumWorkingMemory\\selective_recruit'\n",
    "if not Path(wkdir).exists():\n",
    "    wkdir = '/srv/diedrichsen/data/Cerebellum/CerebellumWorkingMemory/selective_recruit'\n",
    "if not Path(wkdir).exists():\n",
    "    wkdir = '/Users/jdiedrichsen/Data/wm_cerebellum/selective_recruit'\n",
    "if not Path(wkdir).exists():\n",
    "    wkdir = '/Volumes/diedrichsen_data$/data/Cerebellum/CerebellumWorkingMemory/selective_recruit'"
   ]
  },
  {
   "cell_type": "code",
   "execution_count": 3,
   "metadata": {},
   "outputs": [],
   "source": [
    "# setting defaults for plotting and analysis\n",
    "dataset = \"WMFS\"\n",
    "ses_id = \"ses-02\"\n",
    "atlas_suit = \"SUIT3\"\n",
    "atlas_fs = \"fs32k\"\n",
    "# get atlas objects\n",
    "atlas_cereb, atlas_info = am.get_atlas(atlas_str = atlas_suit, atlas_dir = gl.atlas_dir)\n",
    "atlas_cortex, atlas_info = am.get_atlas(atlas_str = atlas_fs, atlas_dir = gl.atlas_dir)"
   ]
  },
  {
   "cell_type": "markdown",
   "metadata": {},
   "source": [
    "# Which Regions from Glasser parcellation show significant activation during the task?"
   ]
  },
  {
   "cell_type": "code",
   "execution_count": 4,
   "metadata": {},
   "outputs": [],
   "source": [
    "# create an instance of the dataset class\n",
    "# cortex = \"Icosahedron1002\"\n",
    "# # cortex = \"Icosahedron1442\"\n",
    "cortex = \"glasser\"\n",
    "# Data = ds.get_dataset_class(base_dir = gl.base_dir, dataset = \"WMFS\")\n",
    "# # create the summary dataframe for glasser parcellation\n",
    "# # get cortical data to be used as input to the connectivity model\n",
    "# X,info,dset = ds.get_dataset(gl.base_dir,\"WMFS\",\n",
    "#                                 atlas=\"fs32k\", # for cortex we always use fs32k\n",
    "#                                 sess=\"ses-02\",\n",
    "#                                 subj=None,\n",
    "#                                 type = \"CondAll\")\n",
    "# cortex_df = ss.get_summary_roi(X, info, \n",
    "#                                     atlas_space = \"fs32k\",\n",
    "#                                     atlas_roi = cortex, \n",
    "#                                     unite_struct = False,\n",
    "#                                     add_rest = True, \n",
    "#                                     var = \"X\")\n",
    "# # save cortex_df as a pandas dataframe\n",
    "# cortex_df.to_csv(Path(wkdir) / f\"{cortex}_df.csv\")\n",
    "cortex_df = pd.read_csv(Path(wkdir) / f\"{cortex}_df.csv\", index_col = 0)"
   ]
  },
  {
   "cell_type": "code",
   "execution_count": 5,
   "metadata": {},
   "outputs": [],
   "source": [
    "# limiting the statistical analysis to the multiple demand network\n",
    "selected_regions = [\"a9-46v\", \"p10p\", \"a10p\", \"11l\", \"a47r\", \n",
    "                    \"p47r\", \"FOP5\", \"AVl\", \"6r\", \"IFJp\", \"8C\", \"p9-46v\", \n",
    "                    \"i6-8\", \"s6-8\", \"AIP\", \"IP2\", \"IP1\", \n",
    "                    \"LIPd\", \"MIP\", \"PGs\", \"PFm\", \"TE1m\", \"TE1p\", \n",
    "                    \"POS2\", \"SCEF\", \"8BM\", \"a32pr\", \"d32\"]\n",
    "\n",
    "# print(len(selected_regions))\n",
    "\n",
    "selected_names = [ f\"{hemi}_{s}_ROI\" for s in selected_regions for hemi in [\"L\", \"R\"]]\n",
    "\n",
    "df = cortex_df.loc[np.isin(cortex_df[\"roi_name\"], selected_names)]\n"
   ]
  },
  {
   "cell_type": "code",
   "execution_count": 6,
   "metadata": {},
   "outputs": [
    {
     "name": "stdout",
     "output_type": "stream",
     "text": [
      "Index(['L_31a_ROI', 'L_31pd_ROI', 'L_31pv_ROI', 'L_47m_ROI', 'L_47s_ROI',\n",
      "       'L_4_ROI', 'L_52_ROI', 'L_55b_ROI', 'L_6a_ROI', 'L_6ma_ROI',\n",
      "       ...\n",
      "       'R_V3_ROI', 'R_V4_ROI', 'R_V4t_ROI', 'R_V8_ROI', 'R_VIP_ROI',\n",
      "       'R_a24_ROI', 'R_d23ab_ROI', 'R_d32_ROI', 'R_p32pr_ROI', 'R_v23ab_ROI'],\n",
      "      dtype='object', name='roi_name', length=101)\n",
      "Index(['L_10d_ROI', 'L_10r_ROI', 'L_1_ROI', 'L_25_ROI', 'L_2_ROI',\n",
      "       'L_31pd_ROI', 'L_31pv_ROI', 'L_47m_ROI', 'L_4_ROI', 'L_6a_ROI',\n",
      "       ...\n",
      "       'R_V3_ROI', 'R_V4_ROI', 'R_V4t_ROI', 'R_V8_ROI', 'R_VIP_ROI',\n",
      "       'R_VVC_ROI', 'R_a24pr_ROI', 'R_d23ab_ROI', 'R_p32pr_ROI', 'R_s32_ROI'],\n",
      "      dtype='object', name='roi_name', length=108)\n"
     ]
    }
   ],
   "source": [
    "# get inflated cortical surfaces\n",
    "surfs = [gl.atlas_dir + f'/tpl-fs32k/tpl_fs32k_hemi-{h}_inflated.surf.gii' for i, h in enumerate(['L', 'R'])]\n",
    "# plot tstat for encoding\n",
    "surf_map_enc, sigs_enc = sgs.surf_stat(cortex_df, \n",
    "                      phase = 0, \n",
    "                      values = \"X\",\n",
    "                      positive = True,\n",
    "                      mult_comp = \"hs\",\n",
    "                      cortex_roi = cortex, \n",
    "                      alpha = 0.01, \n",
    "                      corrected_map = False)\n",
    "\n",
    "\n",
    "# plot tstat for retrieval\n",
    "surf_map_ret, sigs_ret = sgs.surf_stat(cortex_df, \n",
    "                      phase = 1, \n",
    "                      values = \"X\",\n",
    "                      positive = True,\n",
    "                      mult_comp = \"hs\",\n",
    "                      cortex_roi = cortex, \n",
    "                      alpha = 0.01, \n",
    "                      corrected_map = False)"
   ]
  },
  {
   "cell_type": "code",
   "execution_count": 24,
   "metadata": {},
   "outputs": [
    {
     "name": "stdout",
     "output_type": "stream",
     "text": [
      "view lateral hemi left\n",
      "working_memory_stat_mult_comp_enc_left_lateral.pdf\n",
      "view medial hemi left\n",
      "working_memory_stat_mult_comp_enc_left_medial.pdf\n",
      "view anterior hemi left\n",
      "working_memory_stat_mult_comp_enc_left_anterior.pdf\n",
      "view posterior hemi left\n",
      "working_memory_stat_mult_comp_enc_left_posterior.pdf\n",
      "view ventral hemi left\n",
      "working_memory_stat_mult_comp_enc_left_ventral.pdf\n",
      "view dorsal hemi left\n",
      "working_memory_stat_mult_comp_enc_left_dorsal.pdf\n",
      "view lateral hemi right\n",
      "working_memory_stat_mult_comp_enc_right_lateral.pdf\n",
      "view medial hemi right\n",
      "working_memory_stat_mult_comp_enc_right_medial.pdf\n",
      "view anterior hemi right\n",
      "working_memory_stat_mult_comp_enc_right_anterior.pdf\n",
      "view posterior hemi right\n",
      "working_memory_stat_mult_comp_enc_right_posterior.pdf\n",
      "view ventral hemi right\n",
      "working_memory_stat_mult_comp_enc_right_ventral.pdf\n",
      "view dorsal hemi right\n",
      "working_memory_stat_mult_comp_enc_right_dorsal.pdf\n"
     ]
    }
   ],
   "source": [
    "# plot \n",
    "cmap = \"cold_hot\"\n",
    "colorbar = False\n",
    "stat_enc_fig = []\n",
    "stat_ret_fig = []\n",
    "\n",
    "# views   \n",
    "for h,hemi in enumerate(['left', 'right']):\n",
    "    \n",
    "    for v in ['lateral', 'medial', 'anterior', 'posterior', 'ventral', 'dorsal']:\n",
    "    \n",
    "        print(f\"view {v} hemi {hemi}\")\n",
    "        fig_enc = plotting.plot_surf_stat_map(\n",
    "                            surfs[h], surf_map_enc[h], hemi=hemi,\n",
    "                            colorbar=colorbar, \n",
    "                            view = v,\n",
    "                            cmap=cmap,\n",
    "                            engine='plotly',\n",
    "                            symmetric_cbar = False,\n",
    "                            vmax = 13, \n",
    "                            threshold = 5,\n",
    "                        ).figure\n",
    "        \n",
    "        fig_ret = plotting.plot_surf_stat_map(\n",
    "                            surfs[h], surf_map_ret[h], hemi=hemi,\n",
    "                            colorbar=colorbar, \n",
    "                            view = v,\n",
    "                            cmap=cmap,\n",
    "                            engine='plotly',\n",
    "                            symmetric_cbar = False,\n",
    "                            vmax = 13, \n",
    "                            threshold = 5,\n",
    "                        ).figure\n",
    "        print(f\"working_memory_stat_mult_comp_enc_{hemi}_{v}.pdf\")\n",
    "        fig_enc.write_image(f\"working_memory_stat_mult_comp_enc_{hemi}_{v}.pdf\")\n",
    "        fig_ret.write_image(f\"working_memory_stat_mult_comp_ret_{hemi}_{v}.pdf\")"
   ]
  },
  {
   "cell_type": "markdown",
   "metadata": {},
   "source": [
    "# Which Regions from hierarchical parcellation show significant activation during the task?"
   ]
  },
  {
   "cell_type": "code",
   "execution_count": null,
   "metadata": {},
   "outputs": [],
   "source": [
    "# # create an instance of the dataset class\n",
    "# Data = ds.get_dataset_class(base_dir = gl.base_dir, dataset = \"WMFS\")\n",
    "# # create the summary dataframe for glasser parcellation\n",
    "# # get cortical data to be used as input to the connectivity model\n",
    "# Y,info,dset = ds.get_dataset(gl.base_dir,\"WMFS\",\n",
    "#                                 atlas=\"SUIT3\", # for cortex we always use fs32k\n",
    "#                                 sess=\"ses-02\",\n",
    "#                                 subj=None,\n",
    "#                                 type = \"CondAll\")\n",
    "# cereb1_df = ss.get_summary_roi(Y, info, \n",
    "#                                     atlas_space = \"SUIT3\",\n",
    "#                                     atlas_roi = \"NettekovenSym32integLRAP\", \n",
    "#                                     unite_struct = False,\n",
    "#                                     add_rest = True, \n",
    "#                                     var = \"Y\")\n",
    "\n",
    "# # cereb2_df = ss.get_summary_roi(Y, info, \n",
    "# #                                     atlas_space = \"SUIT3\",\n",
    "# #                                     atlas_roi = \"NettekovenSym32AP\", \n",
    "# #                                     unite_struct = False,\n",
    "# #                                     add_rest = True, \n",
    "# #                                     var = \"Y\")\n",
    "\n",
    "# # # save cortex_df as a pandas dataframe\n",
    "# cereb1_df.to_csv(Path(wkdir) / \"NettekovenSym32integLRAP_df.csv\")\n",
    "\n",
    "# # save cortex_df as a pandas dataframe\n",
    "# cereb2_df.to_csv(Path(wkdir) / \"NettekovenSym32AP_df.csv\")\n",
    "\n",
    "cereb1_df = pd.read_csv(Path(wkdir) / \"NettekovenSym32integLRAP_df.csv\", index_col = 0)\n",
    "# cereb2_df = pd.read_csv(Path(wkdir) / \"NettekovenSym32AP_df.csv\", index_col = 0)"
   ]
  },
  {
   "cell_type": "code",
   "execution_count": null,
   "metadata": {},
   "outputs": [],
   "source": [
    "# get dataframe corresponding to regions whose name starts with \"D\n",
    "dd = cereb1_df[cereb1_df[\"roi_name\"].str.startswith(\"I\")]\n",
    "dd.roi_name.unique()"
   ]
  },
  {
   "cell_type": "code",
   "execution_count": null,
   "metadata": {},
   "outputs": [],
   "source": [
    "\n",
    "flat_enc = sgs.flatmap_stat(cereb1_df, \n",
    "             phase = 0, \n",
    "             values = \"Y\",\n",
    "             mult_comp = \"hs\",\n",
    "             alpha = 0.01)\n",
    "print(flat_enc)\n",
    "\n",
    "# # flat_enc\n",
    "# enc_fig = flatmap.plot(data=flat_enc, \n",
    "#                             render=\"plotly\", \n",
    "#                             overlay_type=\"func\",\n",
    "#                             hover='auto', \n",
    "#                             cmap = cmap, \n",
    "#                             colorbar = False, \n",
    "#                             bordersize = 1.5,\n",
    "#                             bordercolor = \"black\",  \n",
    "#                             cscale=[2, 7]\n",
    "#                             )\n",
    "\n",
    "# enc_fig.show()"
   ]
  },
  {
   "cell_type": "code",
   "execution_count": null,
   "metadata": {},
   "outputs": [],
   "source": []
  }
 ],
 "metadata": {
  "kernelspec": {
   "display_name": ".venv",
   "language": "python",
   "name": "python3"
  },
  "language_info": {
   "codemirror_mode": {
    "name": "ipython",
    "version": 3
   },
   "file_extension": ".py",
   "mimetype": "text/x-python",
   "name": "python",
   "nbconvert_exporter": "python",
   "pygments_lexer": "ipython3",
   "version": "3.10.11"
  },
  "orig_nbformat": 4
 },
 "nbformat": 4,
 "nbformat_minor": 2
}
