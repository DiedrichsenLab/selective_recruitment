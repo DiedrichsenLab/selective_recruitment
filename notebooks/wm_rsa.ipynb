{
 "cells": [
  {
   "attachments": {},
   "cell_type": "markdown",
   "metadata": {},
   "source": [
    "# Working memory dataset: Looking at pattern differences"
   ]
  },
  {
   "cell_type": "code",
   "execution_count": 1,
   "metadata": {},
   "outputs": [],
   "source": [
    "import sys\n",
    "\n",
    "import numpy as np\n",
    "import pandas as pd\n",
    "from pathlib import Path\n",
    "import os\n",
    "import nibabel as nb\n",
    "import nitools as nt\n",
    "import PcmPy as pcm\n",
    "import seaborn as sb\n",
    "import matplotlib.pyplot as plt\n",
    "\n",
    "import Functional_Fusion.atlas_map as am\n",
    "import Functional_Fusion.dataset as ds\n",
    "\n",
    "import selective_recruitment.rsa as srsa\n",
    "import selective_recruitment.recruite_ana as sr\n",
    "import selective_recruitment.scripts.script_rsa as ssrsa\n",
    "import rsatoolbox as rsa"
   ]
  },
  {
   "cell_type": "code",
   "execution_count": null,
   "metadata": {},
   "outputs": [],
   "source": [
    "base_dir = '/Volumes/diedrichsen_data$/data/FunctionalFusion'\n",
    "if not Path(base_dir).exists():\n",
    "    base_dir = '/srv/diedrichsen/data/FunctionalFusion'\n",
    "atlas_dir = base_dir + '/Atlases'\n"
   ]
  },
  {
   "cell_type": "markdown",
   "metadata": {},
   "source": [
    "<font color = 'grey'>Defining functions specific to this dataset"
   ]
  },
  {
   "cell_type": "code",
   "execution_count": null,
   "metadata": {},
   "outputs": [],
   "source": [
    "DCereb, info, dataset = ds.get_dataset(base_dir,\n",
    "                                            'WMFS',\n",
    "                                            atlas='MNISymC3',\n",
    "                                            sess='ses-02',\n",
    "                                            type='CondRun')\n",
    "G1,Ginf = srsa.calc_rsa(DCereb,info,center=True,reorder=['phase','recall'])\n",
    "\n",
    "DCortex, info, dataset = ds.get_dataset(base_dir,\n",
    "                                            'WMFS',\n",
    "                                            atlas='fs32k',\n",
    "                                            sess='ses-02',\n",
    "                                            type='CondRun')\n",
    "G2,Ginf  = srsa.calc_rsa(DCortex,info,center=True,reorder=['phase','recall'])\n"
   ]
  },
  {
   "attachments": {},
   "cell_type": "markdown",
   "metadata": {},
   "source": [
    "### Cerebellar RSA "
   ]
  },
  {
   "cell_type": "code",
   "execution_count": null,
   "metadata": {},
   "outputs": [],
   "source": [
    "plt.figure(figsize=(10,10))\n",
    "pcm.vis.plot_Gs(G1)"
   ]
  },
  {
   "cell_type": "code",
   "execution_count": null,
   "metadata": {},
   "outputs": [],
   "source": [
    "G, Ginf = ssrsa.cereb_parcel_rsa(label = \"NettekovenSym68c32integLR\", \n",
    "                                atlas_space = \"SUIT3\", \n",
    "                                subj = None,\n",
    "                                type = \"CondRun\", \n",
    "                                label_name = \"DR\", \n",
    "                                reorder = [\"phase\", \"recall\"]\n",
    "                                )\n",
    "plt.figure(figsize=(10,10))\n",
    "pcm.vis.plot_Gs(G)"
   ]
  },
  {
   "cell_type": "code",
   "execution_count": null,
   "metadata": {},
   "outputs": [],
   "source": [
    "mG = G.mean(axis=0)\n",
    "plt.imshow(mG)"
   ]
  },
  {
   "attachments": {},
   "cell_type": "markdown",
   "metadata": {},
   "source": [
    "### Cortical RSA"
   ]
  },
  {
   "cell_type": "code",
   "execution_count": null,
   "metadata": {},
   "outputs": [],
   "source": [
    "plt.figure(figsize=(10,10))\n",
    "pcm.vis.plot_Gs(G2)\n"
   ]
  },
  {
   "attachments": {},
   "cell_type": "markdown",
   "metadata": {},
   "source": [
    "## Average cortical and cerebellar RSA"
   ]
  },
  {
   "cell_type": "code",
   "execution_count": null,
   "metadata": {},
   "outputs": [],
   "source": [
    "mG1 = G1.mean(axis=0)\n",
    "mG2 = G2.mean(axis=0)\n",
    "mG=np.stack([mG1,mG2])\n",
    "pcm.vis.plot_Gs(mG,grid=(1,2))"
   ]
  },
  {
   "cell_type": "markdown",
   "metadata": {},
   "source": [
    "# per region using rsa toolbox\n"
   ]
  },
  {
   "cell_type": "code",
   "execution_count": 3,
   "metadata": {},
   "outputs": [
    {
     "name": "stderr",
     "output_type": "stream",
     "text": [
      "<__array_function__ internals>:200: RuntimeWarning: invalid value encountered in cast\n"
     ]
    },
    {
     "data": {
      "text/plain": [
       "(<Figure size 800x800 with 16 Axes>,\n",
       " array([[<AxesSubplot: >, <AxesSubplot: >, <AxesSubplot: >,\n",
       "         <AxesSubplot: >],\n",
       "        [<AxesSubplot: >, <AxesSubplot: >, <AxesSubplot: >,\n",
       "         <AxesSubplot: >],\n",
       "        [<AxesSubplot: >, <AxesSubplot: >, <AxesSubplot: >,\n",
       "         <AxesSubplot: >],\n",
       "        [<AxesSubplot: >, <AxesSubplot: >, <AxesSubplot: >,\n",
       "         <AxesSubplot: >]], dtype=object),\n",
       " defaultdict(dict,\n",
       "             {<AxesSubplot: >: {'image': <matplotlib.image.AxesImage at 0x7f26b1d3b3a0>},\n",
       "              <AxesSubplot: >: {'image': <matplotlib.image.AxesImage at 0x7f26b19b28b0>},\n",
       "              <AxesSubplot: >: {'image': <matplotlib.image.AxesImage at 0x7f26b1d63250>},\n",
       "              <AxesSubplot: >: {'image': <matplotlib.image.AxesImage at 0x7f26b1f2dbb0>},\n",
       "              <AxesSubplot: >: {'image': <matplotlib.image.AxesImage at 0x7f26b1cf05e0>},\n",
       "              <AxesSubplot: >: {'image': <matplotlib.image.AxesImage at 0x7f26b1ebf6a0>},\n",
       "              <AxesSubplot: >: {'image': <matplotlib.image.AxesImage at 0x7f26b1def040>},\n",
       "              <AxesSubplot: >: {'image': <matplotlib.image.AxesImage at 0x7f26b190f9a0>},\n",
       "              <AxesSubplot: >: {'image': <matplotlib.image.AxesImage at 0x7f26b19a0fa0>},\n",
       "              <AxesSubplot: >: {'image': <matplotlib.image.AxesImage at 0x7f26b1d93b80>},\n",
       "              <AxesSubplot: >: {'image': <matplotlib.image.AxesImage at 0x7f26b19f7970>},\n",
       "              <AxesSubplot: >: {'image': <matplotlib.image.AxesImage at 0x7f26b1e71790>},\n",
       "              <AxesSubplot: >: {'image': <matplotlib.image.AxesImage at 0x7f26b1f68d00>},\n",
       "              <AxesSubplot: >: {'image': <matplotlib.image.AxesImage at 0x7f26b24020a0>},\n",
       "              <AxesSubplot: >: {'image': <matplotlib.image.AxesImage at 0x7f26b24d80a0>},\n",
       "              <AxesSubplot: >: {'image': <matplotlib.image.AxesImage at 0x7f26b1e428e0>}}))"
      ]
     },
     "execution_count": 3,
     "metadata": {},
     "output_type": "execute_result"
    }
   ],
   "source": [
    "model_rdms_ = ssrsa.cereb_parcel_rdm(label = \"NettekovenSym68c32\", \n",
    "                                    atlas_space = \"SUIT3\", \n",
    "                                    subj = None,\n",
    "                                    type = \"CondRun\", \n",
    "                                    label_name = \"D3R\", \n",
    "                                    reorder = [\"phase\", \"recall\"]\n",
    "                                    )\n",
    "\n",
    "model_rdms_"
   ]
  },
  {
   "cell_type": "code",
   "execution_count": null,
   "metadata": {},
   "outputs": [],
   "source": []
  }
 ],
 "metadata": {
  "kernelspec": {
   "display_name": "base",
   "language": "python",
   "name": "python3"
  },
  "language_info": {
   "codemirror_mode": {
    "name": "ipython",
    "version": 3
   },
   "file_extension": ".py",
   "mimetype": "text/x-python",
   "name": "python",
   "nbconvert_exporter": "python",
   "pygments_lexer": "ipython3",
   "version": "3.9.5"
  },
  "orig_nbformat": 4,
  "vscode": {
   "interpreter": {
    "hash": "82c9595c6ac3df5bed1366f4aa85323e4ec1b3448185f6be6e163d2b6e222f49"
   }
  }
 },
 "nbformat": 4,
 "nbformat_minor": 2
}
