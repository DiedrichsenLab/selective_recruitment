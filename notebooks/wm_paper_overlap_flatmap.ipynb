{
 "cells": [
  {
   "cell_type": "code",
   "execution_count": null,
   "metadata": {},
   "outputs": [],
   "source": [
    "import matplotlib\n",
    "# %matplotlib inline\n",
    "import os\n",
    "import numpy as np\n",
    "import seaborn as sns # for plots\n",
    "import pandas as pd\n",
    "import matplotlib.pyplot as plt\n",
    "\n",
    "import SUITPy as suit\n",
    "import surfAnalysisPy as sa\n",
    "import nibabel as nb\n",
    "import nitools as nt\n",
    "\n",
    "import Functional_Fusion.dataset as fdata\n",
    "import Functional_Fusion.atlas_map as am\n",
    "\n",
    "import selective_recruitment.plotting as splotting\n",
    "import selective_recruitment.scripts.script_overlap_map_wm as soverlap\n",
    "import selective_recruitment.plotting as splotting\n",
    "import selective_recruitment.globals as gl\n",
    "\n",
    "from statsmodels.stats.anova import AnovaRM # perform F test\n",
    "from matplotlib.colors import LinearSegmentedColormap\n",
    "from nilearn import plotting\n",
    "from pathlib import Path"
   ]
  },
  {
   "cell_type": "markdown",
   "metadata": {},
   "source": [
    "## overlap between encoding and retrieval\n",
    "* red - > encoding contrast\n",
    "* blue -> retrieval contrast\n",
    "* purple -> overlap\n"
   ]
  },
  {
   "cell_type": "markdown",
   "metadata": {},
   "source": [
    "### cerebellum"
   ]
  },
  {
   "cell_type": "code",
   "execution_count": null,
   "metadata": {},
   "outputs": [],
   "source": [
    "# get the contrast\n",
    "enc_data, ret_data = soverlap.get_enc_ret_contrast(subj = \"group\", \n",
    "                                         smooth = 3, \n",
    "                                         recall_dir=None, \n",
    "                                         atlas_space = \"SUIT3\",\n",
    "                                         type = \"CondAll\", \n",
    "                                         ses_id = \"ses-02\")\n",
    "\n",
    "# prepare for rgb map\n",
    "data_rgb0 =np.c_[enc_data[0].T,\n",
    "                np.zeros(enc_data[0].T.shape),\n",
    "                ret_data[0].T].T # Leave the green gun empty \n",
    "\n",
    "\n",
    "# plot on flatmap\n",
    "ax0 = soverlap.plot_rgb_map(data_rgb0, \n",
    "                            atlas_space = \"SUIT3\", \n",
    "                            scale = [0.1, 1, 0.1], \n",
    "                            threshold = [0.08, 1, 0.08])"
   ]
  },
  {
   "cell_type": "markdown",
   "metadata": {},
   "source": [
    "### cortex\n"
   ]
  },
  {
   "cell_type": "code",
   "execution_count": null,
   "metadata": {},
   "outputs": [],
   "source": [
    "# get the contrast\n",
    "enc_data, ret_data = soverlap.get_enc_ret_contrast(subj = \"group\", \n",
    "                                         smooth = 3, \n",
    "                                         recall_dir=None, \n",
    "                                         atlas_space = \"fs32k\",\n",
    "                                         type = \"CondAll\", \n",
    "                                         ses_id = \"ses-02\")\n",
    "# prepare for rgb map\n",
    "data_rgb1 =np.c_[enc_data[0, :, :].T,\n",
    "            np.zeros(enc_data[0, :, :].T.shape),\n",
    "            ret_data[0, :, :].T].T # Leave the green gun empty \n",
    "# plot on flatmap\n",
    "ax1 = soverlap.plot_rgb_map(data_rgb1, \n",
    "                            atlas_space = \"fs32k\", \n",
    "                            scale = [0.1, 1, 0.1], \n",
    "                            threshold = [0.08, 1, 0.08])"
   ]
  },
  {
   "cell_type": "markdown",
   "metadata": {},
   "source": [
    "## overlap between load and recall direction effect\n",
    "* recall direction - > red\n",
    "* load -> blue\n",
    "* overlap -> purple"
   ]
  },
  {
   "cell_type": "markdown",
   "metadata": {},
   "source": [
    "## encoding in cerebellum"
   ]
  },
  {
   "cell_type": "code",
   "execution_count": null,
   "metadata": {},
   "outputs": [],
   "source": [
    "dir_data, load_data = soverlap.get_load_dir_contrast(subj = \"group\", \n",
    "                                            smooth = 3,\n",
    "                                            atlas_space = \"SUIT3\", \n",
    "                                            type = \"CondAll\", \n",
    "                                            phase = 0, \n",
    "                                            ses_id = \"ses-02\")\n",
    "\n",
    "# prepare for rgb map\n",
    "data_rgb2 =np.c_[dir_data[0, :, :].T,\n",
    "            np.zeros(dir_data[0, :, :].T.shape),\n",
    "            load_data[0, :, :].T].T # Leave the green gun empty \n",
    "\n",
    "ax2 = soverlap.plot_rgb_map(data_rgb2, \n",
    "                            atlas_space = \"SUIT3\", \n",
    "                            scale = [0.1, 1, 0.1], \n",
    "                            threshold = [0.02, 1, 0.04])"
   ]
  },
  {
   "cell_type": "markdown",
   "metadata": {},
   "source": [
    "### encoding in cortex"
   ]
  },
  {
   "cell_type": "code",
   "execution_count": null,
   "metadata": {},
   "outputs": [],
   "source": [
    "dir_data, load_data = soverlap.get_load_dir_contrast(subj = \"group\", \n",
    "                                            smooth = 3,\n",
    "                                            atlas_space = \"fs32k\", \n",
    "                                            type = \"CondAll\", \n",
    "                                            phase = 0, \n",
    "                                            ses_id = \"ses-02\")\n",
    "\n",
    "# prepare for rgb map\n",
    "data_rgb3 =np.c_[dir_data[0, :, :].T,\n",
    "            np.zeros(dir_data[0, :, :].T.shape),\n",
    "            load_data[0, :, :].T].T # Leave the green gun empty \n",
    "\n",
    "ax3 = soverlap.plot_rgb_map(data_rgb3, \n",
    "                            atlas_space = \"fs32k\", \n",
    "                            scale = [0.1, 1, 0.1], \n",
    "                            threshold = [0.02, 1, 0.04])"
   ]
  },
  {
   "cell_type": "markdown",
   "metadata": {},
   "source": [
    "### retrieval in cerebellum "
   ]
  },
  {
   "cell_type": "code",
   "execution_count": null,
   "metadata": {},
   "outputs": [],
   "source": [
    "dir_data, load_data = soverlap.get_load_dir_contrast(subj = \"group\", \n",
    "                                            smooth = 3,\n",
    "                                            atlas_space = \"SUIT3\", \n",
    "                                            type = \"CondAll\", \n",
    "                                            phase = 1, \n",
    "                                            ses_id = \"ses-02\")\n",
    "# prepare for rgb map\n",
    "data_rgb4 =np.c_[dir_data[0, :, :].T,\n",
    "            np.zeros(dir_data[0, :, :].T.shape),\n",
    "            load_data[0, :, :].T].T # Leave the green gun empty \n",
    "\n",
    "ax4 = soverlap.plot_rgb_map(data_rgb4, \n",
    "                            atlas_space = \"SUIT3\", \n",
    "                            scale = [0.1, 1, 0.1], \n",
    "                            threshold = [0.02, 1, 0.02])"
   ]
  },
  {
   "cell_type": "markdown",
   "metadata": {},
   "source": [
    "### retrieval in cortex "
   ]
  },
  {
   "cell_type": "code",
   "execution_count": null,
   "metadata": {},
   "outputs": [],
   "source": [
    "dir_data, load_data = soverlap.get_load_dir_contrast(subj = \"group\", \n",
    "                                            smooth = 3,\n",
    "                                            atlas_space = \"fs32k\", \n",
    "                                            type = \"CondAll\", \n",
    "                                            phase = 1, \n",
    "                                            ses_id = \"ses-02\")\n",
    "# prepare for rgb map\n",
    "data_rgb5 =np.c_[dir_data[0, :, :].T,\n",
    "            np.zeros(dir_data[0, :, :].T.shape),\n",
    "            load_data[0, :, :].T].T # Leave the green gun empty \n",
    "\n",
    "ax5 = soverlap.plot_rgb_map(data_rgb5, \n",
    "                            atlas_space = \"fs32k\", \n",
    "                            scale = [0.1, 1, 0.1], \n",
    "                            threshold = [0.02, 1, 0.02])"
   ]
  },
  {
   "cell_type": "markdown",
   "metadata": {},
   "source": [
    "## enc and retrieval overlap in different recall direction"
   ]
  },
  {
   "cell_type": "markdown",
   "metadata": {},
   "source": [
    "### in backwards conditions cerebellum"
   ]
  },
  {
   "cell_type": "code",
   "execution_count": null,
   "metadata": {},
   "outputs": [],
   "source": [
    "enc_data, ret_data = soverlap.get_enc_ret_contrast(subj = \"group\", \n",
    "                            smooth = 3, \n",
    "                            atlas_space = \"SUIT3\",\n",
    "                            type = \"CondAll\",\n",
    "                            recall_dir = 0,  \n",
    "                            ses_id = \"ses-02\")\n",
    "\n",
    "# prepare for rgb map\n",
    "data_rgb6 =np.c_[enc_data[0].T,\n",
    "            np.zeros(enc_data[0].T.shape),\n",
    "            ret_data[0].T].T # Leave the green gun empty \n",
    "\n",
    "ax6 = soverlap.plot_rgb_map(data_rgb6, \n",
    "                            atlas_space = \"SUIT3\", \n",
    "                            scale = [0.1, 1, 0.1], \n",
    "                            threshold = [0.08, 1, 0.08])"
   ]
  },
  {
   "cell_type": "markdown",
   "metadata": {},
   "source": [
    "### in backwards condition cortex"
   ]
  },
  {
   "cell_type": "code",
   "execution_count": null,
   "metadata": {},
   "outputs": [],
   "source": [
    "enc_data, ret_data = soverlap.get_enc_ret_contrast(subj = \"group\", \n",
    "                                            smooth = 3,\n",
    "                                            atlas_space = \"fs32k\", \n",
    "                                            type = \"CondAll\", \n",
    "                                            recall_dir = 1, \n",
    "                                            ses_id = \"ses-02\")\n",
    "# prepare for rgb map\n",
    "data_rgb7 =np.c_[enc_data[0].T,\n",
    "            np.zeros(enc_data[0].T.shape),\n",
    "            ret_data[0].T].T # Leave the green gun empty \n",
    "ax7 = soverlap.plot_rgb_map(data_rgb7, \n",
    "                            atlas_space = \"fs32k\", \n",
    "                            scale = [0.1, 1, 0.1], \n",
    "                            threshold = [0.02, 1, 0.02])"
   ]
  },
  {
   "cell_type": "markdown",
   "metadata": {},
   "source": [
    "### in forwards conditions cerebellum"
   ]
  },
  {
   "cell_type": "code",
   "execution_count": null,
   "metadata": {},
   "outputs": [],
   "source": [
    "enc_data, ret_data = soverlap.get_enc_ret_dir_contrast(subj = \"group\", \n",
    "                            smooth = 3, \n",
    "                            atlas_space = \"SUIT3\",\n",
    "                            type = \"CondAll\",\n",
    "                            dir = 1,  \n",
    "                            ses_id = \"ses-02\")\n",
    "# prepare for rgb map\n",
    "data_rgb8 =np.c_[enc_data[0, :, :].T,\n",
    "            np.zeros(enc_data[0, :, :].T.shape),\n",
    "            ret_data[0, :, :].T].T # Leave the green gun empty \n",
    "ax8 = soverlap.plot_rgb_map(data_rgb8, \n",
    "                            atlas_space = \"SUIT3\", \n",
    "                            scale = [0.1, 1, 0.1], \n",
    "                            threshold = [0.08, 1, 0.08])"
   ]
  },
  {
   "cell_type": "markdown",
   "metadata": {},
   "source": [
    "### in forwardss conditions cortex"
   ]
  },
  {
   "cell_type": "code",
   "execution_count": null,
   "metadata": {},
   "outputs": [],
   "source": [
    "enc_data, ret_data = soverlap.get_enc_ret_dir_contrast(subj = \"group\", \n",
    "                            smooth = 3, \n",
    "                            atlas_space = \"fs32k\",\n",
    "                            type = \"CondAll\",\n",
    "                            dir = 1,  \n",
    "                            ses_id = \"ses-02\")\n",
    "\n",
    "# prepare for rgb map\n",
    "data_rgb9 =np.c_[enc_data[0, :, :].T,\n",
    "            np.zeros(enc_data[0, :, :].T.shape),\n",
    "            ret_data[0, :, :].T].T # Leave the green gun empty \n",
    "\n",
    "ax9 = soverlap.plot_rgb_map(data_rgb9, \n",
    "                            atlas_space = \"fs32k\", \n",
    "                            scale = [0.1, 1, 0.1], \n",
    "                            threshold = [0.08, 1, 0.08])"
   ]
  },
  {
   "cell_type": "code",
   "execution_count": null,
   "metadata": {},
   "outputs": [],
   "source": []
  },
  {
   "cell_type": "code",
   "execution_count": null,
   "metadata": {},
   "outputs": [],
   "source": []
  }
 ],
 "metadata": {
  "interpreter": {
   "hash": "ef7a7f72e468bca1612bb4ef599a29241fe0173a5a59e4e8770af0d9bad1445f"
  },
  "kernelspec": {
   "display_name": "Python 3.9.5 ('env': venv)",
   "language": "python",
   "name": "python3"
  },
  "language_info": {
   "codemirror_mode": {
    "name": "ipython",
    "version": 3
   },
   "file_extension": ".py",
   "mimetype": "text/x-python",
   "name": "python",
   "nbconvert_exporter": "python",
   "pygments_lexer": "ipython3",
   "version": "3.9.5"
  },
  "orig_nbformat": 4
 },
 "nbformat": 4,
 "nbformat_minor": 2
}
