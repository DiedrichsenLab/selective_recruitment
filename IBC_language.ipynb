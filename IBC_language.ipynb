{
 "cells": [
  {
   "cell_type": "code",
   "execution_count": 1,
   "metadata": {},
   "outputs": [],
   "source": [
    "import os\n",
    "import numpy as np\n",
    "import seaborn as sns # for plots\n",
    "import pandas as pd\n",
    "from pathlib import Path\n",
    "import matplotlib.pyplot as plt\n",
    "from scipy import stats as sps # to calcualte confidence intervals, etc\n",
    "from adjustText import adjust_text # to adjust the text labels in the plots (pip install adjustText)\n",
    "from scipy.stats import ttest_rel, f_oneway,ttest_1samp\n",
    "from dataset import *\n",
    "\n",
    "from statsmodels.stats.anova import AnovaRM # perform F test"
   ]
  },
  {
   "cell_type": "code",
   "execution_count": 2,
   "metadata": {},
   "outputs": [],
   "source": [
    "# setting directories\n",
    "base_dir = '/Volumes/diedrichsen_data$/data/FunctionalFusion'\n",
    "if not Path(base_dir).exists():\n",
    "    base_dir = '/srv/diedrichsen/data/FunctionalFusion'\n",
    "if not Path(base_dir).exists():\n",
    "    base_dir = '/cifs/diedrichsen/data/FunctionalFusion'\n",
    "atlas_dir = base_dir + '/Atlases'\n",
    "\n",
    "\n",
    "language_dir = '/srv/diedrichsen/data/Cerebellum/Language'\n",
    "if not Path(language_dir).exists():\n",
    "    language_dir = '/cifs/diedrichsen/data/Cerebellum/Language'\n",
    "if not Path(language_dir).exists:\n",
    "    language_dir = '/Volumes/diedrichsen_data$/data/Cerebellum/Language'"
   ]
  },
  {
   "cell_type": "code",
   "execution_count": 3,
   "metadata": {},
   "outputs": [],
   "source": [
    "# Functions\n",
    "# prepare dataframe for plotting\n",
    "def prep_df(dataframe, agg_kw = {}, groupby = \"cond_name\"):\n",
    "    \"\"\"\n",
    "    prepare the region dataframe to do the scatter plot\n",
    "    gets the mean across subjects (data point) and std of residuals\n",
    "    Args:\n",
    "        dataframe (pd.DataFrame) - dataframe with residuals info \n",
    "        agg_kw (dict) - dictionary determining info for dataframe aggregation\n",
    "\n",
    "    Returns:\n",
    "    g_df (pd.DataFrame) - dataframe ready for putting into the scatterplot function\n",
    "    \"\"\"\n",
    "    # group by condition\n",
    "    grouped = dataframe.groupby([groupby])\n",
    "    g_df = grouped.agg(agg_kw)\n",
    "    \n",
    "    g_std = grouped.std(numeric_only=True)\n",
    "    g_df[\"Y_CI\"] = grouped.Y.apply(sps.sem) * 1.96\n",
    "    g_df[\"X_CI\"] = grouped.X.apply(sps.sem)*1.96\n",
    "    g_df['err'] = g_std['res']\n",
    "    \n",
    "    return g_df\n",
    "\n",
    "\n",
    "# plotting:\n",
    "def make_plot(dataframe, hue = \"cond_name\", style = \"cond_name\", height = 4, aspect = 1):\n",
    "    \"\"\"\n",
    "    make scatterplot\n",
    "    uses FacetGrid \n",
    "    Args: \n",
    "    dataframe (pd.DataFrame) - output from prep_df\n",
    "    hue (str)      - column name to be used to determine color\n",
    "    style (str)    - column name to be used to determine shape of the marker\n",
    "    label (str)    - column name to be used to determine the label of the data points\n",
    "    height (int)   - int to determine the height of the plot\n",
    "    aspect (float) - floating number to determine the aspect ratio of the plot\n",
    "    \"\"\"\n",
    "    g = sns.FacetGrid(dataframe,  height=height, aspect=aspect)\n",
    "    # do the scatter plot\n",
    "    g.map_dataframe(sns.scatterplot, x=\"X\", y=\"Y\", \n",
    "                                    style = style, hue = hue, s = 50)\n",
    "    g.add_legend()\n",
    "\n",
    "    # fit the regression on top of the scatterplot\n",
    "    g.map_dataframe(sns.regplot, x=\"X\", y=\"Y\", \n",
    "                        fit_reg=True, \n",
    "                        scatter_kws={\"s\": 0}, # size is set to 0 so that it doesn't cover the markers created in the scatterplot step \n",
    "                        line_kws={'label':\"Linear Reg\", \"color\": 'grey'})\n",
    "\n",
    "    # put the errorbars in \n",
    "    g.map(plt.errorbar, x = df_preped['X'], \n",
    "                        y = df_preped['Y'], \n",
    "                        yerr = df_preped['err'],\n",
    "                        elinewidth=1, \n",
    "                        fmt='none', # no marker will be used when plotting the error bars\n",
    "                        color='grey', \n",
    "                        ecolor='0.9'\n",
    "                )\n",
    "    # set labels\n",
    "    g.set_xlabels('Cortical Activation (a.u.)')\n",
    "    g.set_ylabels('Cerebellar Activation (a.u.)')\n"
   ]
  },
  {
   "cell_type": "code",
   "execution_count": 27,
   "metadata": {},
   "outputs": [
    {
     "name": "stdout",
     "output_type": "stream",
     "text": [
      "        sn         cond_name  cond_num_uni  n_rep  Unnamed: 0  reg_id  \\\n",
      "0   sub-01  complex_sentence         190.0    1.0        31.5     1.0   \n",
      "1   sub-01  consonant_string         191.0    1.0        32.5     2.0   \n",
      "2   sub-01       jabberwocky         192.0    1.0        33.5     3.0   \n",
      "3   sub-01             probe         193.0    1.0        34.5     4.0   \n",
      "4   sub-01   pseudoword_list         194.0    1.0        35.5     5.0   \n",
      "..     ...               ...           ...    ...         ...     ...   \n",
      "79  sub-15       jabberwocky         192.0    1.0        33.5     3.0   \n",
      "80  sub-15             probe         193.0    1.0        34.5     4.0   \n",
      "81  sub-15   pseudoword_list         194.0    1.0        35.5     5.0   \n",
      "82  sub-15   simple_sentence         195.0    1.0        36.5     6.0   \n",
      "83  sub-15         word_list         196.0    1.0        37.5     7.0   \n",
      "\n",
      "           X         Y  label  \n",
      "0  -0.107489 -0.078778    1.0  \n",
      "1  -0.080986 -0.062907    1.0  \n",
      "2  -0.122244 -0.083608    1.0  \n",
      "3  -0.194800 -0.021087    1.0  \n",
      "4  -0.105407 -0.070299    1.0  \n",
      "..       ...       ...    ...  \n",
      "79 -0.005127 -0.047120    1.0  \n",
      "80  0.117444  0.036830    1.0  \n",
      "81  0.004883 -0.041780    1.0  \n",
      "82 -0.011797 -0.057059    1.0  \n",
      "83 -0.002330 -0.047162    1.0  \n",
      "\n",
      "[84 rows x 9 columns]\n"
     ]
    },
    {
     "name": "stderr",
     "output_type": "stream",
     "text": [
      "/tmp/ipykernel_50840/1158164050.py:4: FutureWarning: The default value of numeric_only in DataFrameGroupBy.mean is deprecated. In a future version, numeric_only will default to False. Either specify numeric_only or select only columns which should be valid for the function.\n",
      "  df_averaged = df.groupby(['sn', 'cond_name']).mean()\n"
     ]
    }
   ],
   "source": [
    "# load the dataframe for the whole \n",
    "df_path = os.path.join(language_dir, \"IBC/whole\", \"whole_ses-rsvplanguage.tsv\")\n",
    "df = pd.read_csv(df_path, sep=\"\\t\")\n",
    "df_averaged = df.groupby(['sn', 'cond_name']).mean()\n",
    "df_averaged = df_averaged.drop(columns=['half','res','coef','R2'])\n",
    "df_averaged = df_averaged.reset_index()\n",
    "\n",
    "\n",
    "print(df_averaged)"
   ]
  },
  {
   "cell_type": "code",
   "execution_count": 35,
   "metadata": {},
   "outputs": [
    {
     "name": "stderr",
     "output_type": "stream",
     "text": [
      "/tmp/ipykernel_50840/3647883168.py:11: FutureWarning: In a future version of pandas, a length 1 tuple will be returned when iterating over a groupby with a grouper equal to a list of length 1. Don't supply a list with a single grouper to avoid this warning.\n",
      "  for name, group in sn_groups:\n"
     ]
    },
    {
     "data": {
      "text/plain": [
       "<matplotlib.axes._subplots.AxesSubplot at 0x7f0220aedc40>"
      ]
     },
     "execution_count": 35,
     "metadata": {},
     "output_type": "execute_result"
    },
    {
     "data": {
      "image/png": "[encoded data removed]",
      "text/plain": [
       "<Figure size 640x480 with 1 Axes>"
      ]
     },
     "metadata": {},
     "output_type": "display_data"
    }
   ],
   "source": [
    "df_residuals = df_averaged.copy()\n",
    "\n",
    "#create new columns to store the slope and intercept\n",
    "df_residuals['slope'] = np.nan\n",
    "df_residuals['intercept'] = np.nan\n",
    "\n",
    "#group the dataframe by sn\n",
    "sn_groups = df_residuals.groupby(['sn'])\n",
    "\n",
    "#calculate slope and intercept for each subject\n",
    "for name, group in sn_groups:\n",
    "    # fit linear reg model\n",
    "    slope, intercept = np.polyfit(group['X'], group['Y'], 1)\n",
    "    # save values\n",
    "    df_residuals.loc[df_residuals['sn'] == name, 'slope'] = slope\n",
    "    df_residuals.loc[df_residuals['sn'] == name, 'intercept'] = intercept\n",
    "\n",
    "# calcualte each res\n",
    "for index, row in df_residuals.iterrows():\n",
    "\n",
    "    Y_pred = row['slope'] * row['X'] + row['intercept']\n",
    "\n",
    "    res = row['Y'] - Y_pred\n",
    "\n",
    "    df_residuals.loc[index, 'Y_pred'] = Y_pred\n",
    "    df_residuals.loc[index, 'res'] = res\n",
    "\n",
    "sns.barplot(data=df_residuals,x='cond_name',y='res')"
   ]
  },
  {
   "cell_type": "code",
   "execution_count": null,
   "metadata": {},
   "outputs": [],
   "source": [
    "# prepare df for plotting\n",
    "# by setting non-numeric fields to 'first', we make sure that they are not removed from the final dataframe\n",
    "agg_kw= {'cond_name': 'first', 'X': np.mean, 'Y': np.mean, 'res': np.mean}\n",
    "df_preped = prep_df(df_averaged, groupby = \"cond_name\", agg_kw=agg_kw)\n"
   ]
  },
  {
   "cell_type": "code",
   "execution_count": 34,
   "metadata": {},
   "outputs": [
    {
     "data": {
      "image/png": "[encoded data removed]",
      "text/plain": [
       "<Figure size 579.375x400 with 1 Axes>"
      ]
     },
     "metadata": {},
     "output_type": "display_data"
    }
   ],
   "source": [
    "make_plot(df_preped, hue = \"cond_name\", style = \"cond_name\", height = 4, aspect = 1)"
   ]
  },
  {
   "cell_type": "code",
   "execution_count": 27,
   "metadata": {},
   "outputs": [
    {
     "name": "stdout",
     "output_type": "stream",
     "text": [
      "                 Anova\n",
      "=======================================\n",
      "          F Value Num DF  Den DF Pr > F\n",
      "---------------------------------------\n",
      "cond_name  2.1502 6.0000 66.0000 0.0591\n",
      "=======================================\n",
      "\n"
     ]
    }
   ],
   "source": [
    "# need to pass on aggregate_func to aggregate over the two halved (see half column in the original dataframe)\n",
    "print(AnovaRM(data=conditions_df, depvar='res',\n",
    "              subject='sn', within=['cond_name'], aggregate_func = np.mean).fit())"
   ]
  },
  {
   "cell_type": "markdown",
   "metadata": {},
   "source": [
    "# Investigate further through ttests"
   ]
  },
  {
   "cell_type": "markdown",
   "metadata": {},
   "source": [
    "complex_sentence > jabberwocky:"
   ]
  },
  {
   "cell_type": "code",
   "execution_count": 29,
   "metadata": {},
   "outputs": [
    {
     "name": "stdout",
     "output_type": "stream",
     "text": [
      "ttest between complex_sentence and jaberwocky, t = -2.9744949011544213 and p=0.012643335177323127\n",
      "1samp ttest complex_sentence t is-2.9513774707956033 and p is0.01317689691655718\n",
      "1samp ttest jabberwocky t is0.2899252540062735 and p is0.7772656172293068\n"
     ]
    }
   ],
   "source": [
    "#prep dataframe/table for ttest\n",
    "D1 = df.loc[(df['cond_name']== 'complex_sentence') | (df['cond_name']== 'jabberwocky')]\n",
    "dd1= pd.pivot_table(D1, values = 'res', index = 'sn', columns = ['cond_name'], aggfunc= np.mean)\n",
    "\n",
    "#ttest\n",
    "t,p=ttest_rel(dd1.complex_sentence,dd1.jabberwocky)\n",
    "print(f'ttest between complex_sentence and jaberwocky, t = {t} and p={p}')\n",
    "\n",
    "#1samp\n",
    "t1,p1=ttest_1samp(dd1.complex_sentence,0)\n",
    "print(f'1samp ttest complex_sentence t is{t1} and p is{p1}')\n",
    "\n",
    "t2,p2=ttest_1samp(dd1.jabberwocky,0)\n",
    "print(f'1samp ttest jabberwocky t is{t2} and p is{p2}')\n"
   ]
  },
  {
   "cell_type": "markdown",
   "metadata": {},
   "source": [
    "complex_sentence > simple_sentence:"
   ]
  },
  {
   "cell_type": "code",
   "execution_count": 12,
   "metadata": {},
   "outputs": [
    {
     "name": "stdout",
     "output_type": "stream",
     "text": [
      "ttest between complex_sentence and simple_sentence, t = -0.8780437423411154 and p=0.39869268371657507\n"
     ]
    }
   ],
   "source": [
    "#prep dataframe/table for ttest\n",
    "D1 = df.loc[(df['cond_name']== 'complex_sentence') | (df['cond_name']== 'simple_sentence')]\n",
    "dd1= pd.pivot_table(D1, values = 'res', index = 'sn', columns = ['cond_name'], aggfunc= np.mean)\n",
    "\n",
    "#ttest\n",
    "t,p=ttest_rel(dd1.complex_sentence,dd1.simple_sentence)\n",
    "print(f'ttest between complex_sentence and simple_sentence, t = {t} and p={p}')"
   ]
  },
  {
   "cell_type": "markdown",
   "metadata": {},
   "source": [
    "word_list > pseudoword_list:"
   ]
  },
  {
   "cell_type": "code",
   "execution_count": 30,
   "metadata": {},
   "outputs": [
    {
     "name": "stdout",
     "output_type": "stream",
     "text": [
      "ttest between word_list and pseudoword_list, t = -1.718737719067507 and p=0.11364036959030252\n",
      "1samp ttest word_list t is-1.495258182448424 and p is0.1629727685804352\n",
      "1samp ttest pseudoword_list t is-0.43745448499480555 and p is0.6702465580110808\n"
     ]
    }
   ],
   "source": [
    "#prep dataframe/table for ttest\n",
    "D1 = df.loc[(df['cond_name']== 'word_list') | (df['cond_name']== 'pseudoword_list')]\n",
    "dd1= pd.pivot_table(D1, values = 'res', index = 'sn', columns = ['cond_name'], aggfunc= np.mean)\n",
    "\n",
    "#ttest\n",
    "t,p=ttest_rel(dd1.word_list,dd1.pseudoword_list)\n",
    "print(f'ttest between word_list and pseudoword_list, t = {t} and p={p}')\n",
    "\n",
    "#1samp\n",
    "t1,p1=ttest_1samp(dd1.word_list,0)\n",
    "print(f'1samp ttest word_list t is{t1} and p is{p1}')\n",
    "\n",
    "t2,p2=ttest_1samp(dd1.pseudoword_list,0)\n",
    "print(f'1samp ttest pseudoword_list t is{t2} and p is{p2}')"
   ]
  },
  {
   "cell_type": "markdown",
   "metadata": {},
   "source": [
    "word_list > consonant_string:"
   ]
  },
  {
   "cell_type": "code",
   "execution_count": 31,
   "metadata": {},
   "outputs": [
    {
     "name": "stdout",
     "output_type": "stream",
     "text": [
      "ttest between word_list and consonant_string, t = -1.3336899006112497 and p=0.2092630636285431\n"
     ]
    }
   ],
   "source": [
    "#prep dataframe/table for ttest\n",
    "D1 = df.loc[(df['cond_name']== 'word_list') | (df['cond_name']== 'consonant_string')]\n",
    "dd1= pd.pivot_table(D1, values = 'res', index = 'sn', columns = ['cond_name'], aggfunc= np.mean)\n",
    "\n",
    "#ttest\n",
    "t,p=ttest_rel(dd1.word_list,dd1.consonant_string)\n",
    "print(f'ttest between word_list and consonant_string, t = {t} and p={p}')"
   ]
  },
  {
   "cell_type": "markdown",
   "metadata": {},
   "source": [
    "simple_sentence > word_list:"
   ]
  },
  {
   "cell_type": "code",
   "execution_count": 32,
   "metadata": {},
   "outputs": [
    {
     "name": "stdout",
     "output_type": "stream",
     "text": [
      "ttest between word_list and simple_sentence, t = -0.03550986910786334 and p=0.972309377930969\n"
     ]
    }
   ],
   "source": [
    "#prep dataframe/table for ttest\n",
    "D1 = df.loc[(df['cond_name']== 'word_list') | (df['cond_name']== 'simple_sentence')]\n",
    "dd1= pd.pivot_table(D1, values = 'res', index = 'sn', columns = ['cond_name'], aggfunc= np.mean)\n",
    "\n",
    "#ttest\n",
    "t,p=ttest_rel(dd1.word_list,dd1.simple_sentence)\n",
    "print(f'ttest between word_list and simple_sentence, t = {t} and p={p}')"
   ]
  }
 ],
 "metadata": {
  "interpreter": {
   "hash": "916dbcbb3f70747c44a77c7bcd40155683ae19c65e1c03b4aa3499c5328201f1"
  },
  "kernelspec": {
   "display_name": "Python 3.8.10 64-bit",
   "language": "python",
   "name": "python3"
  },
  "language_info": {
   "codemirror_mode": {
    "name": "ipython",
    "version": 3
   },
   "file_extension": ".py",
   "mimetype": "text/x-python",
   "name": "python",
   "nbconvert_exporter": "python",
   "pygments_lexer": "ipython3",
   "version": "3.8.10"
  },
  "orig_nbformat": 4
 },
 "nbformat": 4,
 "nbformat_minor": 2
}
