{
 "cells": [
  {
   "cell_type": "code",
   "execution_count": 1,
   "metadata": {},
   "outputs": [
    {
     "name": "stderr",
     "output_type": "stream",
     "text": [
      "/Users/lshahsha/Documents/GitHub/selective_recruitment/.sr-venv/lib/python3.9/site-packages/urllib3/__init__.py:34: NotOpenSSLWarning: urllib3 v2 only supports OpenSSL 1.1.1+, currently the 'ssl' module is compiled with 'LibreSSL 2.8.3'. See: https://github.com/urllib3/urllib3/issues/3020\n",
      "  warnings.warn(\n"
     ]
    }
   ],
   "source": [
    "from selective_recruitment.plotting import make_scatterplot\n",
    "from selective_recruitment.scripts.script_mapwise import calc_ttest_mean\n",
    "from selective_recruitment.scripts.script_roi_differences import norm_within_category # for results after normalization\n",
    "import selective_recruitment.data as ss\n",
    "import selective_recruitment.regress as ra\n",
    "import selective_recruitment.region as sroi\n",
    "import selective_recruitment.globals as gl\n",
    "\n",
    "import Functional_Fusion.dataset as ds\n",
    "\n",
    "from statsmodels.stats.anova import AnovaRM  # perform F test\n",
    "from scipy.stats import ttest_rel\n",
    "\n",
    "from pathlib import Path\n",
    "import pandas as pd\n",
    "import numpy as np\n",
    "import nitools as nt\n",
    "import nibabel as nb\n",
    "\n",
    "import matplotlib.pyplot as plt"
   ]
  },
  {
   "cell_type": "code",
   "execution_count": 2,
   "metadata": {},
   "outputs": [],
   "source": [
    "# setting working directory\n",
    "wkdir = 'A:\\data\\Cerebellum\\CerebellumWorkingMemory\\selective_recruit'\n",
    "if not Path(wkdir).exists():\n",
    "    wkdir = '/srv/diedrichsen/data/Cerebellum/CerebellumWorkingMemory/selective_recruit'\n",
    "if not Path(wkdir).exists():\n",
    "    wkdir = '/Users/jdiedrichsen/Data/wm_cerebellum/selective_recruit'\n",
    "if not Path(wkdir).exists():\n",
    "    wkdir = '/Volumes/diedrichsen_data$/data/Cerebellum/CerebellumWorkingMemory/selective_recruit'"
   ]
  },
  {
   "cell_type": "markdown",
   "metadata": {},
   "source": [
    "# Reporting stats within M1 and S1 in the cortex"
   ]
  },
  {
   "cell_type": "code",
   "execution_count": 16,
   "metadata": {},
   "outputs": [],
   "source": [
    "# # get the tensor data\n",
    "# tensor,info,dset = ds.get_dataset(gl.base_dir,\n",
    "#                                   dataset='WMFS',\n",
    "#                                   atlas=\"fs32k\",\n",
    "#                                   sess=\"ses-01\",\n",
    "#                                   subj=None,\n",
    "#                                   type = \"CondAll\")"
   ]
  },
  {
   "cell_type": "code",
   "execution_count": 29,
   "metadata": {},
   "outputs": [],
   "source": [
    "# # get the average within each roi\n",
    "# D = ss.average_rois(tensor,\n",
    "#                 info,\n",
    "#                 atlas_space = \"fs32k\",\n",
    "#                 atlas_roi = \"ROI.32k\",\n",
    "#                 roi_selected = None,\n",
    "#                 unite_struct = False,\n",
    "#                 space = \"fs32k\", \n",
    "#                 var = \"X\")\n",
    "\n",
    "# # save the data\n",
    "# D.to_csv(Path(wkdir) / \"fs_ROI.32k_df.csv\")\n",
    "# load the data\n",
    "D = pd.read_csv(Path(wkdir) / \"fs_ROI.32k_df.csv\")"
   ]
  },
  {
   "cell_type": "code",
   "execution_count": 40,
   "metadata": {},
   "outputs": [
    {
     "name": "stdout",
     "output_type": "stream",
     "text": [
      "TtestResult(statistic=9.411377233242003, pvalue=1.1033193516998997e-07, df=15)\n",
      "TtestResult(statistic=8.289784235780802, pvalue=5.540539291688152e-07, df=15)\n"
     ]
    }
   ],
   "source": [
    "# get regions in left hemisphere that are M1 and S1\n",
    "DD = D.loc[D.roi_name.str.contains(\"L_M1\") | D.roi_name.str.contains(\"L_S1\")]\n",
    "\n",
    "# pivot table with subjects as rows and conditions as columns\n",
    "A = DD.pivot_table(index=\"sn\",columns=\"cond_name\",values=\"X\")\n",
    "\n",
    "# delete the spaces from the end of the condition names\n",
    "A.columns = A.columns.str.strip()\n",
    "# one sample t test for each condition\n",
    "print(ttest_rel(A[\"HL\"],np.zeros(len(A[\"HL\"]))))\n",
    "print(ttest_rel(A[\"LH\"],np.zeros(len(A[\"LH\"]))))"
   ]
  },
  {
   "cell_type": "markdown",
   "metadata": {},
   "source": [
    "# Reporting stats within right hand area in the cerebellum "
   ]
  },
  {
   "cell_type": "code",
   "execution_count": 41,
   "metadata": {},
   "outputs": [],
   "source": [
    "# # get the tensor data\n",
    "# tensor,info,dset = ds.get_dataset(gl.base_dir,\n",
    "#                                   dataset='WMFS',\n",
    "#                                   atlas=\"SUIT3\",\n",
    "#                                   sess=\"ses-01\",\n",
    "#                                   subj=None,\n",
    "#                                   type = \"CondAll\")"
   ]
  },
  {
   "cell_type": "code",
   "execution_count": 42,
   "metadata": {},
   "outputs": [],
   "source": [
    "# # get the average within each roi\n",
    "# D = ss.average_rois(tensor,\n",
    "#                 info,\n",
    "#                 atlas_space = \"SUIT3\",\n",
    "#                 atlas_roi = \"NettekovenSym32\",\n",
    "#                 roi_selected = None,\n",
    "#                 unite_struct = False,\n",
    "#                 space = \"SUIT\", \n",
    "#                 var = \"Y\")\n",
    "\n",
    "# # save the data\n",
    "# D.to_csv(Path(wkdir) / \"fs_NettekovenSym32_df.csv\")\n",
    "# load the data\n",
    "D = pd.read_csv(Path(wkdir) / \"fs_NettekovenSym32_df.csv\")"
   ]
  },
  {
   "cell_type": "code",
   "execution_count": 44,
   "metadata": {},
   "outputs": [
    {
     "name": "stdout",
     "output_type": "stream",
     "text": [
      "TtestResult(statistic=14.21241501461633, pvalue=4.1465064807941226e-10, df=15)\n",
      "TtestResult(statistic=7.608380678620137, pvalue=1.588812505038675e-06, df=15)\n"
     ]
    }
   ],
   "source": [
    "# get regions in left hemisphere that are M1 and S1\n",
    "DD = D.loc[D.roi_name.str.contains(\"M3R\")]\n",
    "\n",
    "# pivot table with subjects as rows and conditions as columns\n",
    "A = DD.pivot_table(index=\"sn\",columns=\"cond_name\",values=\"Y\")\n",
    "\n",
    "# delete the spaces from the end of the condition names\n",
    "A.columns = A.columns.str.strip()\n",
    "# one sample t test for each condition\n",
    "print(ttest_rel(A[\"HL\"],np.zeros(len(A[\"HL\"]))))\n",
    "print(ttest_rel(A[\"LH\"],np.zeros(len(A[\"LH\"]))))"
   ]
  },
  {
   "cell_type": "code",
   "execution_count": null,
   "metadata": {},
   "outputs": [],
   "source": []
  }
 ],
 "metadata": {
  "kernelspec": {
   "display_name": ".sr-venv",
   "language": "python",
   "name": "python3"
  },
  "language_info": {
   "codemirror_mode": {
    "name": "ipython",
    "version": 3
   },
   "file_extension": ".py",
   "mimetype": "text/x-python",
   "name": "python",
   "nbconvert_exporter": "python",
   "pygments_lexer": "ipython3",
   "version": "3.9.6"
  }
 },
 "nbformat": 4,
 "nbformat_minor": 2
}
